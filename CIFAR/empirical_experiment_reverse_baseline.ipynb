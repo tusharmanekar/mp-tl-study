{
 "cells": [
  {
   "cell_type": "markdown",
   "metadata": {},
   "source": [
    "# Example for:\n",
    "Transfer Learning Empirical Experiment from Vehicles (pretraining) to Animals (finetuning) classes of CIFAR"
   ]
  },
  {
   "cell_type": "markdown",
   "metadata": {},
   "source": [
    "### Setup and Hyperparams"
   ]
  },
  {
   "cell_type": "code",
   "execution_count": 1,
   "metadata": {},
   "outputs": [],
   "source": [
    "# Specify which gpu\n",
    "import os\n",
    "gpu_id = 0\n",
    "os.environ[\"CUDA_VISIBLE_DEVICES\"] = str(gpu_id)\n",
    "\n",
    "import sys\n",
    "sys.path.append('/home/arnisaf/mp-tl-study')\n",
    "from functions.utils import *\n",
    "\n",
    "# device = torch.device(\"cuda\" if torch.cuda.is_available() else \"mps\")\n",
    "device = torch.device(\"cuda\" if torch.cuda.is_available() else \"cpu\")\n",
    "\n",
    "np.random.seed(0)\n",
    "torch.manual_seed(0)\n",
    "torch.backends.cudnn.deterministic = True\n",
    "torch.backends.cudnn.benchmark = False\n",
    "if torch.cuda.is_available():\n",
    "    torch.cuda.manual_seed(0)\n",
    "    torch.cuda.manual_seed_all(0)  # if using multi-GPU"
   ]
  },
  {
   "cell_type": "code",
   "execution_count": 2,
   "metadata": {},
   "outputs": [],
   "source": [
    "# cuts=0 means: end-to-end model if we are reinitializing\n",
    "cuts = [0,1,2,3,4,5,6]"
   ]
  },
  {
   "cell_type": "code",
   "execution_count": 3,
   "metadata": {
    "metadata": {}
   },
   "outputs": [],
   "source": [
    "# Changes Here for the experiments\n",
    "params = {\n",
    "      # MODEL ARCHITECTURE PARAMS\n",
    "      'depth': 6,\n",
    "      'num_channels': 64,\n",
    "      'width':64,\n",
    "      # 'hidden_dim_lin': 128,\n",
    "      'activation_function': nn.ReLU,\n",
    "      'kernel_size': 3,\n",
    "      # TRAINING PARAMS\n",
    "      'device': device,\n",
    "      'lr_pretrain': 0.001,   \n",
    "      'lr_fine_tune': 0.001,  # CHANGE: if no layer-wise lr\n",
    "      # 'lr_fine_tune_reinit': 0.001,         # CHANGE: if no layer-wise lr\n",
    "      # 'lr_fine_tune_no_reinit': 0.0001,     # CHANGE: if layer-wise lr\n",
    "      'num_train': 10,\n",
    "      'early_stop_patience': 5,\n",
    "      'save_best': False,\n",
    "      'save_checkpoints': False,\n",
    "      'is_cnn': True,\n",
    "      'is_debug': False,\n",
    "      'classification_report_flag': False,\n",
    "      'batch_size':64,\n",
    "      # DATASET PARAMS\n",
    "      'pre_train_classes': [2, 3, 4, 5, 6, 7],\n",
    "      'fine_tune_classes': [0, 1, 8, 9],\n",
    "      'val_split': 0.1,\n",
    "      'num_workers': 0,\n",
    "      'generate_dataset_seed': 42,\n",
    "      # EXPERIMENT SETTING PARAMS\n",
    "      'use_pooling': True,   # CHANGE\n",
    "      'pooling_every_n_layers': 2, # add pooling after every n layers specified here. For only one pooling after all the CNN layers, this equals params['depth']\n",
    "      'pooling_stride': 2,\n",
    "      'freeze': True,         # CHANGE: freeze the conv layers before the cut\n",
    "      'reinit': True,         # CHANGE: reinit the conv lyers only after the cut\n",
    "      'reinit_both_dense': True,   # CHANGE: True for reinitialize both dense layers, False for reinit only the last dense layer\n",
    "      'truncate': False\n",
    "    }"
   ]
  },
  {
   "cell_type": "code",
   "execution_count": 4,
   "metadata": {
    "metadata": {}
   },
   "outputs": [
    {
     "name": "stdout",
     "output_type": "stream",
     "text": [
      "Files already downloaded and verified\n",
      "Files already downloaded and verified\n",
      "Files already downloaded and verified\n",
      "Files already downloaded and verified\n"
     ]
    }
   ],
   "source": [
    "root_dir = './data'  # Specify your data directory here\n",
    "transform=transforms.Compose([\n",
    "                transforms.ToTensor(),\n",
    "                transforms.Normalize((0.5, 0.5, 0.5), (0.5, 0.5, 0.5)),\n",
    "            ])\n",
    "dataloader_wrapped = TransferLearningWrapper(params, datasets.CIFAR10, datasets.CIFAR10, root_dir, transform=transform)"
   ]
  },
  {
   "cell_type": "code",
   "execution_count": 5,
   "metadata": {},
   "outputs": [
    {
     "data": {
      "text/plain": [
       "27000"
      ]
     },
     "execution_count": 5,
     "metadata": {},
     "output_type": "execute_result"
    }
   ],
   "source": [
    "dataloader_wrapped.pretrain_train_loader.dataset.__len__()"
   ]
  },
  {
   "cell_type": "markdown",
   "metadata": {},
   "source": [
    "## Pretraining"
   ]
  },
  {
   "cell_type": "code",
   "execution_count": 6,
   "metadata": {
    "metadata": {}
   },
   "outputs": [
    {
     "data": {
      "text/plain": [
       "CustomCNN(\n",
       "  (conv0): Conv2d(3, 64, kernel_size=(3, 3), stride=(1, 1), padding=(1, 1))\n",
       "  (act0): ReLU()\n",
       "  (conv1): Conv2d(64, 64, kernel_size=(3, 3), stride=(1, 1), padding=(1, 1))\n",
       "  (act1): ReLU()\n",
       "  (pool1): AvgPool2d(kernel_size=2, stride=2, padding=0)\n",
       "  (conv2): Conv2d(64, 64, kernel_size=(3, 3), stride=(1, 1), padding=(1, 1))\n",
       "  (act2): ReLU()\n",
       "  (conv3): Conv2d(64, 64, kernel_size=(3, 3), stride=(1, 1), padding=(1, 1))\n",
       "  (act3): ReLU()\n",
       "  (pool3): AvgPool2d(kernel_size=2, stride=2, padding=0)\n",
       "  (conv4): Conv2d(64, 64, kernel_size=(3, 3), stride=(1, 1), padding=(1, 1))\n",
       "  (act4): ReLU()\n",
       "  (conv5): Conv2d(64, 64, kernel_size=(3, 3), stride=(1, 1), padding=(1, 1))\n",
       "  (act5): ReLU()\n",
       "  (pool5): AvgPool2d(kernel_size=2, stride=2, padding=0)\n",
       "  (fc): Linear(in_features=1024, out_features=6, bias=True)\n",
       ")"
      ]
     },
     "execution_count": 6,
     "metadata": {},
     "output_type": "execute_result"
    }
   ],
   "source": [
    "pretrained_model = CustomCNN(params, dataloader_wrapped.output_dim, tuple(dataloader_wrapped.finetune_test_loader.dataset[0][0].shape))\n",
    "pretrained_model.to(device)"
   ]
  },
  {
   "cell_type": "code",
   "execution_count": 7,
   "metadata": {
    "metadata": {}
   },
   "outputs": [
    {
     "name": "stdout",
     "output_type": "stream",
     "text": [
      "Epoch: 0 \tTraining Accuracy: 46.32%\n",
      "Validation Accuracy: 44.77%\n",
      "Epoch: 1 \tTraining Accuracy: 55.19%\n",
      "Validation Accuracy: 53.07%\n",
      "Epoch: 2 \tTraining Accuracy: 62.42%\n",
      "Validation Accuracy: 59.77%\n",
      "Epoch: 3 \tTraining Accuracy: 67.20%\n",
      "Validation Accuracy: 63.07%\n",
      "Epoch: 4 \tTraining Accuracy: 70.06%\n",
      "Validation Accuracy: 65.37%\n",
      "Epoch: 5 \tTraining Accuracy: 73.70%\n",
      "Validation Accuracy: 68.43%\n",
      "Epoch: 6 \tTraining Accuracy: 75.85%\n",
      "Validation Accuracy: 69.23%\n",
      "Epoch: 7 \tTraining Accuracy: 77.35%\n",
      "Validation Accuracy: 70.67%\n",
      "Epoch: 8 \tTraining Accuracy: 78.44%\n",
      "Validation Accuracy: 70.43%\n",
      "Epoch: 9 \tTraining Accuracy: 81.73%\n",
      "Validation Accuracy: 72.67%\n",
      "Final Training Accuracy: 0.8173\n",
      "Final Test Accuracy: 0.8083\n"
     ]
    }
   ],
   "source": [
    "# Train and evaluate - Skip if loading saved model!\n",
    "trainer = Trainer(pretrained_model, dataloader_wrapped, params[\"lr_pretrain\"], params)\n",
    "train_acc, test_acc, effective_epochs, checkpoints = trainer.train()\n",
    "\n",
    "print(f\"Final Training Accuracy: {train_acc:.4f}\")\n",
    "print(f\"Final Test Accuracy: {test_acc:.4f}\")"
   ]
  },
  {
   "cell_type": "code",
   "execution_count": 9,
   "metadata": {},
   "outputs": [],
   "source": [
    "torch.save(pretrained_model.state_dict(), 'pretrained_models/pretrained_model_animals/pretrained_model_animals_new.pth')"
   ]
  },
  {
   "cell_type": "code",
   "execution_count": 10,
   "metadata": {},
   "outputs": [
    {
     "data": {
      "text/plain": [
       "CustomCNN(\n",
       "  (conv0): Conv2d(3, 64, kernel_size=(3, 3), stride=(1, 1), padding=(1, 1))\n",
       "  (act0): ReLU()\n",
       "  (conv1): Conv2d(64, 64, kernel_size=(3, 3), stride=(1, 1), padding=(1, 1))\n",
       "  (act1): ReLU()\n",
       "  (pool1): AvgPool2d(kernel_size=2, stride=2, padding=0)\n",
       "  (conv2): Conv2d(64, 64, kernel_size=(3, 3), stride=(1, 1), padding=(1, 1))\n",
       "  (act2): ReLU()\n",
       "  (conv3): Conv2d(64, 64, kernel_size=(3, 3), stride=(1, 1), padding=(1, 1))\n",
       "  (act3): ReLU()\n",
       "  (pool3): AvgPool2d(kernel_size=2, stride=2, padding=0)\n",
       "  (conv4): Conv2d(64, 64, kernel_size=(3, 3), stride=(1, 1), padding=(1, 1))\n",
       "  (act4): ReLU()\n",
       "  (conv5): Conv2d(64, 64, kernel_size=(3, 3), stride=(1, 1), padding=(1, 1))\n",
       "  (act5): ReLU()\n",
       "  (pool5): AvgPool2d(kernel_size=2, stride=2, padding=0)\n",
       "  (fc): Linear(in_features=1024, out_features=6, bias=True)\n",
       ")"
      ]
     },
     "execution_count": 10,
     "metadata": {},
     "output_type": "execute_result"
    }
   ],
   "source": [
    "pretrained_model.load_state_dict(torch.load('pretrained_models/pretrained_model_animals/pretrained_model_animals_new.pth'))\n",
    "pretrained_model.to(device)"
   ]
  },
  {
   "cell_type": "code",
   "execution_count": 11,
   "metadata": {},
   "outputs": [
    {
     "name": "stdout",
     "output_type": "stream",
     "text": [
      "\n",
      "Average loss: 0.5366, Accuracy: 24248.0/30000 (81%)\n",
      "\n",
      "              precision    recall  f1-score   support\n",
      "\n",
      "     Class 0       0.84      0.80      0.82      5000\n",
      "     Class 1       0.65      0.80      0.72      5000\n",
      "     Class 2       0.85      0.80      0.82      5000\n",
      "     Class 3       0.82      0.70      0.76      5000\n",
      "     Class 4       0.82      0.93      0.87      5000\n",
      "     Class 5       0.94      0.83      0.88      5000\n",
      "\n",
      "    accuracy                           0.81     30000\n",
      "   macro avg       0.82      0.81      0.81     30000\n",
      "weighted avg       0.82      0.81      0.81     30000\n",
      "\n"
     ]
    },
    {
     "data": {
      "text/plain": [
       "0.8082666666666667"
      ]
     },
     "execution_count": 11,
     "metadata": {},
     "output_type": "execute_result"
    }
   ],
   "source": [
    "eval(pretrained_model, device, dataloader_wrapped.test_loader, debug=True, classification_report_flag=True, is_cnn=True)"
   ]
  },
  {
   "cell_type": "markdown",
   "metadata": {},
   "source": [
    "## Fine-tuning Experiments"
   ]
  },
  {
   "cell_type": "markdown",
   "metadata": {},
   "source": [
    "### Baselines (End-to-end models trained on subsets of fine-tuning dataset)\n",
    "We also reuse the baselines a lot! so skip if we already have the jsons"
   ]
  },
  {
   "cell_type": "code",
   "execution_count": 12,
   "metadata": {},
   "outputs": [],
   "source": [
    "baselines_results = []\n",
    "percentages = [0.001, 0.01, 0.1, 0.5, 1.0]"
   ]
  },
  {
   "cell_type": "code",
   "execution_count": 13,
   "metadata": {},
   "outputs": [
    {
     "name": "stdout",
     "output_type": "stream",
     "text": [
      "\n",
      "Sampled Percentage: 0.001, Lr: 0.001, Repeat: 0\n",
      "Early stopping invoked.\n",
      "Training Accuracy: 0.3750, Test Accuracy: 0.2961\n",
      "\n",
      "Sampled Percentage: 0.001, Lr: 0.001, Repeat: 1\n",
      "Early stopping invoked.\n",
      "Training Accuracy: 0.4375, Test Accuracy: 0.3585\n",
      "\n",
      "Sampled Percentage: 0.001, Lr: 0.001, Repeat: 2\n",
      "Training Accuracy: 0.7500, Test Accuracy: 0.3408\n",
      "\n",
      "Sampled Percentage: 0.001, Lr: 0.001, Repeat: 3\n",
      "Early stopping invoked.\n",
      "Training Accuracy: 0.7500, Test Accuracy: 0.3120\n",
      "\n",
      "Sampled Percentage: 0.001, Lr: 0.001, Repeat: 4\n",
      "Training Accuracy: 0.8125, Test Accuracy: 0.2421\n",
      "\n",
      "Sampled Percentage: 0.001, Lr: 0.001, Repeat: 5\n",
      "Training Accuracy: 0.6875, Test Accuracy: 0.2935\n",
      "\n",
      "Sampled Percentage: 0.001, Lr: 0.001, Repeat: 6\n",
      "Early stopping invoked.\n",
      "Training Accuracy: 0.6875, Test Accuracy: 0.3579\n",
      "\n",
      "Sampled Percentage: 0.001, Lr: 0.001, Repeat: 7\n",
      "Training Accuracy: 0.8125, Test Accuracy: 0.3997\n",
      "\n",
      "Sampled Percentage: 0.001, Lr: 0.001, Repeat: 8\n",
      "Training Accuracy: 0.7500, Test Accuracy: 0.3387\n",
      "\n",
      "Sampled Percentage: 0.001, Lr: 0.001, Repeat: 9\n",
      "Early stopping invoked.\n",
      "Training Accuracy: 0.3125, Test Accuracy: 0.2498\n",
      "\n",
      "Sampled Percentage: 0.001, Lr: 0.001, Repeat: 10\n",
      "Training Accuracy: 0.5000, Test Accuracy: 0.3524\n",
      "\n",
      "Sampled Percentage: 0.001, Lr: 0.001, Repeat: 11\n",
      "Training Accuracy: 0.7500, Test Accuracy: 0.3956\n",
      "\n",
      "Sampled Percentage: 0.001, Lr: 0.001, Repeat: 12\n",
      "Training Accuracy: 0.6250, Test Accuracy: 0.3300\n",
      "\n",
      "Sampled Percentage: 0.001, Lr: 0.001, Repeat: 13\n",
      "Training Accuracy: 0.6875, Test Accuracy: 0.3027\n",
      "\n",
      "Sampled Percentage: 0.001, Lr: 0.001, Repeat: 14\n",
      "Training Accuracy: 0.6250, Test Accuracy: 0.3735\n",
      "\n",
      "Sampled Percentage: 0.001, Lr: 0.001, Repeat: 15\n",
      "Training Accuracy: 0.6875, Test Accuracy: 0.3647\n",
      "\n",
      "Sampled Percentage: 0.001, Lr: 0.001, Repeat: 16\n",
      "Early stopping invoked.\n",
      "Training Accuracy: 0.3125, Test Accuracy: 0.2599\n",
      "\n",
      "Sampled Percentage: 0.001, Lr: 0.001, Repeat: 17\n",
      "Training Accuracy: 0.6250, Test Accuracy: 0.3569\n",
      "\n",
      "Sampled Percentage: 0.001, Lr: 0.001, Repeat: 18\n",
      "Early stopping invoked.\n",
      "Training Accuracy: 0.4375, Test Accuracy: 0.2974\n",
      "\n",
      "Sampled Percentage: 0.001, Lr: 0.001, Repeat: 19\n",
      "Training Accuracy: 0.6875, Test Accuracy: 0.3557\n",
      "\n",
      "Sampled Percentage: 0.001, Lr: 0.001, Repeat: 20\n",
      "Training Accuracy: 0.6875, Test Accuracy: 0.3248\n",
      "\n",
      "Sampled Percentage: 0.001, Lr: 0.001, Repeat: 21\n",
      "Training Accuracy: 0.5625, Test Accuracy: 0.3821\n",
      "\n",
      "Sampled Percentage: 0.001, Lr: 0.001, Repeat: 22\n",
      "Training Accuracy: 0.6875, Test Accuracy: 0.3800\n",
      "\n",
      "Sampled Percentage: 0.001, Lr: 0.001, Repeat: 23\n",
      "Training Accuracy: 0.6250, Test Accuracy: 0.2877\n",
      "\n",
      "Sampled Percentage: 0.001, Lr: 0.001, Repeat: 24\n",
      "Training Accuracy: 0.6250, Test Accuracy: 0.2782\n",
      "\n",
      "Sampled Percentage: 0.01, Lr: 0.001, Repeat: 0\n",
      "Training Accuracy: 0.4944, Test Accuracy: 0.4310\n",
      "\n",
      "Sampled Percentage: 0.01, Lr: 0.001, Repeat: 1\n",
      "Training Accuracy: 0.5778, Test Accuracy: 0.4603\n",
      "\n",
      "Sampled Percentage: 0.01, Lr: 0.001, Repeat: 2\n",
      "Training Accuracy: 0.5500, Test Accuracy: 0.4657\n",
      "\n",
      "Sampled Percentage: 0.01, Lr: 0.001, Repeat: 3\n",
      "Training Accuracy: 0.5222, Test Accuracy: 0.4199\n",
      "\n",
      "Sampled Percentage: 0.01, Lr: 0.001, Repeat: 4\n",
      "Training Accuracy: 0.4444, Test Accuracy: 0.4299\n",
      "\n",
      "Sampled Percentage: 0.01, Lr: 0.001, Repeat: 5\n",
      "Training Accuracy: 0.5222, Test Accuracy: 0.4342\n",
      "\n",
      "Sampled Percentage: 0.01, Lr: 0.001, Repeat: 6\n",
      "Training Accuracy: 0.5278, Test Accuracy: 0.4399\n",
      "\n",
      "Sampled Percentage: 0.01, Lr: 0.001, Repeat: 7\n",
      "Training Accuracy: 0.5833, Test Accuracy: 0.4708\n",
      "\n",
      "Sampled Percentage: 0.01, Lr: 0.001, Repeat: 8\n",
      "Early stopping invoked.\n",
      "Training Accuracy: 0.5111, Test Accuracy: 0.4637\n",
      "\n",
      "Sampled Percentage: 0.01, Lr: 0.001, Repeat: 9\n",
      "Early stopping invoked.\n",
      "Training Accuracy: 0.4667, Test Accuracy: 0.4363\n",
      "\n",
      "Sampled Percentage: 0.01, Lr: 0.001, Repeat: 10\n",
      "Early stopping invoked.\n",
      "Training Accuracy: 0.4556, Test Accuracy: 0.4447\n",
      "\n",
      "Sampled Percentage: 0.01, Lr: 0.001, Repeat: 11\n",
      "Early stopping invoked.\n",
      "Training Accuracy: 0.4556, Test Accuracy: 0.4471\n",
      "\n",
      "Sampled Percentage: 0.01, Lr: 0.001, Repeat: 12\n",
      "Early stopping invoked.\n",
      "Training Accuracy: 0.5056, Test Accuracy: 0.4514\n",
      "\n",
      "Sampled Percentage: 0.01, Lr: 0.001, Repeat: 13\n",
      "Training Accuracy: 0.5000, Test Accuracy: 0.4808\n",
      "\n",
      "Sampled Percentage: 0.01, Lr: 0.001, Repeat: 14\n",
      "Training Accuracy: 0.5556, Test Accuracy: 0.4560\n",
      "\n",
      "Sampled Percentage: 0.01, Lr: 0.001, Repeat: 15\n",
      "Training Accuracy: 0.5667, Test Accuracy: 0.4475\n",
      "\n",
      "Sampled Percentage: 0.01, Lr: 0.001, Repeat: 16\n",
      "Training Accuracy: 0.5556, Test Accuracy: 0.4603\n",
      "\n",
      "Sampled Percentage: 0.01, Lr: 0.001, Repeat: 17\n",
      "Training Accuracy: 0.5500, Test Accuracy: 0.4613\n",
      "\n",
      "Sampled Percentage: 0.01, Lr: 0.001, Repeat: 18\n",
      "Early stopping invoked.\n",
      "Training Accuracy: 0.4944, Test Accuracy: 0.4422\n",
      "\n",
      "Sampled Percentage: 0.01, Lr: 0.001, Repeat: 19\n",
      "Training Accuracy: 0.5500, Test Accuracy: 0.4561\n",
      "\n",
      "Sampled Percentage: 0.01, Lr: 0.001, Repeat: 20\n",
      "Training Accuracy: 0.5111, Test Accuracy: 0.4536\n",
      "\n",
      "Sampled Percentage: 0.01, Lr: 0.001, Repeat: 21\n",
      "Training Accuracy: 0.5778, Test Accuracy: 0.4491\n",
      "\n",
      "Sampled Percentage: 0.01, Lr: 0.001, Repeat: 22\n",
      "Training Accuracy: 0.5611, Test Accuracy: 0.4794\n",
      "\n",
      "Sampled Percentage: 0.01, Lr: 0.001, Repeat: 23\n",
      "Early stopping invoked.\n",
      "Training Accuracy: 0.4611, Test Accuracy: 0.4560\n",
      "\n",
      "Sampled Percentage: 0.01, Lr: 0.001, Repeat: 24\n",
      "Training Accuracy: 0.5333, Test Accuracy: 0.4667\n",
      "\n",
      "Sampled Percentage: 0.1, Lr: 0.001, Repeat: 0\n",
      "Training Accuracy: 0.6956, Test Accuracy: 0.6504\n",
      "\n",
      "Sampled Percentage: 0.1, Lr: 0.001, Repeat: 1\n",
      "Training Accuracy: 0.7156, Test Accuracy: 0.6391\n",
      "\n",
      "Sampled Percentage: 0.1, Lr: 0.001, Repeat: 2\n",
      "Training Accuracy: 0.7144, Test Accuracy: 0.6419\n",
      "\n",
      "Sampled Percentage: 0.1, Lr: 0.001, Repeat: 3\n",
      "Training Accuracy: 0.6983, Test Accuracy: 0.6496\n",
      "\n",
      "Sampled Percentage: 0.1, Lr: 0.001, Repeat: 4\n",
      "Training Accuracy: 0.7028, Test Accuracy: 0.6329\n",
      "\n",
      "Sampled Percentage: 0.1, Lr: 0.001, Repeat: 5\n",
      "Training Accuracy: 0.7106, Test Accuracy: 0.6449\n",
      "\n",
      "Sampled Percentage: 0.1, Lr: 0.001, Repeat: 6\n",
      "Training Accuracy: 0.6956, Test Accuracy: 0.6359\n",
      "\n",
      "Sampled Percentage: 0.1, Lr: 0.001, Repeat: 7\n",
      "Training Accuracy: 0.7022, Test Accuracy: 0.6487\n",
      "\n",
      "Sampled Percentage: 0.1, Lr: 0.001, Repeat: 8\n",
      "Training Accuracy: 0.6933, Test Accuracy: 0.6459\n",
      "\n",
      "Sampled Percentage: 0.1, Lr: 0.001, Repeat: 9\n",
      "Training Accuracy: 0.6861, Test Accuracy: 0.6249\n",
      "\n",
      "Sampled Percentage: 0.1, Lr: 0.001, Repeat: 10\n",
      "Training Accuracy: 0.6956, Test Accuracy: 0.6449\n",
      "\n",
      "Sampled Percentage: 0.1, Lr: 0.001, Repeat: 11\n",
      "Training Accuracy: 0.6856, Test Accuracy: 0.6222\n",
      "\n",
      "Sampled Percentage: 0.1, Lr: 0.001, Repeat: 12\n",
      "Training Accuracy: 0.7167, Test Accuracy: 0.6432\n",
      "\n",
      "Sampled Percentage: 0.1, Lr: 0.001, Repeat: 13\n",
      "Training Accuracy: 0.7306, Test Accuracy: 0.6614\n",
      "\n",
      "Sampled Percentage: 0.1, Lr: 0.001, Repeat: 14\n",
      "Training Accuracy: 0.6589, Test Accuracy: 0.6242\n",
      "\n",
      "Sampled Percentage: 0.1, Lr: 0.001, Repeat: 15\n",
      "Training Accuracy: 0.6822, Test Accuracy: 0.6337\n",
      "\n",
      "Sampled Percentage: 0.1, Lr: 0.001, Repeat: 16\n",
      "Training Accuracy: 0.6983, Test Accuracy: 0.6397\n",
      "\n",
      "Sampled Percentage: 0.1, Lr: 0.001, Repeat: 17\n",
      "Training Accuracy: 0.7050, Test Accuracy: 0.6434\n",
      "\n",
      "Sampled Percentage: 0.1, Lr: 0.001, Repeat: 18\n",
      "Training Accuracy: 0.6944, Test Accuracy: 0.6118\n",
      "\n",
      "Sampled Percentage: 0.1, Lr: 0.001, Repeat: 19\n",
      "Training Accuracy: 0.7467, Test Accuracy: 0.6640\n",
      "\n",
      "Sampled Percentage: 0.5, Lr: 0.001, Repeat: 0\n",
      "Training Accuracy: 0.9226, Test Accuracy: 0.8837\n",
      "\n",
      "Sampled Percentage: 0.5, Lr: 0.001, Repeat: 1\n",
      "Training Accuracy: 0.9216, Test Accuracy: 0.8831\n",
      "\n",
      "Sampled Percentage: 0.5, Lr: 0.001, Repeat: 2\n",
      "Training Accuracy: 0.9129, Test Accuracy: 0.8708\n",
      "\n",
      "Sampled Percentage: 0.5, Lr: 0.001, Repeat: 3\n",
      "Training Accuracy: 0.9030, Test Accuracy: 0.8696\n",
      "\n",
      "Sampled Percentage: 0.5, Lr: 0.001, Repeat: 4\n",
      "Training Accuracy: 0.9120, Test Accuracy: 0.8741\n",
      "\n",
      "Sampled Percentage: 1.0, Lr: 0.001, Repeat: 0\n",
      "Training Accuracy: 0.9508, Test Accuracy: 0.9441\n",
      "\n",
      "Sampled Percentage: 1.0, Lr: 0.001, Repeat: 1\n",
      "Training Accuracy: 0.9483, Test Accuracy: 0.9418\n",
      "\n",
      "Sampled Percentage: 1.0, Lr: 0.001, Repeat: 2\n",
      "Training Accuracy: 0.9488, Test Accuracy: 0.9431\n",
      "\n",
      "Sampled Percentage: 1.0, Lr: 0.001, Repeat: 3\n",
      "Training Accuracy: 0.9488, Test Accuracy: 0.9428\n",
      "\n",
      "Sampled Percentage: 1.0, Lr: 0.001, Repeat: 4\n",
      "Training Accuracy: 0.9573, Test Accuracy: 0.9505\n"
     ]
    }
   ],
   "source": [
    "dataloader_wrapped.update_phase('finetune')\n",
    "\n",
    "for sampled_percentage in percentages:      \n",
    "    if sampled_percentage <= 0.01:\n",
    "        repeats = 25\n",
    "    elif sampled_percentage < 0.5:\n",
    "        repeats = 20\n",
    "    else:\n",
    "        repeats = 5\n",
    "    \n",
    "    for repeat in range(repeats):\n",
    "        # Print or log the sampled values for transparency\n",
    "        print(f\"\\nSampled Percentage: {sampled_percentage}, Lr: {params['lr_fine_tune']}, Repeat: {repeat}\")\n",
    "\n",
    "        # Reduce the dataset\n",
    "        train_loader_reduced = reduce_dataset(dataloader_wrapped.train_loader, sampled_percentage, seed = repeat)\n",
    "        torch.manual_seed(repeat)\n",
    "        #train_loader_reduced = reduce_dataset(dataloader_wrapped.train_loader, sampled_percentage, seed = repeat)\n",
    "        dataset_namespace_new = SimpleNamespace(train_loader=train_loader_reduced, test_loader=dataloader_wrapped.test_loader, val_loader=dataloader_wrapped.val_loader)\n",
    "\n",
    "        # Copy and then cut the model - we already deepcopy it in the function: pretrained_model\n",
    "        params_tmp = copy.deepcopy(params)\n",
    "        params_tmp[\"reinit\"] = True\n",
    "        model_new = cut_custom_cnn_model(pretrained_model, cut_point=0, params=params_tmp, output_dim=dataloader_wrapped.output_dim)\n",
    "        model_new.to(device)\n",
    "\n",
    "        # Train and evaluate\n",
    "        trainer = Trainer(model_new, dataset_namespace_new, params['lr_fine_tune'], params)\n",
    "        train_acc, test_acc, effective_epochs, checkpoints = trainer.train(verbose=0)\n",
    "        print(f\"Training Accuracy: {train_acc:.4f}, Test Accuracy: {test_acc:.4f}\")\n",
    "\n",
    "        # Store the results\n",
    "        baselines_results.append({\"lr\":params['lr_fine_tune'], \"sampled_percentage\":sampled_percentage, \"sampled_cut_point\":-1, \"repeat\":repeat, \"train_acc\":train_acc, \"test_acc\":test_acc}) # -1 for the cut point means it's baseline"
   ]
  },
  {
   "cell_type": "code",
   "execution_count": 14,
   "metadata": {},
   "outputs": [
    {
     "name": "stdout",
     "output_type": "stream",
     "text": [
      "[{'lr': 0.001, 'sampled_percentage': 0.001, 'sampled_cut_point': -1, 'repeat': 0, 'train_acc': 0.375, 'test_acc': 0.2961}, {'lr': 0.001, 'sampled_percentage': 0.001, 'sampled_cut_point': -1, 'repeat': 1, 'train_acc': 0.4375, 'test_acc': 0.3585}, {'lr': 0.001, 'sampled_percentage': 0.001, 'sampled_cut_point': -1, 'repeat': 2, 'train_acc': 0.75, 'test_acc': 0.3408}, {'lr': 0.001, 'sampled_percentage': 0.001, 'sampled_cut_point': -1, 'repeat': 3, 'train_acc': 0.75, 'test_acc': 0.31205}, {'lr': 0.001, 'sampled_percentage': 0.001, 'sampled_cut_point': -1, 'repeat': 4, 'train_acc': 0.8125, 'test_acc': 0.2421}, {'lr': 0.001, 'sampled_percentage': 0.001, 'sampled_cut_point': -1, 'repeat': 5, 'train_acc': 0.6875, 'test_acc': 0.2935}, {'lr': 0.001, 'sampled_percentage': 0.001, 'sampled_cut_point': -1, 'repeat': 6, 'train_acc': 0.6875, 'test_acc': 0.35795}, {'lr': 0.001, 'sampled_percentage': 0.001, 'sampled_cut_point': -1, 'repeat': 7, 'train_acc': 0.8125, 'test_acc': 0.3997}, {'lr': 0.001, 'sampled_percentage': 0.001, 'sampled_cut_point': -1, 'repeat': 8, 'train_acc': 0.75, 'test_acc': 0.33875}, {'lr': 0.001, 'sampled_percentage': 0.001, 'sampled_cut_point': -1, 'repeat': 9, 'train_acc': 0.3125, 'test_acc': 0.2498}, {'lr': 0.001, 'sampled_percentage': 0.001, 'sampled_cut_point': -1, 'repeat': 10, 'train_acc': 0.5, 'test_acc': 0.3524}, {'lr': 0.001, 'sampled_percentage': 0.001, 'sampled_cut_point': -1, 'repeat': 11, 'train_acc': 0.75, 'test_acc': 0.39555}, {'lr': 0.001, 'sampled_percentage': 0.001, 'sampled_cut_point': -1, 'repeat': 12, 'train_acc': 0.625, 'test_acc': 0.33}, {'lr': 0.001, 'sampled_percentage': 0.001, 'sampled_cut_point': -1, 'repeat': 13, 'train_acc': 0.6875, 'test_acc': 0.3027}, {'lr': 0.001, 'sampled_percentage': 0.001, 'sampled_cut_point': -1, 'repeat': 14, 'train_acc': 0.625, 'test_acc': 0.3735}, {'lr': 0.001, 'sampled_percentage': 0.001, 'sampled_cut_point': -1, 'repeat': 15, 'train_acc': 0.6875, 'test_acc': 0.3647}, {'lr': 0.001, 'sampled_percentage': 0.001, 'sampled_cut_point': -1, 'repeat': 16, 'train_acc': 0.3125, 'test_acc': 0.2599}, {'lr': 0.001, 'sampled_percentage': 0.001, 'sampled_cut_point': -1, 'repeat': 17, 'train_acc': 0.625, 'test_acc': 0.3569}, {'lr': 0.001, 'sampled_percentage': 0.001, 'sampled_cut_point': -1, 'repeat': 18, 'train_acc': 0.4375, 'test_acc': 0.29735}, {'lr': 0.001, 'sampled_percentage': 0.001, 'sampled_cut_point': -1, 'repeat': 19, 'train_acc': 0.6875, 'test_acc': 0.35565}, {'lr': 0.001, 'sampled_percentage': 0.001, 'sampled_cut_point': -1, 'repeat': 20, 'train_acc': 0.6875, 'test_acc': 0.3248}, {'lr': 0.001, 'sampled_percentage': 0.001, 'sampled_cut_point': -1, 'repeat': 21, 'train_acc': 0.5625, 'test_acc': 0.38205}, {'lr': 0.001, 'sampled_percentage': 0.001, 'sampled_cut_point': -1, 'repeat': 22, 'train_acc': 0.6875, 'test_acc': 0.37995}, {'lr': 0.001, 'sampled_percentage': 0.001, 'sampled_cut_point': -1, 'repeat': 23, 'train_acc': 0.625, 'test_acc': 0.2877}, {'lr': 0.001, 'sampled_percentage': 0.001, 'sampled_cut_point': -1, 'repeat': 24, 'train_acc': 0.625, 'test_acc': 0.2782}, {'lr': 0.001, 'sampled_percentage': 0.01, 'sampled_cut_point': -1, 'repeat': 0, 'train_acc': 0.49444444444444446, 'test_acc': 0.431}, {'lr': 0.001, 'sampled_percentage': 0.01, 'sampled_cut_point': -1, 'repeat': 1, 'train_acc': 0.5777777777777777, 'test_acc': 0.46035}, {'lr': 0.001, 'sampled_percentage': 0.01, 'sampled_cut_point': -1, 'repeat': 2, 'train_acc': 0.55, 'test_acc': 0.4657}, {'lr': 0.001, 'sampled_percentage': 0.01, 'sampled_cut_point': -1, 'repeat': 3, 'train_acc': 0.5222222222222223, 'test_acc': 0.41995}, {'lr': 0.001, 'sampled_percentage': 0.01, 'sampled_cut_point': -1, 'repeat': 4, 'train_acc': 0.4444444444444444, 'test_acc': 0.42995}, {'lr': 0.001, 'sampled_percentage': 0.01, 'sampled_cut_point': -1, 'repeat': 5, 'train_acc': 0.5222222222222223, 'test_acc': 0.4342}, {'lr': 0.001, 'sampled_percentage': 0.01, 'sampled_cut_point': -1, 'repeat': 6, 'train_acc': 0.5277777777777778, 'test_acc': 0.4399}, {'lr': 0.001, 'sampled_percentage': 0.01, 'sampled_cut_point': -1, 'repeat': 7, 'train_acc': 0.5833333333333334, 'test_acc': 0.47085}, {'lr': 0.001, 'sampled_percentage': 0.01, 'sampled_cut_point': -1, 'repeat': 8, 'train_acc': 0.5111111111111111, 'test_acc': 0.4637}, {'lr': 0.001, 'sampled_percentage': 0.01, 'sampled_cut_point': -1, 'repeat': 9, 'train_acc': 0.4666666666666667, 'test_acc': 0.43625}, {'lr': 0.001, 'sampled_percentage': 0.01, 'sampled_cut_point': -1, 'repeat': 10, 'train_acc': 0.45555555555555555, 'test_acc': 0.44475}, {'lr': 0.001, 'sampled_percentage': 0.01, 'sampled_cut_point': -1, 'repeat': 11, 'train_acc': 0.45555555555555555, 'test_acc': 0.4471}, {'lr': 0.001, 'sampled_percentage': 0.01, 'sampled_cut_point': -1, 'repeat': 12, 'train_acc': 0.5055555555555555, 'test_acc': 0.4514}, {'lr': 0.001, 'sampled_percentage': 0.01, 'sampled_cut_point': -1, 'repeat': 13, 'train_acc': 0.5, 'test_acc': 0.48085}, {'lr': 0.001, 'sampled_percentage': 0.01, 'sampled_cut_point': -1, 'repeat': 14, 'train_acc': 0.5555555555555556, 'test_acc': 0.456}, {'lr': 0.001, 'sampled_percentage': 0.01, 'sampled_cut_point': -1, 'repeat': 15, 'train_acc': 0.5666666666666667, 'test_acc': 0.44745}, {'lr': 0.001, 'sampled_percentage': 0.01, 'sampled_cut_point': -1, 'repeat': 16, 'train_acc': 0.5555555555555556, 'test_acc': 0.46035}, {'lr': 0.001, 'sampled_percentage': 0.01, 'sampled_cut_point': -1, 'repeat': 17, 'train_acc': 0.55, 'test_acc': 0.46135}, {'lr': 0.001, 'sampled_percentage': 0.01, 'sampled_cut_point': -1, 'repeat': 18, 'train_acc': 0.49444444444444446, 'test_acc': 0.4422}, {'lr': 0.001, 'sampled_percentage': 0.01, 'sampled_cut_point': -1, 'repeat': 19, 'train_acc': 0.55, 'test_acc': 0.45605}, {'lr': 0.001, 'sampled_percentage': 0.01, 'sampled_cut_point': -1, 'repeat': 20, 'train_acc': 0.5111111111111111, 'test_acc': 0.45355}, {'lr': 0.001, 'sampled_percentage': 0.01, 'sampled_cut_point': -1, 'repeat': 21, 'train_acc': 0.5777777777777777, 'test_acc': 0.44915}, {'lr': 0.001, 'sampled_percentage': 0.01, 'sampled_cut_point': -1, 'repeat': 22, 'train_acc': 0.5611111111111111, 'test_acc': 0.47945}, {'lr': 0.001, 'sampled_percentage': 0.01, 'sampled_cut_point': -1, 'repeat': 23, 'train_acc': 0.46111111111111114, 'test_acc': 0.45595}, {'lr': 0.001, 'sampled_percentage': 0.01, 'sampled_cut_point': -1, 'repeat': 24, 'train_acc': 0.5333333333333333, 'test_acc': 0.46675}, {'lr': 0.001, 'sampled_percentage': 0.1, 'sampled_cut_point': -1, 'repeat': 0, 'train_acc': 0.6955555555555556, 'test_acc': 0.6504}, {'lr': 0.001, 'sampled_percentage': 0.1, 'sampled_cut_point': -1, 'repeat': 1, 'train_acc': 0.7155555555555555, 'test_acc': 0.63905}, {'lr': 0.001, 'sampled_percentage': 0.1, 'sampled_cut_point': -1, 'repeat': 2, 'train_acc': 0.7144444444444444, 'test_acc': 0.6419}, {'lr': 0.001, 'sampled_percentage': 0.1, 'sampled_cut_point': -1, 'repeat': 3, 'train_acc': 0.6983333333333334, 'test_acc': 0.64965}, {'lr': 0.001, 'sampled_percentage': 0.1, 'sampled_cut_point': -1, 'repeat': 4, 'train_acc': 0.7027777777777777, 'test_acc': 0.63285}, {'lr': 0.001, 'sampled_percentage': 0.1, 'sampled_cut_point': -1, 'repeat': 5, 'train_acc': 0.7105555555555556, 'test_acc': 0.6449}, {'lr': 0.001, 'sampled_percentage': 0.1, 'sampled_cut_point': -1, 'repeat': 6, 'train_acc': 0.6955555555555556, 'test_acc': 0.63585}, {'lr': 0.001, 'sampled_percentage': 0.1, 'sampled_cut_point': -1, 'repeat': 7, 'train_acc': 0.7022222222222222, 'test_acc': 0.6487}, {'lr': 0.001, 'sampled_percentage': 0.1, 'sampled_cut_point': -1, 'repeat': 8, 'train_acc': 0.6933333333333334, 'test_acc': 0.6459}, {'lr': 0.001, 'sampled_percentage': 0.1, 'sampled_cut_point': -1, 'repeat': 9, 'train_acc': 0.6861111111111111, 'test_acc': 0.6249}, {'lr': 0.001, 'sampled_percentage': 0.1, 'sampled_cut_point': -1, 'repeat': 10, 'train_acc': 0.6955555555555556, 'test_acc': 0.6449}, {'lr': 0.001, 'sampled_percentage': 0.1, 'sampled_cut_point': -1, 'repeat': 11, 'train_acc': 0.6855555555555556, 'test_acc': 0.6222}, {'lr': 0.001, 'sampled_percentage': 0.1, 'sampled_cut_point': -1, 'repeat': 12, 'train_acc': 0.7166666666666667, 'test_acc': 0.6432}, {'lr': 0.001, 'sampled_percentage': 0.1, 'sampled_cut_point': -1, 'repeat': 13, 'train_acc': 0.7305555555555555, 'test_acc': 0.6614}, {'lr': 0.001, 'sampled_percentage': 0.1, 'sampled_cut_point': -1, 'repeat': 14, 'train_acc': 0.6588888888888889, 'test_acc': 0.62425}, {'lr': 0.001, 'sampled_percentage': 0.1, 'sampled_cut_point': -1, 'repeat': 15, 'train_acc': 0.6822222222222222, 'test_acc': 0.63365}, {'lr': 0.001, 'sampled_percentage': 0.1, 'sampled_cut_point': -1, 'repeat': 16, 'train_acc': 0.6983333333333334, 'test_acc': 0.63965}, {'lr': 0.001, 'sampled_percentage': 0.1, 'sampled_cut_point': -1, 'repeat': 17, 'train_acc': 0.705, 'test_acc': 0.6434}, {'lr': 0.001, 'sampled_percentage': 0.1, 'sampled_cut_point': -1, 'repeat': 18, 'train_acc': 0.6944444444444444, 'test_acc': 0.6118}, {'lr': 0.001, 'sampled_percentage': 0.1, 'sampled_cut_point': -1, 'repeat': 19, 'train_acc': 0.7466666666666667, 'test_acc': 0.66395}, {'lr': 0.001, 'sampled_percentage': 0.5, 'sampled_cut_point': -1, 'repeat': 0, 'train_acc': 0.9225555555555556, 'test_acc': 0.88365}, {'lr': 0.001, 'sampled_percentage': 0.5, 'sampled_cut_point': -1, 'repeat': 1, 'train_acc': 0.9215555555555556, 'test_acc': 0.8831}, {'lr': 0.001, 'sampled_percentage': 0.5, 'sampled_cut_point': -1, 'repeat': 2, 'train_acc': 0.9128888888888889, 'test_acc': 0.8708}, {'lr': 0.001, 'sampled_percentage': 0.5, 'sampled_cut_point': -1, 'repeat': 3, 'train_acc': 0.903, 'test_acc': 0.8696}, {'lr': 0.001, 'sampled_percentage': 0.5, 'sampled_cut_point': -1, 'repeat': 4, 'train_acc': 0.912, 'test_acc': 0.87415}, {'lr': 0.001, 'sampled_percentage': 1.0, 'sampled_cut_point': -1, 'repeat': 0, 'train_acc': 0.950824237023836, 'test_acc': 0.9441}, {'lr': 0.001, 'sampled_percentage': 1.0, 'sampled_cut_point': -1, 'repeat': 1, 'train_acc': 0.9482624192470483, 'test_acc': 0.94185}, {'lr': 0.001, 'sampled_percentage': 1.0, 'sampled_cut_point': -1, 'repeat': 2, 'train_acc': 0.9488193361550457, 'test_acc': 0.9431}, {'lr': 0.001, 'sampled_percentage': 1.0, 'sampled_cut_point': -1, 'repeat': 3, 'train_acc': 0.9488193361550457, 'test_acc': 0.9428}, {'lr': 0.001, 'sampled_percentage': 1.0, 'sampled_cut_point': -1, 'repeat': 4, 'train_acc': 0.9573401648474048, 'test_acc': 0.95045}]\n"
     ]
    }
   ],
   "source": [
    "print(baselines_results)"
   ]
  },
  {
   "cell_type": "code",
   "execution_count": 15,
   "metadata": {},
   "outputs": [
    {
     "name": "stdout",
     "output_type": "stream",
     "text": [
      "[{'lr': 0.001, 'sampled_percentage': 0.001, 'sampled_cut_point': -1, 'repeat': 0, 'train_acc': 0.375, 'test_acc': 0.2961}, {'lr': 0.001, 'sampled_percentage': 0.001, 'sampled_cut_point': -1, 'repeat': 1, 'train_acc': 0.4375, 'test_acc': 0.3585}, {'lr': 0.001, 'sampled_percentage': 0.001, 'sampled_cut_point': -1, 'repeat': 2, 'train_acc': 0.75, 'test_acc': 0.3408}, {'lr': 0.001, 'sampled_percentage': 0.001, 'sampled_cut_point': -1, 'repeat': 3, 'train_acc': 0.75, 'test_acc': 0.31205}, {'lr': 0.001, 'sampled_percentage': 0.001, 'sampled_cut_point': -1, 'repeat': 4, 'train_acc': 0.8125, 'test_acc': 0.2421}, {'lr': 0.001, 'sampled_percentage': 0.001, 'sampled_cut_point': -1, 'repeat': 5, 'train_acc': 0.6875, 'test_acc': 0.2935}, {'lr': 0.001, 'sampled_percentage': 0.001, 'sampled_cut_point': -1, 'repeat': 6, 'train_acc': 0.6875, 'test_acc': 0.35795}, {'lr': 0.001, 'sampled_percentage': 0.001, 'sampled_cut_point': -1, 'repeat': 7, 'train_acc': 0.8125, 'test_acc': 0.3997}, {'lr': 0.001, 'sampled_percentage': 0.001, 'sampled_cut_point': -1, 'repeat': 8, 'train_acc': 0.75, 'test_acc': 0.33875}, {'lr': 0.001, 'sampled_percentage': 0.001, 'sampled_cut_point': -1, 'repeat': 9, 'train_acc': 0.3125, 'test_acc': 0.2498}, {'lr': 0.001, 'sampled_percentage': 0.001, 'sampled_cut_point': -1, 'repeat': 10, 'train_acc': 0.5, 'test_acc': 0.3524}, {'lr': 0.001, 'sampled_percentage': 0.001, 'sampled_cut_point': -1, 'repeat': 11, 'train_acc': 0.75, 'test_acc': 0.39555}, {'lr': 0.001, 'sampled_percentage': 0.001, 'sampled_cut_point': -1, 'repeat': 12, 'train_acc': 0.625, 'test_acc': 0.33}, {'lr': 0.001, 'sampled_percentage': 0.001, 'sampled_cut_point': -1, 'repeat': 13, 'train_acc': 0.6875, 'test_acc': 0.3027}, {'lr': 0.001, 'sampled_percentage': 0.001, 'sampled_cut_point': -1, 'repeat': 14, 'train_acc': 0.625, 'test_acc': 0.3735}, {'lr': 0.001, 'sampled_percentage': 0.001, 'sampled_cut_point': -1, 'repeat': 15, 'train_acc': 0.6875, 'test_acc': 0.3647}, {'lr': 0.001, 'sampled_percentage': 0.001, 'sampled_cut_point': -1, 'repeat': 16, 'train_acc': 0.3125, 'test_acc': 0.2599}, {'lr': 0.001, 'sampled_percentage': 0.001, 'sampled_cut_point': -1, 'repeat': 17, 'train_acc': 0.625, 'test_acc': 0.3569}, {'lr': 0.001, 'sampled_percentage': 0.001, 'sampled_cut_point': -1, 'repeat': 18, 'train_acc': 0.4375, 'test_acc': 0.29735}, {'lr': 0.001, 'sampled_percentage': 0.001, 'sampled_cut_point': -1, 'repeat': 19, 'train_acc': 0.6875, 'test_acc': 0.35565}, {'lr': 0.001, 'sampled_percentage': 0.001, 'sampled_cut_point': -1, 'repeat': 20, 'train_acc': 0.6875, 'test_acc': 0.3248}, {'lr': 0.001, 'sampled_percentage': 0.001, 'sampled_cut_point': -1, 'repeat': 21, 'train_acc': 0.5625, 'test_acc': 0.38205}, {'lr': 0.001, 'sampled_percentage': 0.001, 'sampled_cut_point': -1, 'repeat': 22, 'train_acc': 0.6875, 'test_acc': 0.37995}, {'lr': 0.001, 'sampled_percentage': 0.001, 'sampled_cut_point': -1, 'repeat': 23, 'train_acc': 0.625, 'test_acc': 0.2877}, {'lr': 0.001, 'sampled_percentage': 0.001, 'sampled_cut_point': -1, 'repeat': 24, 'train_acc': 0.625, 'test_acc': 0.2782}, {'lr': 0.001, 'sampled_percentage': 0.01, 'sampled_cut_point': -1, 'repeat': 0, 'train_acc': 0.49444444444444446, 'test_acc': 0.431}, {'lr': 0.001, 'sampled_percentage': 0.01, 'sampled_cut_point': -1, 'repeat': 1, 'train_acc': 0.5777777777777777, 'test_acc': 0.46035}, {'lr': 0.001, 'sampled_percentage': 0.01, 'sampled_cut_point': -1, 'repeat': 2, 'train_acc': 0.55, 'test_acc': 0.4657}, {'lr': 0.001, 'sampled_percentage': 0.01, 'sampled_cut_point': -1, 'repeat': 3, 'train_acc': 0.5222222222222223, 'test_acc': 0.41995}, {'lr': 0.001, 'sampled_percentage': 0.01, 'sampled_cut_point': -1, 'repeat': 4, 'train_acc': 0.4444444444444444, 'test_acc': 0.42995}, {'lr': 0.001, 'sampled_percentage': 0.01, 'sampled_cut_point': -1, 'repeat': 5, 'train_acc': 0.5222222222222223, 'test_acc': 0.4342}, {'lr': 0.001, 'sampled_percentage': 0.01, 'sampled_cut_point': -1, 'repeat': 6, 'train_acc': 0.5277777777777778, 'test_acc': 0.4399}, {'lr': 0.001, 'sampled_percentage': 0.01, 'sampled_cut_point': -1, 'repeat': 7, 'train_acc': 0.5833333333333334, 'test_acc': 0.47085}, {'lr': 0.001, 'sampled_percentage': 0.01, 'sampled_cut_point': -1, 'repeat': 8, 'train_acc': 0.5111111111111111, 'test_acc': 0.4637}, {'lr': 0.001, 'sampled_percentage': 0.01, 'sampled_cut_point': -1, 'repeat': 9, 'train_acc': 0.4666666666666667, 'test_acc': 0.43625}, {'lr': 0.001, 'sampled_percentage': 0.01, 'sampled_cut_point': -1, 'repeat': 10, 'train_acc': 0.45555555555555555, 'test_acc': 0.44475}, {'lr': 0.001, 'sampled_percentage': 0.01, 'sampled_cut_point': -1, 'repeat': 11, 'train_acc': 0.45555555555555555, 'test_acc': 0.4471}, {'lr': 0.001, 'sampled_percentage': 0.01, 'sampled_cut_point': -1, 'repeat': 12, 'train_acc': 0.5055555555555555, 'test_acc': 0.4514}, {'lr': 0.001, 'sampled_percentage': 0.01, 'sampled_cut_point': -1, 'repeat': 13, 'train_acc': 0.5, 'test_acc': 0.48085}, {'lr': 0.001, 'sampled_percentage': 0.01, 'sampled_cut_point': -1, 'repeat': 14, 'train_acc': 0.5555555555555556, 'test_acc': 0.456}, {'lr': 0.001, 'sampled_percentage': 0.01, 'sampled_cut_point': -1, 'repeat': 15, 'train_acc': 0.5666666666666667, 'test_acc': 0.44745}, {'lr': 0.001, 'sampled_percentage': 0.01, 'sampled_cut_point': -1, 'repeat': 16, 'train_acc': 0.5555555555555556, 'test_acc': 0.46035}, {'lr': 0.001, 'sampled_percentage': 0.01, 'sampled_cut_point': -1, 'repeat': 17, 'train_acc': 0.55, 'test_acc': 0.46135}, {'lr': 0.001, 'sampled_percentage': 0.01, 'sampled_cut_point': -1, 'repeat': 18, 'train_acc': 0.49444444444444446, 'test_acc': 0.4422}, {'lr': 0.001, 'sampled_percentage': 0.01, 'sampled_cut_point': -1, 'repeat': 19, 'train_acc': 0.55, 'test_acc': 0.45605}, {'lr': 0.001, 'sampled_percentage': 0.01, 'sampled_cut_point': -1, 'repeat': 20, 'train_acc': 0.5111111111111111, 'test_acc': 0.45355}, {'lr': 0.001, 'sampled_percentage': 0.01, 'sampled_cut_point': -1, 'repeat': 21, 'train_acc': 0.5777777777777777, 'test_acc': 0.44915}, {'lr': 0.001, 'sampled_percentage': 0.01, 'sampled_cut_point': -1, 'repeat': 22, 'train_acc': 0.5611111111111111, 'test_acc': 0.47945}, {'lr': 0.001, 'sampled_percentage': 0.01, 'sampled_cut_point': -1, 'repeat': 23, 'train_acc': 0.46111111111111114, 'test_acc': 0.45595}, {'lr': 0.001, 'sampled_percentage': 0.01, 'sampled_cut_point': -1, 'repeat': 24, 'train_acc': 0.5333333333333333, 'test_acc': 0.46675}, {'lr': 0.001, 'sampled_percentage': 0.1, 'sampled_cut_point': -1, 'repeat': 0, 'train_acc': 0.6955555555555556, 'test_acc': 0.6504}, {'lr': 0.001, 'sampled_percentage': 0.1, 'sampled_cut_point': -1, 'repeat': 1, 'train_acc': 0.7155555555555555, 'test_acc': 0.63905}, {'lr': 0.001, 'sampled_percentage': 0.1, 'sampled_cut_point': -1, 'repeat': 2, 'train_acc': 0.7144444444444444, 'test_acc': 0.6419}, {'lr': 0.001, 'sampled_percentage': 0.1, 'sampled_cut_point': -1, 'repeat': 3, 'train_acc': 0.6983333333333334, 'test_acc': 0.64965}, {'lr': 0.001, 'sampled_percentage': 0.1, 'sampled_cut_point': -1, 'repeat': 4, 'train_acc': 0.7027777777777777, 'test_acc': 0.63285}, {'lr': 0.001, 'sampled_percentage': 0.1, 'sampled_cut_point': -1, 'repeat': 5, 'train_acc': 0.7105555555555556, 'test_acc': 0.6449}, {'lr': 0.001, 'sampled_percentage': 0.1, 'sampled_cut_point': -1, 'repeat': 6, 'train_acc': 0.6955555555555556, 'test_acc': 0.63585}, {'lr': 0.001, 'sampled_percentage': 0.1, 'sampled_cut_point': -1, 'repeat': 7, 'train_acc': 0.7022222222222222, 'test_acc': 0.6487}, {'lr': 0.001, 'sampled_percentage': 0.1, 'sampled_cut_point': -1, 'repeat': 8, 'train_acc': 0.6933333333333334, 'test_acc': 0.6459}, {'lr': 0.001, 'sampled_percentage': 0.1, 'sampled_cut_point': -1, 'repeat': 9, 'train_acc': 0.6861111111111111, 'test_acc': 0.6249}, {'lr': 0.001, 'sampled_percentage': 0.1, 'sampled_cut_point': -1, 'repeat': 10, 'train_acc': 0.6955555555555556, 'test_acc': 0.6449}, {'lr': 0.001, 'sampled_percentage': 0.1, 'sampled_cut_point': -1, 'repeat': 11, 'train_acc': 0.6855555555555556, 'test_acc': 0.6222}, {'lr': 0.001, 'sampled_percentage': 0.1, 'sampled_cut_point': -1, 'repeat': 12, 'train_acc': 0.7166666666666667, 'test_acc': 0.6432}, {'lr': 0.001, 'sampled_percentage': 0.1, 'sampled_cut_point': -1, 'repeat': 13, 'train_acc': 0.7305555555555555, 'test_acc': 0.6614}, {'lr': 0.001, 'sampled_percentage': 0.1, 'sampled_cut_point': -1, 'repeat': 14, 'train_acc': 0.6588888888888889, 'test_acc': 0.62425}, {'lr': 0.001, 'sampled_percentage': 0.1, 'sampled_cut_point': -1, 'repeat': 15, 'train_acc': 0.6822222222222222, 'test_acc': 0.63365}, {'lr': 0.001, 'sampled_percentage': 0.1, 'sampled_cut_point': -1, 'repeat': 16, 'train_acc': 0.6983333333333334, 'test_acc': 0.63965}, {'lr': 0.001, 'sampled_percentage': 0.1, 'sampled_cut_point': -1, 'repeat': 17, 'train_acc': 0.705, 'test_acc': 0.6434}, {'lr': 0.001, 'sampled_percentage': 0.1, 'sampled_cut_point': -1, 'repeat': 18, 'train_acc': 0.6944444444444444, 'test_acc': 0.6118}, {'lr': 0.001, 'sampled_percentage': 0.1, 'sampled_cut_point': -1, 'repeat': 19, 'train_acc': 0.7466666666666667, 'test_acc': 0.66395}, {'lr': 0.001, 'sampled_percentage': 0.5, 'sampled_cut_point': -1, 'repeat': 0, 'train_acc': 0.9225555555555556, 'test_acc': 0.88365}, {'lr': 0.001, 'sampled_percentage': 0.5, 'sampled_cut_point': -1, 'repeat': 1, 'train_acc': 0.9215555555555556, 'test_acc': 0.8831}, {'lr': 0.001, 'sampled_percentage': 0.5, 'sampled_cut_point': -1, 'repeat': 2, 'train_acc': 0.9128888888888889, 'test_acc': 0.8708}, {'lr': 0.001, 'sampled_percentage': 0.5, 'sampled_cut_point': -1, 'repeat': 3, 'train_acc': 0.903, 'test_acc': 0.8696}, {'lr': 0.001, 'sampled_percentage': 0.5, 'sampled_cut_point': -1, 'repeat': 4, 'train_acc': 0.912, 'test_acc': 0.87415}, {'lr': 0.001, 'sampled_percentage': 1.0, 'sampled_cut_point': -1, 'repeat': 0, 'train_acc': 0.950824237023836, 'test_acc': 0.9441}, {'lr': 0.001, 'sampled_percentage': 1.0, 'sampled_cut_point': -1, 'repeat': 1, 'train_acc': 0.9482624192470483, 'test_acc': 0.94185}, {'lr': 0.001, 'sampled_percentage': 1.0, 'sampled_cut_point': -1, 'repeat': 2, 'train_acc': 0.9488193361550457, 'test_acc': 0.9431}, {'lr': 0.001, 'sampled_percentage': 1.0, 'sampled_cut_point': -1, 'repeat': 3, 'train_acc': 0.9488193361550457, 'test_acc': 0.9428}, {'lr': 0.001, 'sampled_percentage': 1.0, 'sampled_cut_point': -1, 'repeat': 4, 'train_acc': 0.9573401648474048, 'test_acc': 0.95045}]\n"
     ]
    }
   ],
   "source": [
    "print(baselines_results)"
   ]
  },
  {
   "cell_type": "code",
   "execution_count": 44,
   "metadata": {},
   "outputs": [],
   "source": [
    "# save baseline results\n",
    "params_tmp = copy.deepcopy(params)\n",
    "del params_tmp[\"device\"]\n",
    "params_tmp[\"activation_function\"] = str(params_tmp[\"activation_function\"])\n",
    "results = [params_tmp] + baselines_results\n",
    "\n",
    "with open(f'results_jsons/baselines_freeze_{params[\"freeze\"]}_pool_{params[\"use_pooling\"]}_truncate_{params[\"truncate\"]}.json', 'w') as f:\n",
    "    json.dump(results, f)"
   ]
  },
  {
   "cell_type": "markdown",
   "metadata": {},
   "source": [
    "### Fine-tuning"
   ]
  },
  {
   "cell_type": "code",
   "execution_count": null,
   "metadata": {},
   "outputs": [],
   "source": [
    "results = []\n",
    "percentages = [0.001, 0.01, 0.1, 0.5, 1.0]"
   ]
  },
  {
   "cell_type": "code",
   "execution_count": null,
   "metadata": {},
   "outputs": [],
   "source": [
    "dataloader_wrapped.update_phase('finetune')\n",
    "\n",
    "for sampled_percentage in percentages:\n",
    "\n",
    "    if sampled_percentage <= 0.01:\n",
    "        repeats = 25\n",
    "    elif sampled_percentage < 0.5:\n",
    "        repeats = 20\n",
    "    else:\n",
    "        repeats = 5\n",
    "        \n",
    "    for sampled_cut_point in cuts:\n",
    "\n",
    "        for repeat in range(repeats):\n",
    "            # Add the combination to the tested set\n",
    "            # tested_combinations.add((sampled_percentage, sampled_cut_point))\n",
    "\n",
    "            # Print or log the sampled values for transparency\n",
    "            print(f\"\\nSampled Percentage: {sampled_percentage}, Sampled Cut Point: {sampled_cut_point}, Lr: {params['lr_fine_tune']}, Repeat: {repeat}\")\n",
    "\n",
    "            # Reduce the dataset\n",
    "            train_loader_reduced = reduce_dataset(dataloader_wrapped.train_loader, sampled_percentage, seed=repeat)\n",
    "            dataset_namespace_new = SimpleNamespace(train_loader=train_loader_reduced, test_loader=dataloader_wrapped.test_loader, val_loader=dataloader_wrapped.val_loader)\n",
    "            torch.manual_seed(repeat) # because in the cut function we reinitialize some layers too (at least the dense layers)\n",
    "            \n",
    "            # Copy and then cut the model - we already deepcopy it in the function: pretrained_model\n",
    "            model_new = cut_custom_cnn_model(pretrained_model, cut_point=sampled_cut_point, params=params, output_dim=dataloader_wrapped.output_dim)\n",
    "            model_new.to(device)\n",
    "            \n",
    "            # Train and evaluate\n",
    "            trainer = Trainer(model_new, dataset_namespace_new, params['lr_fine_tune'], params)\n",
    "            train_acc, test_acc, effective_epochs, checkpoints = trainer.train(verbose=0)\n",
    "            print(f\"Training Accuracy: {train_acc:.4f}, Test Accuracy: {test_acc:.4f}\")\n",
    "\n",
    "            # Store the results\n",
    "            results.append({\"lr\":params['lr_fine_tune'], \"sampled_percentage\":sampled_percentage, \"sampled_cut_point\":sampled_cut_point, \"repeat\":repeat, \"train_acc\":train_acc, \"test_acc\":test_acc})"
   ]
  },
  {
   "cell_type": "code",
   "execution_count": 10,
   "metadata": {},
   "outputs": [
    {
     "data": {
      "text/plain": [
       "CustomCNN(\n",
       "  (conv0): Conv2d(3, 64, kernel_size=(3, 3), stride=(1, 1), padding=(1, 1))\n",
       "  (act0): ReLU()\n",
       "  (conv1): Conv2d(64, 64, kernel_size=(3, 3), stride=(1, 1), padding=(1, 1))\n",
       "  (act1): ReLU()\n",
       "  (pool1): AvgPool2d(kernel_size=2, stride=2, padding=0)\n",
       "  (conv2): Conv2d(64, 64, kernel_size=(3, 3), stride=(1, 1), padding=(1, 1))\n",
       "  (act2): ReLU()\n",
       "  (conv3): Conv2d(64, 64, kernel_size=(3, 3), stride=(1, 1), padding=(1, 1))\n",
       "  (act3): ReLU()\n",
       "  (pool3): AvgPool2d(kernel_size=2, stride=2, padding=0)\n",
       "  (conv4): Conv2d(64, 64, kernel_size=(3, 3), stride=(1, 1), padding=(1, 1))\n",
       "  (act4): ReLU()\n",
       "  (conv5): Conv2d(64, 64, kernel_size=(3, 3), stride=(1, 1), padding=(1, 1))\n",
       "  (act5): ReLU()\n",
       "  (pool5): AvgPool2d(kernel_size=2, stride=2, padding=0)\n",
       "  (fc): Linear(in_features=1024, out_features=4, bias=True)\n",
       ")"
      ]
     },
     "execution_count": 10,
     "metadata": {},
     "output_type": "execute_result"
    }
   ],
   "source": [
    "cut_custom_cnn_model(pretrained_model, cut_point=2, params=params, output_dim=dataloader_wrapped.output_dim)"
   ]
  },
  {
   "cell_type": "code",
   "execution_count": null,
   "metadata": {},
   "outputs": [],
   "source": [
    "# save fine-tuning results\n",
    "params_tmp = copy.deepcopy(params)\n",
    "del params_tmp[\"device\"]\n",
    "params_tmp[\"activation_function\"] = str(params_tmp[\"activation_function\"])\n",
    "results = [params_tmp] + results\n",
    "\n",
    "with open(f'results_jsons/results_freeze_{params[\"freeze\"]}_reinit_{params[\"reinit\"]}_pool_{params[\"use_pooling\"]}_lr_{params[\"lr_fine_tune\"]}_nice_curve.json', 'w') as f:\n",
    "    json.dump(results, f)\n",
    "results = results[1:]"
   ]
  }
 ],
 "metadata": {
  "kernelspec": {
   "display_name": "base",
   "language": "python",
   "name": "python3"
  },
  "language_info": {
   "codemirror_mode": {
    "name": "ipython",
    "version": 3
   },
   "file_extension": ".py",
   "mimetype": "text/x-python",
   "name": "python",
   "nbconvert_exporter": "python",
   "pygments_lexer": "ipython3",
   "version": "3.7.9"
  }
 },
 "nbformat": 4,
 "nbformat_minor": 2
}

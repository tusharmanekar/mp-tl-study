{
 "cells": [
  {
   "cell_type": "code",
   "execution_count": 1,
   "metadata": {},
   "outputs": [],
   "source": [
    "import torch\n",
    "import torch.nn as nn\n",
    "import torch.optim as optim\n",
    "import torchvision.transforms as transforms\n",
    "from torchvision.datasets import MNIST\n",
    "from torch.utils.data import DataLoader, random_split"
   ]
  },
  {
   "cell_type": "code",
   "execution_count": 3,
   "metadata": {},
   "outputs": [],
   "source": [
    "\n",
    "\n",
    "class Net(nn.Module):\n",
    "    def __init__(self, input_size, hidden_layer_sizes, output_size):\n",
    "        super(Net, self).__init__()\n",
    "        layers = []\n",
    "        prev_size = input_size\n",
    "        for size in hidden_layer_sizes:\n",
    "            layers.append(nn.Linear(prev_size, size))\n",
    "            layers.append(nn.ReLU())\n",
    "            prev_size = size\n",
    "        layers.append(nn.Linear(prev_size, output_size))\n",
    "        self.layers = nn.Sequential(*layers)\n",
    "\n",
    "    def forward(self, x):\n",
    "        x = x.view(x.size(0), -1)\n",
    "        return self.layers(x)\n",
    "\n",
    "def evaluate(model, loader, device):\n",
    "    model.eval()\n",
    "    correct = 0\n",
    "    total = 0\n",
    "    with torch.no_grad():\n",
    "        for images, labels in loader:\n",
    "            images, labels = images.to(device), labels.to(device)\n",
    "            outputs = model(images)\n",
    "            _, predicted = torch.max(outputs.data, 1)\n",
    "            total += labels.size(0)\n",
    "            correct += (predicted == labels).sum().item()\n",
    "    return 100 * correct / total\n",
    "\n",
    "import matplotlib.pyplot as plt\n",
    "\n",
    "def build_and_train_model(train_loader, val_loader, test_loader,\n",
    "                          input_size=784, hidden_layer_sizes=[512, 512],\n",
    "                          activation_function=nn.ReLU(), output_size=10, \n",
    "                          optimizer_cls=optim.Adam, loss_function=nn.CrossEntropyLoss(),\n",
    "                          lr=0.001, epochs=10):\n",
    "    \n",
    "    device = torch.device(\"cuda\" if torch.cuda.is_available() else \"cpu\")\n",
    "    model = Net(input_size, hidden_layer_sizes, output_size).to(device)\n",
    "    optimizer = optimizer_cls(model.parameters(), lr=lr)\n",
    "\n",
    "    # Lists to store values for each epoch\n",
    "    train_losses = []\n",
    "    val_accuracies = []\n",
    "\n",
    "    for epoch in range(epochs):\n",
    "        model.train()\n",
    "        running_loss = 0.0\n",
    "        for i, (images, labels) in enumerate(train_loader):\n",
    "            images, labels = images.to(device), labels.to(device)\n",
    "            optimizer.zero_grad()\n",
    "            outputs = model(images)\n",
    "            loss = loss_function(outputs, labels)\n",
    "            loss.backward()\n",
    "            optimizer.step()\n",
    "            running_loss += loss.item()\n",
    "\n",
    "        avg_train_loss = running_loss / len(train_loader)\n",
    "        val_accuracy = evaluate(model, val_loader, device)\n",
    "\n",
    "        train_losses.append(avg_train_loss)\n",
    "        val_accuracies.append(val_accuracy)\n",
    "\n",
    "        print(f\"Epoch [{epoch+1}/{epochs}] - Training Loss: {avg_train_loss:.4f}, Validation Accuracy: {val_accuracy:.2f}%\")\n",
    "\n",
    "    test_accuracy = evaluate(model, test_loader, device)\n",
    "    print(f'\\nTest Accuracy: {test_accuracy:.2f}%')\n",
    "    \n",
    "    return model, train_losses, val_accuracies\n",
    "\n",
    "def plot_training(train_losses, val_accuracies):\n",
    "    epochs = len(train_losses)\n",
    "    plt.figure(figsize=(12, 4))\n",
    "\n",
    "    plt.subplot(1, 2, 1)\n",
    "    plt.plot(range(epochs), train_losses, label='Training Loss')\n",
    "    plt.legend()\n",
    "    plt.xlabel('Epochs')\n",
    "    plt.ylabel('Loss')\n",
    "    plt.title('Training Loss')\n",
    "\n",
    "    plt.subplot(1, 2, 2)\n",
    "    plt.plot(range(epochs), val_accuracies, label='Validation Accuracy', color='orange')\n",
    "    plt.legend()\n",
    "    plt.xlabel('Epochs')\n",
    "    plt.ylabel('Accuracy')\n",
    "    plt.title('Validation Accuracy')\n",
    "\n",
    "    plt.tight_layout()\n",
    "    plt.show()\n",
    "\n"
   ]
  },
  {
   "cell_type": "code",
   "execution_count": 11,
   "metadata": {},
   "outputs": [],
   "source": [
    "\n",
    "\n",
    "# Load MNIST Data\n",
    "transform = transforms.Compose([transforms.ToTensor(), transforms.Normalize((0.5,), (0.5,))])\n",
    "full_train_dataset = MNIST(root='./data', train=True, transform=transform, download=True)\n",
    "test_dataset = MNIST(root='./data', train=False, transform=transform)\n",
    "\n",
    "# Splitting the training dataset into training and validation sets\n",
    "train_size = int(0.8 * len(full_train_dataset))\n",
    "val_size = len(full_train_dataset) - train_size\n",
    "train_dataset, val_dataset = random_split(full_train_dataset, [train_size, val_size])\n",
    "\n",
    "train_loader = DataLoader(train_dataset, batch_size=32, shuffle=True)\n",
    "val_loader = DataLoader(val_dataset, batch_size=32, shuffle=False)\n",
    "test_loader = DataLoader(test_dataset, batch_size=32, shuffle=False)\n",
    "\n"
   ]
  },
  {
   "cell_type": "code",
   "execution_count": null,
   "metadata": {},
   "outputs": [],
   "source": [
    "\n",
    "\n",
    "# Use the functions\n",
    "model, train_losses, val_accuracies = build_and_train_model(train_loader, val_loader, test_loader, epochs= 10, hidden_layer_sizes = [512, 512, 512, 512, 512, 512, 512, 512, 512, 512, 512, 512])\n",
    "plot_training(train_losses, val_accuracies)\n"
   ]
  },
  {
   "cell_type": "code",
   "execution_count": 12,
   "metadata": {},
   "outputs": [
    {
     "name": "stdout",
     "output_type": "stream",
     "text": [
      "Model saved at ./mnist_model_6.pth\n"
     ]
    }
   ],
   "source": [
    "# Save model's state_dict\n",
    "path = \"./mnist_model.pth\"\n",
    "torch.save(model.state_dict(), path)\n",
    "\n",
    "print(f\"Model saved at {path}\")\n"
   ]
  },
  {
   "cell_type": "markdown",
   "metadata": {},
   "source": [
    "code to load the model  \n",
    "\n",
    "# Initialize a model\n",
    "loaded_model = Net(input_size=784, hidden_layer_sizes=[512, 512], output_size=10)\n",
    "loaded_model.load_state_dict(torch.load(path))\n",
    "loaded_model.eval()  # Set to evaluation mode\n",
    "\n",
    "# If you're using a GPU:\n",
    "# loaded_model = loaded_model.to('cuda')\n"
   ]
  },
  {
   "cell_type": "code",
   "execution_count": 7,
   "metadata": {},
   "outputs": [
    {
     "data": {
      "text/plain": [
       "Net(\n",
       "  (layers): Sequential(\n",
       "    (0): Linear(in_features=784, out_features=512, bias=True)\n",
       "    (1): ReLU()\n",
       "    (2): Linear(in_features=512, out_features=512, bias=True)\n",
       "    (3): ReLU()\n",
       "    (4): Linear(in_features=512, out_features=10, bias=True)\n",
       "  )\n",
       ")"
      ]
     },
     "execution_count": 7,
     "metadata": {},
     "output_type": "execute_result"
    }
   ],
   "source": [
    "# Initialize a model\n",
    "path = \"./mnist_model.pth\"\n",
    "model = Net(input_size=784, hidden_layer_sizes=[512, 512], output_size=10)\n",
    "model.load_state_dict(torch.load(path))\n",
    "model.eval()  # Set to evaluation mode\n",
    "\n",
    "# If you're using a GPU:\n",
    "# loaded_model = loaded_model.to('cuda')"
   ]
  },
  {
   "cell_type": "code",
   "execution_count": 17,
   "metadata": {},
   "outputs": [],
   "source": [
    "model = Net(input_size=784, hidden_layer_sizes=[512, 512, 512, 512, 512, 512, 512, 512, 512, 512, 512, 512], output_size=10)"
   ]
  },
  {
   "cell_type": "code",
   "execution_count": 18,
   "metadata": {},
   "outputs": [
    {
     "name": "stdout",
     "output_type": "stream",
     "text": [
      "Layer layers.0 - Variance: 0.09324231743812561\n",
      "Layer layers.1 - Variance: 0.03742697834968567\n",
      "Layer layers.2 - Variance: 0.012257643975317478\n",
      "Layer layers.3 - Variance: 0.005100490525364876\n",
      "Layer layers.4 - Variance: 0.0016721055144444108\n",
      "Layer layers.5 - Variance: 0.0007392683764919639\n",
      "Layer layers.6 - Variance: 0.00025693108909763396\n",
      "Layer layers.7 - Variance: 0.0001189919130410999\n",
      "Layer layers.8 - Variance: 3.9729005948174745e-05\n",
      "Layer layers.9 - Variance: 1.8318838556297123e-05\n",
      "Layer layers.10 - Variance: 6.111457878432702e-06\n",
      "Layer layers.11 - Variance: 2.9667444323422387e-06\n",
      "Layer layers.12 - Variance: 1.0033741091319826e-06\n",
      "Layer layers.13 - Variance: 5.18944148097944e-07\n",
      "Layer layers.14 - Variance: 1.6694031046426971e-07\n",
      "Layer layers.15 - Variance: 8.098972159586992e-08\n",
      "Layer layers.16 - Variance: 2.6199185043651596e-08\n",
      "Layer layers.17 - Variance: 1.275302263792355e-08\n",
      "Layer layers.18 - Variance: 4.16048351326026e-09\n",
      "Layer layers.19 - Variance: 2.13068185317411e-09\n",
      "Layer layers.20 - Variance: 7.156149006704027e-10\n",
      "Layer layers.21 - Variance: 3.737032350237257e-10\n",
      "Layer layers.22 - Variance: 1.2331356769035295e-10\n",
      "Layer layers.23 - Variance: 6.140758734840546e-11\n",
      "Layer layers.24 - Variance: 1.5331217198544245e-11\n",
      "Layer layers - Variance: 1.5331217198544245e-11\n",
      "Layer  - Variance: 1.5331217198544245e-11\n"
     ]
    }
   ],
   "source": [
    "device = 'cpu'\n",
    "\n",
    "# Define a hook to collect activations\n",
    "activations = {}\n",
    "\n",
    "def hook_fn(module, input, output, key):\n",
    "    activations[key] = output\n",
    "\n",
    "# Register the hook for each layer\n",
    "for name, layer in model.named_modules():\n",
    "    layer.register_forward_hook(lambda module, input, output, key=name: hook_fn(module, input, output, key))\n",
    "\n",
    "# Run inference on the test set\n",
    "with torch.no_grad():\n",
    "    for images, _ in test_loader:\n",
    "        images = images.to(device)\n",
    "        outputs = model(images)\n",
    "\n",
    "# Calculate and print variance for each layer's activations\n",
    "variances = {key: torch.var(act, dim=0) for key, act in activations.items()}\n",
    "\n",
    "for layer_name, variance in variances.items():\n",
    "    print(f\"Layer {layer_name} - Variance: {variance.mean().item()}\")\n"
   ]
  },
  {
   "cell_type": "code",
   "execution_count": 19,
   "metadata": {},
   "outputs": [
    {
     "data": {
      "image/png": "[encoded data removed]",
      "text/plain": [
       "<Figure size 640x480 with 1 Axes>"
      ]
     },
     "metadata": {},
     "output_type": "display_data"
    }
   ],
   "source": [
    "import matplotlib.pyplot as plt\n",
    "\n",
    "# Create a list of layer names and variances\n",
    "layer_names = list(variances.keys())\n",
    "variance_values = [variance.mean().item() for variance in variances.values()]\n",
    "\n",
    "# Plot the variances\n",
    "plt.bar(layer_names, variance_values)\n",
    "plt.xticks(rotation=90)\n",
    "plt.xlabel('Layer Name')\n",
    "plt.ylabel('Variance')\n",
    "plt.title('Activation Variances')\n",
    "plt.show()"
   ]
  }
 ],
 "metadata": {
  "kernelspec": {
   "display_name": "pytorch",
   "language": "python",
   "name": "python3"
  },
  "language_info": {
   "codemirror_mode": {
    "name": "ipython",
    "version": 3
   },
   "file_extension": ".py",
   "mimetype": "text/x-python",
   "name": "python",
   "nbconvert_exporter": "python",
   "pygments_lexer": "ipython3",
   "version": "3.11.0"
  },
  "orig_nbformat": 4
 },
 "nbformat": 4,
 "nbformat_minor": 2
}

{
 "cells": [
  {
   "cell_type": "code",
   "execution_count": 2,
   "metadata": {},
   "outputs": [],
   "source": [
    "from utils import *"
   ]
  },
  {
   "cell_type": "code",
   "execution_count": 6,
   "metadata": {},
   "outputs": [
    {
     "name": "stdout",
     "output_type": "stream",
     "text": [
      "yo\n",
      "Sequential(\n",
      "  (0): Linear(in_features=784, out_features=50, bias=True)\n",
      "  (1): Tanh()\n",
      "  (2): Linear(in_features=50, out_features=50, bias=True)\n",
      "  (3): Tanh()\n",
      "  (4): Linear(in_features=50, out_features=50, bias=True)\n",
      "  (5): Tanh()\n",
      "  (6): Linear(in_features=50, out_features=50, bias=True)\n",
      "  (7): Tanh()\n",
      "  (8): Linear(in_features=50, out_features=50, bias=True)\n",
      "  (9): Tanh()\n",
      "  (10): Linear(in_features=50, out_features=50, bias=True)\n",
      "  (11): Tanh()\n",
      "  (12): Linear(in_features=50, out_features=50, bias=True)\n",
      "  (13): Tanh()\n",
      "  (14): Linear(in_features=50, out_features=50, bias=True)\n",
      "  (15): Tanh()\n",
      "  (16): Linear(in_features=50, out_features=50, bias=True)\n",
      "  (17): Tanh()\n",
      "  (18): Linear(in_features=50, out_features=10, bias=True)\n",
      "  (19): LogSoftmax(dim=1)\n",
      ") SGD (\n",
      "Parameter Group 0\n",
      "    dampening: 0\n",
      "    differentiable: False\n",
      "    foreach: None\n",
      "    lr: 0.01\n",
      "    maximize: False\n",
      "    momentum: 0\n",
      "    nesterov: False\n",
      "    weight_decay: 0\n",
      ")\n",
      "Epoch: 0 \tTraining Accuracy: 57.30%\n",
      "Validation Accuracy: 55.97%\n"
     ]
    }
   ],
   "source": [
    "batch_size = 128\n",
    "device = torch.device(\"cuda\" if torch.cuda.is_available() else \"cpu\")\n",
    "# device = 'mps'\n",
    "depth = 10\n",
    "width = 50\n",
    "\n",
    "dataset = MNISTtrainer(batch_size)\n",
    "params = dict(device=device,\n",
    "                width=width, lr=0.01, num_train=1,\n",
    "                sb=1, depth= depth, sw=1.5)\n",
    "\n",
    "model = generate_fc_dnn(dataset.input_dim, dataset.output_dim,\n",
    "                params).to(device)\n",
    "\n",
    "pretrain_acc, pretrain_test_acc, pre_trained_model = compute_training_acc_epochs(model, dataset, params, debug=True)"
   ]
  },
  {
   "cell_type": "code",
   "execution_count": 3,
   "metadata": {},
   "outputs": [
    {
     "name": "stdout",
     "output_type": "stream",
     "text": [
      "Test Accuracy: 0.86%\n"
     ]
    }
   ],
   "source": [
    "print(f\"Test Accuracy: {pretrain_test_acc:.2f}%\")"
   ]
  },
  {
   "cell_type": "code",
   "execution_count": 7,
   "metadata": {},
   "outputs": [
    {
     "name": "stdout",
     "output_type": "stream",
     "text": [
      "yo\n",
      "Sequential(\n",
      "  (0): Linear(in_features=784, out_features=50, bias=True)\n",
      "  (1): Tanh()\n",
      "  (2): Linear(in_features=50, out_features=50, bias=True)\n",
      "  (3): Tanh()\n",
      "  (4): Linear(in_features=50, out_features=50, bias=True)\n",
      "  (5): Tanh()\n",
      "  (6): Linear(in_features=50, out_features=50, bias=True)\n",
      "  (7): Tanh()\n",
      "  (8): Linear(in_features=50, out_features=50, bias=True)\n",
      "  (9): Tanh()\n",
      "  (10): Linear(in_features=50, out_features=50, bias=True)\n",
      "  (11): Tanh()\n",
      "  (12): Linear(in_features=50, out_features=50, bias=True)\n",
      "  (13): Tanh()\n",
      "  (14): Linear(in_features=50, out_features=50, bias=True)\n",
      "  (15): Tanh()\n",
      "  (16): Linear(in_features=50, out_features=50, bias=True)\n",
      "  (17): Tanh()\n",
      "  (18): Linear(in_features=50, out_features=10, bias=True)\n",
      "  (19): LogSoftmax(dim=1)\n",
      ") SGD (\n",
      "Parameter Group 0\n",
      "    dampening: 0\n",
      "    differentiable: False\n",
      "    foreach: None\n",
      "    lr: 0.01\n",
      "    maximize: False\n",
      "    momentum: 0\n",
      "    nesterov: False\n",
      "    weight_decay: 0\n",
      ")\n",
      "Epoch: 0 \tTraining Accuracy: 54.21%\n",
      "Validation Accuracy: 54.53%\n",
      "yo\n",
      "Sequential(\n",
      "  (0): Linear(in_features=784, out_features=50, bias=True)\n",
      "  (1): Tanh()\n",
      "  (2): Linear(in_features=50, out_features=50, bias=True)\n",
      "  (3): Tanh()\n",
      "  (4): Linear(in_features=50, out_features=50, bias=True)\n",
      "  (5): Tanh()\n",
      "  (6): Linear(in_features=50, out_features=50, bias=True)\n",
      "  (7): Tanh()\n",
      "  (8): Linear(in_features=50, out_features=50, bias=True)\n",
      "  (9): Tanh()\n",
      "  (10): Linear(in_features=50, out_features=50, bias=True)\n",
      "  (11): Tanh()\n",
      "  (12): Linear(in_features=50, out_features=50, bias=True)\n",
      "  (13): Tanh()\n",
      "  (14): Linear(in_features=50, out_features=50, bias=True)\n",
      "  (15): Tanh()\n",
      "  (16): Linear(in_features=50, out_features=50, bias=True)\n",
      "  (17): Tanh()\n",
      "  (18): Linear(in_features=50, out_features=10, bias=True)\n",
      "  (19): LogSoftmax(dim=1)\n",
      ") SGD (\n",
      "Parameter Group 0\n",
      "    dampening: 0\n",
      "    differentiable: False\n",
      "    foreach: None\n",
      "    lr: 0.01\n",
      "    maximize: False\n",
      "    momentum: 0\n",
      "    nesterov: False\n",
      "    weight_decay: 0\n",
      ")\n"
     ]
    },
    {
     "ename": "KeyboardInterrupt",
     "evalue": "",
     "output_type": "error",
     "traceback": [
      "\u001b[0;31m---------------------------------------------------------------------------\u001b[0m",
      "\u001b[0;31mKeyboardInterrupt\u001b[0m                         Traceback (most recent call last)",
      "Cell \u001b[0;32mIn[7], line 6\u001b[0m\n\u001b[1;32m      4\u001b[0m temp \u001b[39m=\u001b[39m {}\n\u001b[1;32m      5\u001b[0m temp[\u001b[39m'\u001b[39m\u001b[39mcut_model\u001b[39m\u001b[39m'\u001b[39m] \u001b[39m=\u001b[39m cut_model(model, sw \u001b[39m=\u001b[39m \u001b[39m1.5\u001b[39m, sb \u001b[39m=\u001b[39m \u001b[39m1\u001b[39m, cut_point \u001b[39m=\u001b[39m cut)\n\u001b[0;32m----> 6\u001b[0m finetuned_acc, finetuned_test_acc, finetuned_model \u001b[39m=\u001b[39m compute_training_acc_epochs(temp[\u001b[39m'\u001b[39;49m\u001b[39mcut_model\u001b[39;49m\u001b[39m'\u001b[39;49m], dataset, params, debug\u001b[39m=\u001b[39;49m\u001b[39mTrue\u001b[39;49;00m)\n\u001b[1;32m      7\u001b[0m temp[\u001b[39m'\u001b[39m\u001b[39mfinetuned_acc\u001b[39m\u001b[39m'\u001b[39m] \u001b[39m=\u001b[39m finetuned_acc\n\u001b[1;32m      8\u001b[0m temp[\u001b[39m'\u001b[39m\u001b[39mfinetuned_test_acc\u001b[39m\u001b[39m'\u001b[39m] \u001b[39m=\u001b[39m finetuned_test_acc\n",
      "File \u001b[0;32m/mnt/c/Users/Arnisa/Desktop/MP/reproduce/mp-tl-study/utils.py:180\u001b[0m, in \u001b[0;36mcompute_training_acc_epochs\u001b[0;34m(model, dataset, params, debug)\u001b[0m\n\u001b[1;32m    178\u001b[0m \u001b[39m# Loop over epochs\u001b[39;00m\n\u001b[1;32m    179\u001b[0m \u001b[39mfor\u001b[39;00m epoch \u001b[39min\u001b[39;00m \u001b[39mrange\u001b[39m(params[\u001b[39m'\u001b[39m\u001b[39mnum_train\u001b[39m\u001b[39m'\u001b[39m]):\n\u001b[0;32m--> 180\u001b[0m     \u001b[39mfor\u001b[39;00m batch_idx, (data, target) \u001b[39min\u001b[39;00m \u001b[39menumerate\u001b[39m(dataset\u001b[39m.\u001b[39mtrain_loader):\n\u001b[1;32m    181\u001b[0m         data, target \u001b[39m=\u001b[39m data\u001b[39m.\u001b[39mreshape([data\u001b[39m.\u001b[39mshape[\u001b[39m0\u001b[39m], \u001b[39m-\u001b[39m\u001b[39m1\u001b[39m])\u001b[39m.\u001b[39mto(device), target\u001b[39m.\u001b[39mto(device)\n\u001b[1;32m    182\u001b[0m         optimizer\u001b[39m.\u001b[39mzero_grad()\n",
      "File \u001b[0;32m~/anaconda3/envs/mpenv/lib/python3.11/site-packages/torch/utils/data/dataloader.py:633\u001b[0m, in \u001b[0;36m_BaseDataLoaderIter.__next__\u001b[0;34m(self)\u001b[0m\n\u001b[1;32m    630\u001b[0m \u001b[39mif\u001b[39;00m \u001b[39mself\u001b[39m\u001b[39m.\u001b[39m_sampler_iter \u001b[39mis\u001b[39;00m \u001b[39mNone\u001b[39;00m:\n\u001b[1;32m    631\u001b[0m     \u001b[39m# TODO(https://github.com/pytorch/pytorch/issues/76750)\u001b[39;00m\n\u001b[1;32m    632\u001b[0m     \u001b[39mself\u001b[39m\u001b[39m.\u001b[39m_reset()  \u001b[39m# type: ignore[call-arg]\u001b[39;00m\n\u001b[0;32m--> 633\u001b[0m data \u001b[39m=\u001b[39m \u001b[39mself\u001b[39;49m\u001b[39m.\u001b[39;49m_next_data()\n\u001b[1;32m    634\u001b[0m \u001b[39mself\u001b[39m\u001b[39m.\u001b[39m_num_yielded \u001b[39m+\u001b[39m\u001b[39m=\u001b[39m \u001b[39m1\u001b[39m\n\u001b[1;32m    635\u001b[0m \u001b[39mif\u001b[39;00m \u001b[39mself\u001b[39m\u001b[39m.\u001b[39m_dataset_kind \u001b[39m==\u001b[39m _DatasetKind\u001b[39m.\u001b[39mIterable \u001b[39mand\u001b[39;00m \\\n\u001b[1;32m    636\u001b[0m         \u001b[39mself\u001b[39m\u001b[39m.\u001b[39m_IterableDataset_len_called \u001b[39mis\u001b[39;00m \u001b[39mnot\u001b[39;00m \u001b[39mNone\u001b[39;00m \u001b[39mand\u001b[39;00m \\\n\u001b[1;32m    637\u001b[0m         \u001b[39mself\u001b[39m\u001b[39m.\u001b[39m_num_yielded \u001b[39m>\u001b[39m \u001b[39mself\u001b[39m\u001b[39m.\u001b[39m_IterableDataset_len_called:\n",
      "File \u001b[0;32m~/anaconda3/envs/mpenv/lib/python3.11/site-packages/torch/utils/data/dataloader.py:677\u001b[0m, in \u001b[0;36m_SingleProcessDataLoaderIter._next_data\u001b[0;34m(self)\u001b[0m\n\u001b[1;32m    675\u001b[0m \u001b[39mdef\u001b[39;00m \u001b[39m_next_data\u001b[39m(\u001b[39mself\u001b[39m):\n\u001b[1;32m    676\u001b[0m     index \u001b[39m=\u001b[39m \u001b[39mself\u001b[39m\u001b[39m.\u001b[39m_next_index()  \u001b[39m# may raise StopIteration\u001b[39;00m\n\u001b[0;32m--> 677\u001b[0m     data \u001b[39m=\u001b[39m \u001b[39mself\u001b[39;49m\u001b[39m.\u001b[39;49m_dataset_fetcher\u001b[39m.\u001b[39;49mfetch(index)  \u001b[39m# may raise StopIteration\u001b[39;00m\n\u001b[1;32m    678\u001b[0m     \u001b[39mif\u001b[39;00m \u001b[39mself\u001b[39m\u001b[39m.\u001b[39m_pin_memory:\n\u001b[1;32m    679\u001b[0m         data \u001b[39m=\u001b[39m _utils\u001b[39m.\u001b[39mpin_memory\u001b[39m.\u001b[39mpin_memory(data, \u001b[39mself\u001b[39m\u001b[39m.\u001b[39m_pin_memory_device)\n",
      "File \u001b[0;32m~/anaconda3/envs/mpenv/lib/python3.11/site-packages/torch/utils/data/_utils/fetch.py:51\u001b[0m, in \u001b[0;36m_MapDatasetFetcher.fetch\u001b[0;34m(self, possibly_batched_index)\u001b[0m\n\u001b[1;32m     49\u001b[0m         data \u001b[39m=\u001b[39m \u001b[39mself\u001b[39m\u001b[39m.\u001b[39mdataset\u001b[39m.\u001b[39m__getitems__(possibly_batched_index)\n\u001b[1;32m     50\u001b[0m     \u001b[39melse\u001b[39;00m:\n\u001b[0;32m---> 51\u001b[0m         data \u001b[39m=\u001b[39m [\u001b[39mself\u001b[39;49m\u001b[39m.\u001b[39;49mdataset[idx] \u001b[39mfor\u001b[39;49;00m idx \u001b[39min\u001b[39;49;00m possibly_batched_index]\n\u001b[1;32m     52\u001b[0m \u001b[39melse\u001b[39;00m:\n\u001b[1;32m     53\u001b[0m     data \u001b[39m=\u001b[39m \u001b[39mself\u001b[39m\u001b[39m.\u001b[39mdataset[possibly_batched_index]\n",
      "File \u001b[0;32m~/anaconda3/envs/mpenv/lib/python3.11/site-packages/torch/utils/data/_utils/fetch.py:51\u001b[0m, in \u001b[0;36m<listcomp>\u001b[0;34m(.0)\u001b[0m\n\u001b[1;32m     49\u001b[0m         data \u001b[39m=\u001b[39m \u001b[39mself\u001b[39m\u001b[39m.\u001b[39mdataset\u001b[39m.\u001b[39m__getitems__(possibly_batched_index)\n\u001b[1;32m     50\u001b[0m     \u001b[39melse\u001b[39;00m:\n\u001b[0;32m---> 51\u001b[0m         data \u001b[39m=\u001b[39m [\u001b[39mself\u001b[39;49m\u001b[39m.\u001b[39;49mdataset[idx] \u001b[39mfor\u001b[39;00m idx \u001b[39min\u001b[39;00m possibly_batched_index]\n\u001b[1;32m     52\u001b[0m \u001b[39melse\u001b[39;00m:\n\u001b[1;32m     53\u001b[0m     data \u001b[39m=\u001b[39m \u001b[39mself\u001b[39m\u001b[39m.\u001b[39mdataset[possibly_batched_index]\n",
      "File \u001b[0;32m~/anaconda3/envs/mpenv/lib/python3.11/site-packages/torch/utils/data/dataset.py:298\u001b[0m, in \u001b[0;36mSubset.__getitem__\u001b[0;34m(self, idx)\u001b[0m\n\u001b[1;32m    296\u001b[0m \u001b[39mif\u001b[39;00m \u001b[39misinstance\u001b[39m(idx, \u001b[39mlist\u001b[39m):\n\u001b[1;32m    297\u001b[0m     \u001b[39mreturn\u001b[39;00m \u001b[39mself\u001b[39m\u001b[39m.\u001b[39mdataset[[\u001b[39mself\u001b[39m\u001b[39m.\u001b[39mindices[i] \u001b[39mfor\u001b[39;00m i \u001b[39min\u001b[39;00m idx]]\n\u001b[0;32m--> 298\u001b[0m \u001b[39mreturn\u001b[39;00m \u001b[39mself\u001b[39;49m\u001b[39m.\u001b[39;49mdataset[\u001b[39mself\u001b[39;49m\u001b[39m.\u001b[39;49mindices[idx]]\n",
      "File \u001b[0;32m~/anaconda3/envs/mpenv/lib/python3.11/site-packages/torchvision/datasets/mnist.py:142\u001b[0m, in \u001b[0;36mMNIST.__getitem__\u001b[0;34m(self, index)\u001b[0m\n\u001b[1;32m    138\u001b[0m img, target \u001b[39m=\u001b[39m \u001b[39mself\u001b[39m\u001b[39m.\u001b[39mdata[index], \u001b[39mint\u001b[39m(\u001b[39mself\u001b[39m\u001b[39m.\u001b[39mtargets[index])\n\u001b[1;32m    140\u001b[0m \u001b[39m# doing this so that it is consistent with all other datasets\u001b[39;00m\n\u001b[1;32m    141\u001b[0m \u001b[39m# to return a PIL Image\u001b[39;00m\n\u001b[0;32m--> 142\u001b[0m img \u001b[39m=\u001b[39m Image\u001b[39m.\u001b[39;49mfromarray(img\u001b[39m.\u001b[39;49mnumpy(), mode\u001b[39m=\u001b[39;49m\u001b[39m\"\u001b[39;49m\u001b[39mL\u001b[39;49m\u001b[39m\"\u001b[39;49m)\n\u001b[1;32m    144\u001b[0m \u001b[39mif\u001b[39;00m \u001b[39mself\u001b[39m\u001b[39m.\u001b[39mtransform \u001b[39mis\u001b[39;00m \u001b[39mnot\u001b[39;00m \u001b[39mNone\u001b[39;00m:\n\u001b[1;32m    145\u001b[0m     img \u001b[39m=\u001b[39m \u001b[39mself\u001b[39m\u001b[39m.\u001b[39mtransform(img)\n",
      "File \u001b[0;32m~/anaconda3/envs/mpenv/lib/python3.11/site-packages/PIL/Image.py:3103\u001b[0m, in \u001b[0;36mfromarray\u001b[0;34m(obj, mode)\u001b[0m\n\u001b[1;32m   3100\u001b[0m     \u001b[39melse\u001b[39;00m:\n\u001b[1;32m   3101\u001b[0m         obj \u001b[39m=\u001b[39m obj\u001b[39m.\u001b[39mtostring()\n\u001b[0;32m-> 3103\u001b[0m \u001b[39mreturn\u001b[39;00m frombuffer(mode, size, obj, \u001b[39m\"\u001b[39;49m\u001b[39mraw\u001b[39;49m\u001b[39m\"\u001b[39;49m, rawmode, \u001b[39m0\u001b[39;49m, \u001b[39m1\u001b[39;49m)\n",
      "File \u001b[0;32m~/anaconda3/envs/mpenv/lib/python3.11/site-packages/PIL/Image.py:3018\u001b[0m, in \u001b[0;36mfrombuffer\u001b[0;34m(mode, size, data, decoder_name, *args)\u001b[0m\n\u001b[1;32m   3016\u001b[0m     args \u001b[39m=\u001b[39m mode, \u001b[39m0\u001b[39m, \u001b[39m1\u001b[39m\n\u001b[1;32m   3017\u001b[0m \u001b[39mif\u001b[39;00m args[\u001b[39m0\u001b[39m] \u001b[39min\u001b[39;00m _MAPMODES:\n\u001b[0;32m-> 3018\u001b[0m     im \u001b[39m=\u001b[39m new(mode, (\u001b[39m1\u001b[39;49m, \u001b[39m1\u001b[39;49m))\n\u001b[1;32m   3019\u001b[0m     im \u001b[39m=\u001b[39m im\u001b[39m.\u001b[39m_new(core\u001b[39m.\u001b[39mmap_buffer(data, size, decoder_name, \u001b[39m0\u001b[39m, args))\n\u001b[1;32m   3020\u001b[0m     \u001b[39mif\u001b[39;00m mode \u001b[39m==\u001b[39m \u001b[39m\"\u001b[39m\u001b[39mP\u001b[39m\u001b[39m\"\u001b[39m:\n",
      "File \u001b[0;32m~/anaconda3/envs/mpenv/lib/python3.11/site-packages/PIL/Image.py:2932\u001b[0m, in \u001b[0;36mnew\u001b[0;34m(mode, size, color)\u001b[0m\n\u001b[1;32m   2930\u001b[0m     im\u001b[39m.\u001b[39mpalette \u001b[39m=\u001b[39m ImagePalette\u001b[39m.\u001b[39mImagePalette()\n\u001b[1;32m   2931\u001b[0m     color \u001b[39m=\u001b[39m im\u001b[39m.\u001b[39mpalette\u001b[39m.\u001b[39mgetcolor(color)\n\u001b[0;32m-> 2932\u001b[0m \u001b[39mreturn\u001b[39;00m im\u001b[39m.\u001b[39m_new(core\u001b[39m.\u001b[39;49mfill(mode, size, color))\n",
      "\u001b[0;31mKeyboardInterrupt\u001b[0m: "
     ]
    }
   ],
   "source": [
    "cut_models = []\n",
    "\n",
    "for cut in range(depth):\n",
    "    temp = {}\n",
    "    temp['cut_model'] = cut_model(model, sw = 1.5, sb = 1, cut_point = cut)\n",
    "    finetuned_acc, finetuned_test_acc, finetuned_model = compute_training_acc_epochs(temp['cut_model'], dataset, params, debug=True)\n",
    "    temp['finetuned_acc'] = finetuned_acc\n",
    "    temp['finetuned_test_acc'] = finetuned_test_acc\n",
    "    temp['finetuned_model'] = finetuned_model\n",
    "    cut_models.append(temp)   "
   ]
  },
  {
   "cell_type": "code",
   "execution_count": 9,
   "metadata": {},
   "outputs": [
    {
     "data": {
      "image/png": "[encoded data removed]",
      "text/plain": [
       "<Figure size 640x480 with 1 Axes>"
      ]
     },
     "metadata": {},
     "output_type": "display_data"
    }
   ],
   "source": [
    "import matplotlib.pyplot as plt\n",
    "\n",
    "finetuned_accs = [model['finetuned_acc'] for model in cut_models]\n",
    "cuts = range(len(finetuned_accs))\n",
    "plt.plot(cuts, finetuned_accs)\n",
    "plt.xlabel('Cut')\n",
    "plt.ylabel('Finetuned Accuracy')\n",
    "plt.title('Finetuned Accuracy vs Cut')\n",
    "plt.show()"
   ]
  },
  {
   "cell_type": "code",
   "execution_count": null,
   "metadata": {},
   "outputs": [],
   "source": [
    "import matplotlib.pyplot as plt\n",
    "\n",
    "finetuned_test_accs = [model['finetuned_test_acc'] for model in cut_models]\n",
    "cuts = range(len(finetuned_test_accs))\n",
    "plt.plot(cuts, finetuned_test_accs)\n",
    "plt.xlabel('Cut')\n",
    "plt.ylabel('Finetuned Test Accuracy')\n",
    "plt.title('Finetuned Test Accuracy vs Cut')\n",
    "plt.show()"
   ]
  },
  {
   "cell_type": "markdown",
   "metadata": {},
   "source": [
    "-----"
   ]
  },
  {
   "cell_type": "markdown",
   "metadata": {},
   "source": [
    "## Fashion Mnist"
   ]
  },
  {
   "cell_type": "markdown",
   "metadata": {},
   "source": [
    "### Baseline, end to end trained model"
   ]
  },
  {
   "cell_type": "code",
   "execution_count": null,
   "metadata": {},
   "outputs": [],
   "source": [
    "batch_size = 128\n",
    "#device = torch.device(\"cuda\" if torch.cuda.is_available() else \"cpu\")\n",
    "device = 'mps'\n",
    "depth = 5\n",
    "\n",
    "fashion_dataset = FashionMNISTtrainer(batch_size)\n",
    "params = dict(device=device,\n",
    "                width=50, lr=0.01, num_train=4,\n",
    "                sb=1, depth= depth, sw=1.5)\n",
    "\n",
    "fashion_model = generate_fc_dnn(dataset.input_dim, dataset.output_dim,\n",
    "                params['depth'], params['width']).to(device)\n",
    "\n",
    "pretrain_acc, pre_trained_model = compute_training_acc_epochs(fashion_model, fashion_dataset, params, debug=True)"
   ]
  },
  {
   "cell_type": "markdown",
   "metadata": {},
   "source": [
    "### finetuned staring from regular mnist "
   ]
  },
  {
   "cell_type": "code",
   "execution_count": 4,
   "metadata": {},
   "outputs": [],
   "source": [
    "#luckily, the number of classes is the same, so we don't need to change the last layer.\n",
    "\n",
    "fashion_dataset = FashionMNISTtrainer(batch_size)\n",
    "\n",
    "cut_models = []\n",
    "\n",
    "for cut in range(depth):\n",
    "    temp = {}\n",
    "    temp['cut_model'] = cut_model(model, sw = 1.5, sb = 1, cut_point = cut)\n",
    "    finetuned_acc, finetuned_model = compute_training_acc_epochs(temp['cut_model'], fashion_dataset, params, debug=False)\n",
    "    temp['finetuned_acc'] = finetuned_acc\n",
    "    temp['finetuned_model'] = finetuned_model\n",
    "    cut_models.append(temp)   "
   ]
  },
  {
   "cell_type": "code",
   "execution_count": 5,
   "metadata": {},
   "outputs": [
    {
     "name": "stdout",
     "output_type": "stream",
     "text": [
      "Cut 0:\n",
      "0.7849333333333334\n",
      "Cut 1:\n",
      "0.7102833333333334\n",
      "Cut 2:\n",
      "0.6817\n",
      "Cut 3:\n",
      "0.6076\n",
      "Cut 4:\n",
      "0.5804666666666667\n",
      "Cut 5:\n",
      "0.4597333333333333\n",
      "Cut 6:\n",
      "0.5509166666666667\n",
      "Cut 7:\n",
      "0.33653333333333335\n",
      "Cut 8:\n",
      "0.29525\n",
      "Cut 9:\n",
      "0.11783333333333333\n"
     ]
    }
   ],
   "source": [
    "from pprint import pprint\n",
    "\n",
    "for i, mod in enumerate(cut_models):\n",
    "    print(f\"Cut {i}:\")\n",
    "    pprint(mod['finetuned_acc'])"
   ]
  },
  {
   "cell_type": "code",
   "execution_count": 6,
   "metadata": {},
   "outputs": [
    {
     "data": {
      "image/png": "[encoded data removed]",
      "text/plain": [
       "<Figure size 640x480 with 1 Axes>"
      ]
     },
     "metadata": {},
     "output_type": "display_data"
    }
   ],
   "source": [
    "import matplotlib.pyplot as plt\n",
    "\n",
    "finetuned_accs = [model['finetuned_acc'] for model in cut_models]\n",
    "cuts = range(len(finetuned_accs))\n",
    "plt.plot(cuts, finetuned_accs)\n",
    "plt.xlabel('Cut')\n",
    "plt.ylabel('Finetuned Accuracy')\n",
    "plt.title('Finetuned Accuracy vs Cut')\n",
    "plt.show()"
   ]
  },
  {
   "cell_type": "code",
   "execution_count": null,
   "metadata": {},
   "outputs": [],
   "source": []
  },
  {
   "cell_type": "markdown",
   "metadata": {},
   "source": [
    "----"
   ]
  },
  {
   "cell_type": "code",
   "execution_count": null,
   "metadata": {},
   "outputs": [],
   "source": [
    "dataset = MNISTtrainer(args.batch_size)\n",
    "params = dict(device='cpu' if args.no_cuda else 'cuda',\n",
    "                width=args.width, lr=args.lr, num_train=args.num_train,\n",
    "                sb=0.05,\n",
    "    )\n",
    "if args.debug: print(params)\n",
    "\n",
    "# run experiment in grid coordinate.\n",
    "sws = np.linspace(1., 4., args.num_sw)\n",
    "\n",
    "# test a lot less depths\n",
    "depths = np.linspace(10, 100, args.num_depth, dtype=int)\n",
    "\n",
    "pretrain_accs = list()\n",
    "all_cut_accuracies = list()\n",
    "\n",
    "for i, depth in enumerate(depths):\n",
    "    for j, sw in enumerate(sws):\n",
    "        params['depth'], params['sw'] = depth, sw\n",
    "        \n",
    "        # build and initialize the DNN model and optimizer\n",
    "        model = generate_fc_dnn(dataset.input_dim, dataset.output_dim,\n",
    "                        params['depth'], params['width']).to(device)\n",
    "        \n",
    "        pretrain_acc, pre_trained_model = compute_training_acc(model, dataset, params, debug=False)\n",
    "        cut_accuracies = calculate_cut_accuracies(model, sw, sb, dataset, params)\n",
    "        all_cut_accuracies.append(cut_accuracies)\n",
    "        \n",
    "        acc = compute_training_acc(dataset, params, debug=args.debug_train_acc)\n",
    "        pretrain_accs.append(pretrain_acc)\n",
    "        \n",
    "        if args.debug: print('({},{})->[d={},sw={}]: \\t Train Acc: {:.6f}'.format(i,j,depth,sw,acc))\n",
    "\n",
    "# acc = np.array(accs).reshape((len(depths), len(sws)))\n",
    "# np.savez('train_acc', xgrid=sws,ygrid=depths,train_acc=acc)"
   ]
  }
 ],
 "metadata": {
  "kernelspec": {
   "display_name": "pytorch",
   "language": "python",
   "name": "python3"
  },
  "language_info": {
   "codemirror_mode": {
    "name": "ipython",
    "version": 3
   },
   "file_extension": ".py",
   "mimetype": "text/x-python",
   "name": "python",
   "nbconvert_exporter": "python",
   "pygments_lexer": "ipython3",
   "version": "3.11.4"
  },
  "orig_nbformat": 4
 },
 "nbformat": 4,
 "nbformat_minor": 2
}

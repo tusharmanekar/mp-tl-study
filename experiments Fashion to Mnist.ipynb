{
 "cells": [
  {
   "cell_type": "code",
   "execution_count": 1,
   "metadata": {},
   "outputs": [],
   "source": [
    "from utils import *"
   ]
  },
  {
   "cell_type": "markdown",
   "metadata": {},
   "source": [
    "### Baseline, end to end trained model"
   ]
  },
  {
   "cell_type": "code",
   "execution_count": 7,
   "metadata": {},
   "outputs": [
    {
     "name": "stdout",
     "output_type": "stream",
     "text": [
      "Sequential(\n",
      "  (0): Linear(in_features=784, out_features=50, bias=True)\n",
      "  (1): Tanh()\n",
      "  (2): Linear(in_features=50, out_features=50, bias=True)\n",
      "  (3): Tanh()\n",
      "  (4): Linear(in_features=50, out_features=50, bias=True)\n",
      "  (5): Tanh()\n",
      "  (6): Linear(in_features=50, out_features=50, bias=True)\n",
      "  (7): Tanh()\n",
      "  (8): Linear(in_features=50, out_features=50, bias=True)\n",
      "  (9): Tanh()\n",
      "  (10): Linear(in_features=50, out_features=50, bias=True)\n",
      "  (11): Tanh()\n",
      "  (12): Linear(in_features=50, out_features=50, bias=True)\n",
      "  (13): Tanh()\n",
      "  (14): Linear(in_features=50, out_features=50, bias=True)\n",
      "  (15): Tanh()\n",
      "  (16): Linear(in_features=50, out_features=50, bias=True)\n",
      "  (17): Tanh()\n",
      "  (18): Linear(in_features=50, out_features=10, bias=True)\n",
      "  (19): LogSoftmax(dim=1)\n",
      ") SGD (\n",
      "Parameter Group 0\n",
      "    dampening: 0\n",
      "    differentiable: False\n",
      "    foreach: None\n",
      "    lr: 0.01\n",
      "    maximize: False\n",
      "    momentum: 0\n",
      "    nesterov: False\n",
      "    weight_decay: 0\n",
      ")\n",
      "\n",
      "Train set: Average loss: 0.9939, Accuracy: 39408.0/60000 (66%)\n",
      "\n",
      "Epoch: 0 \tTraining Accuracy: 65.68%\n",
      "\n",
      "Train set: Average loss: 0.7503, Accuracy: 43876.0/60000 (73%)\n",
      "\n",
      "Epoch: 1 \tTraining Accuracy: 73.13%\n",
      "\n",
      "Train set: Average loss: 0.6522, Accuracy: 45777.0/60000 (76%)\n",
      "\n",
      "Epoch: 2 \tTraining Accuracy: 76.30%\n",
      "\n",
      "Train set: Average loss: 0.6061, Accuracy: 46836.0/60000 (78%)\n",
      "\n",
      "Epoch: 3 \tTraining Accuracy: 78.06%\n",
      "\n",
      "Train set: Average loss: 0.6061, Accuracy: 46836.0/60000 (78%)\n",
      "\n"
     ]
    }
   ],
   "source": [
    "batch_size = 128\n",
    "#device = torch.device(\"cuda\" if torch.cuda.is_available() else \"cpu\")\n",
    "device = 'mps'\n",
    "depth = 10\n",
    "\n",
    "fashion_dataset = FashionMNISTtrainer(batch_size)\n",
    "params = dict(device=device,\n",
    "                width=50, lr=0.01, num_train=4,\n",
    "                sb=1, depth= depth, sw=1.5)\n",
    "\n",
    "fashion_model = generate_fc_dnn(fashion_dataset.input_dim, fashion_dataset.output_dim,\n",
    "                params['depth'], params['width']).to(device)\n",
    "\n",
    "pretrain_acc, pre_trained_model = compute_training_acc_epochs(fashion_model, fashion_dataset, params, debug=True)"
   ]
  },
  {
   "cell_type": "markdown",
   "metadata": {},
   "source": [
    "### finetuned staring from regular mnist "
   ]
  },
  {
   "cell_type": "code",
   "execution_count": 4,
   "metadata": {},
   "outputs": [],
   "source": [
    "#luckily, the number of classes is the same, so we don't need to change the last layer.\n",
    "\n",
    "number_dataset = MNISTtrainer(batch_size)\n",
    "\n",
    "cut_models = []\n",
    "\n",
    "for cut in range(depth):\n",
    "    temp = {}\n",
    "    temp['cut_model'] = cut_model(fashion_model, sw = 1.5, sb = 1, cut_point = cut)\n",
    "    finetuned_acc, finetuned_model = compute_training_acc_epochs(temp['cut_model'], number_dataset, params, debug=False)\n",
    "    temp['finetuned_acc'] = finetuned_acc\n",
    "    temp['finetuned_model'] = finetuned_model\n",
    "    cut_models.append(temp)   "
   ]
  },
  {
   "cell_type": "code",
   "execution_count": 5,
   "metadata": {},
   "outputs": [
    {
     "name": "stdout",
     "output_type": "stream",
     "text": [
      "Cut 0:\n",
      "0.8714666666666666\n",
      "Cut 1:\n",
      "0.7615666666666666\n",
      "Cut 2:\n",
      "0.6475833333333333\n",
      "Cut 3:\n",
      "0.5666\n",
      "Cut 4:\n",
      "0.3189\n"
     ]
    }
   ],
   "source": [
    "from pprint import pprint\n",
    "\n",
    "for i, mod in enumerate(cut_models):\n",
    "    print(f\"Cut {i}:\")\n",
    "    pprint(mod['finetuned_acc'])"
   ]
  },
  {
   "cell_type": "code",
   "execution_count": 6,
   "metadata": {},
   "outputs": [
    {
     "data": {
      "image/png": "[encoded data removed]",
      "text/plain": [
       "<Figure size 640x480 with 1 Axes>"
      ]
     },
     "metadata": {},
     "output_type": "display_data"
    }
   ],
   "source": [
    "import matplotlib.pyplot as plt\n",
    "\n",
    "finetuned_accs = [model['finetuned_acc'] for model in cut_models]\n",
    "cuts = range(len(finetuned_accs))\n",
    "plt.plot(cuts, finetuned_accs)\n",
    "plt.xlabel('Cut')\n",
    "plt.ylabel('Finetuned Accuracy')\n",
    "plt.title('Finetuned Accuracy vs Cut')\n",
    "plt.show()"
   ]
  },
  {
   "cell_type": "code",
   "execution_count": null,
   "metadata": {},
   "outputs": [],
   "source": []
  },
  {
   "cell_type": "markdown",
   "metadata": {},
   "source": [
    "----"
   ]
  },
  {
   "cell_type": "code",
   "execution_count": null,
   "metadata": {},
   "outputs": [],
   "source": [
    "dataset = MNISTtrainer(args.batch_size)\n",
    "params = dict(device='cpu' if args.no_cuda else 'cuda',\n",
    "                width=args.width, lr=args.lr, num_train=args.num_train,\n",
    "                sb=0.05,\n",
    "    )\n",
    "if args.debug: print(params)\n",
    "\n",
    "# run experiment in grid coordinate.\n",
    "sws = np.linspace(1., 4., args.num_sw)\n",
    "\n",
    "# test a lot less depths\n",
    "depths = np.linspace(10, 100, args.num_depth, dtype=int)\n",
    "\n",
    "pretrain_accs = list()\n",
    "all_cut_accuracies = list()\n",
    "\n",
    "for i, depth in enumerate(depths):\n",
    "    for j, sw in enumerate(sws):\n",
    "        params['depth'], params['sw'] = depth, sw\n",
    "        \n",
    "        # build and initialize the DNN model and optimizer\n",
    "        model = generate_fc_dnn(dataset.input_dim, dataset.output_dim,\n",
    "                        params['depth'], params['width']).to(device)\n",
    "        \n",
    "        pretrain_acc, pre_trained_model = compute_training_acc(model, dataset, params, debug=False)\n",
    "        cut_accuracies = calculate_cut_accuracies(model, sw, sb, dataset, params)\n",
    "        all_cut_accuracies.append(cut_accuracies)\n",
    "        \n",
    "        acc = compute_training_acc(dataset, params, debug=args.debug_train_acc)\n",
    "        pretrain_accs.append(pretrain_acc)\n",
    "        \n",
    "        if args.debug: print('({},{})->[d={},sw={}]: \\t Train Acc: {:.6f}'.format(i,j,depth,sw,acc))\n",
    "\n",
    "# acc = np.array(accs).reshape((len(depths), len(sws)))\n",
    "# np.savez('train_acc', xgrid=sws,ygrid=depths,train_acc=acc)"
   ]
  }
 ],
 "metadata": {
  "kernelspec": {
   "display_name": "pytorch",
   "language": "python",
   "name": "python3"
  },
  "language_info": {
   "codemirror_mode": {
    "name": "ipython",
    "version": 3
   },
   "file_extension": ".py",
   "mimetype": "text/x-python",
   "name": "python",
   "nbconvert_exporter": "python",
   "pygments_lexer": "ipython3",
   "version": "3.11.0"
  },
  "orig_nbformat": 4
 },
 "nbformat": 4,
 "nbformat_minor": 2
}

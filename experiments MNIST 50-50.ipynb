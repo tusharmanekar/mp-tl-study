{
 "cells": [
  {
   "cell_type": "code",
   "execution_count": 1,
   "metadata": {},
   "outputs": [],
   "source": [
    "from utils import *"
   ]
  },
  {
   "cell_type": "code",
   "execution_count": 2,
   "metadata": {},
   "outputs": [],
   "source": [
    "import torch\n",
    "from torchvision import datasets, transforms\n",
    "\n",
    "class TransferLearningMNIST(object):\n",
    "    def __init__(self, batch_size, input_dim=28*28, val_split=0.1):\n",
    "        self.input_dim = input_dim\n",
    "        self.output_dim = 10\n",
    "        self.val_split = val_split\n",
    "\n",
    "        def filter_dataset(dataset, classes):\n",
    "            indices = [i for i, t in enumerate(dataset.targets) if t in classes]\n",
    "            return torch.utils.data.Subset(dataset, indices)\n",
    "        \n",
    "        mnist_train_data = datasets.MNIST(\n",
    "            '../data',\n",
    "            train=True,\n",
    "            download=True,\n",
    "            transform=transforms.Compose([\n",
    "                transforms.ToTensor(),\n",
    "                transforms.Lambda(lambda x: (x * 2 - 1) * 0.5),\n",
    "            ]))\n",
    "\n",
    "        pretrain_train_data = filter_dataset(mnist_train_data, list(range(5)))\n",
    "        finetune_train_data = filter_dataset(mnist_train_data, list(range(5, 10)))\n",
    "\n",
    "        pretrain_len = len(pretrain_train_data)\n",
    "        finetune_len = len(finetune_train_data)\n",
    "        pretrain_val_len = int(val_split * pretrain_len)\n",
    "        finetune_val_len = int(val_split * finetune_len)\n",
    "\n",
    "        pretrain_train_set, pretrain_val_set = torch.utils.data.random_split(\n",
    "            pretrain_train_data, [pretrain_len - pretrain_val_len, pretrain_val_len])\n",
    "        finetune_train_set, finetune_val_set = torch.utils.data.random_split(\n",
    "            finetune_train_data, [finetune_len - finetune_val_len, finetune_val_len])\n",
    "\n",
    "        self.pretrain_train_loader = torch.utils.data.DataLoader(pretrain_train_set, batch_size=batch_size, shuffle=True)\n",
    "        self.pretrain_val_loader = torch.utils.data.DataLoader(pretrain_val_set, batch_size=batch_size, shuffle=False)\n",
    "        self.finetune_train_loader = torch.utils.data.DataLoader(finetune_train_set, batch_size=batch_size, shuffle=True)\n",
    "        self.finetune_val_loader = torch.utils.data.DataLoader(finetune_val_set, batch_size=batch_size, shuffle=False)\n",
    "\n",
    "        # Separate test loaders\n",
    "        mnist_test_data = datasets.MNIST(\n",
    "            '../data',\n",
    "            train=False,\n",
    "            download=True,\n",
    "            transform=transforms.Compose([\n",
    "                transforms.ToTensor(),\n",
    "                transforms.Lambda(lambda x: (x * 2 - 1) * 0.5),\n",
    "            ]))\n",
    "\n",
    "        pretrain_test_data = filter_dataset(mnist_test_data, list(range(5)))\n",
    "        finetune_test_data = filter_dataset(mnist_test_data, list(range(5, 10)))\n",
    "\n",
    "        self.pretrain_test_loader = torch.utils.data.DataLoader(pretrain_test_data, batch_size=batch_size, shuffle=False)\n",
    "        self.finetune_test_loader = torch.utils.data.DataLoader(finetune_test_data, batch_size=batch_size, shuffle=False)\n",
    "        self.complete_test_loader = torch.utils.data.DataLoader(mnist_test_data, batch_size=batch_size, shuffle=False)\n"
   ]
  },
  {
   "cell_type": "code",
   "execution_count": 3,
   "metadata": {},
   "outputs": [],
   "source": [
    "import torch\n",
    "import torch.optim as optim\n",
    "import torch.nn.functional as F\n",
    "\n",
    "class TransferLearningMNISTWrapper:\n",
    "    def __init__(self, transferLearningMNISTObj, phase):\n",
    "        self.transferLearningMNISTObj = transferLearningMNISTObj\n",
    "        self.phase = phase\n",
    "        self.input_dim = self.transferLearningMNISTObj.input_dim\n",
    "        self.output_dim = self.transferLearningMNISTObj.output_dim\n",
    "        self.update_phase(phase)\n",
    "        \n",
    "    def update_phase(self, phase):\n",
    "        self.phase = phase\n",
    "        if phase == 'pretrain':\n",
    "            self.train_loader = self.transferLearningMNISTObj.pretrain_train_loader\n",
    "            self.val_loader = self.transferLearningMNISTObj.pretrain_val_loader\n",
    "            self.test_loader = self.transferLearningMNISTObj.pretrain_test_loader\n",
    "        elif phase == 'finetune':\n",
    "            self.train_loader = self.transferLearningMNISTObj.finetune_train_loader\n",
    "            self.val_loader = self.transferLearningMNISTObj.finetune_val_loader\n",
    "            self.test_loader = self.transferLearningMNISTObj.finetune_test_loader\n",
    "        else:\n",
    "            raise ValueError('Phase must be either \"pretrain\" or \"finetune\".')"
   ]
  },
  {
   "cell_type": "code",
   "execution_count": 4,
   "metadata": {},
   "outputs": [
    {
     "name": "stdout",
     "output_type": "stream",
     "text": [
      "Epoch: 0 \tTraining Accuracy: 88.64%\n",
      "Validation Accuracy: 89.02%\n",
      "Epoch: 1 \tTraining Accuracy: 92.34%\n",
      "Validation Accuracy: 92.51%\n",
      "Epoch: 2 \tTraining Accuracy: 93.68%\n",
      "Validation Accuracy: 93.46%\n",
      "Epoch: 3 \tTraining Accuracy: 94.32%\n",
      "Validation Accuracy: 94.48%\n"
     ]
    }
   ],
   "source": [
    "batch_size = 128\n",
    "#device = torch.device(\"cuda\" if torch.cuda.is_available() else \"cpu\")\n",
    "device = 'mps'\n",
    "depth = 5\n",
    "\n",
    "dataset = TransferLearningMNIST(batch_size)\n",
    "dataset_wrapped = TransferLearningMNISTWrapper(dataset, 'pretrain')\n",
    "params = dict(device=device,\n",
    "                width=50, lr=0.01, num_train=4,\n",
    "                sb=1, depth= depth, sw=1.5, early_stop_patience = 2)\n",
    "\n",
    "model = generate_fc_dnn(dataset.input_dim, dataset.output_dim,\n",
    "                params).to(device)\n",
    "\n",
    "pretrain_train_acc, pretrain_test_acc, pre_trained_model = compute_training_acc_epochs(model, dataset_wrapped, params, debug=True)"
   ]
  },
  {
   "cell_type": "code",
   "execution_count": 7,
   "metadata": {},
   "outputs": [
    {
     "name": "stdout",
     "output_type": "stream",
     "text": [
      "Test Accuracy on training classes: 0.95%\n",
      "Test Accuracy on finetuning classes: 0.00%\n"
     ]
    }
   ],
   "source": [
    "test_acc = eval(pre_trained_model, device, dataset.pretrain_test_loader, False)\n",
    "print(f\"Test Accuracy on training classes: {test_acc:.2f}%\")\n",
    "\n",
    "test_acc_transfer = eval(pre_trained_model, device, dataset.finetune_test_loader, False)\n",
    "print(f\"Test Accuracy on finetuning classes: {test_acc_transfer:.2f}%\")"
   ]
  },
  {
   "cell_type": "code",
   "execution_count": 8,
   "metadata": {},
   "outputs": [
    {
     "name": "stdout",
     "output_type": "stream",
     "text": [
      "Epoch: 0 \tTraining Accuracy: 80.36%\n",
      "Validation Accuracy: 80.54%\n",
      "Epoch: 1 \tTraining Accuracy: 87.31%\n",
      "Validation Accuracy: 87.38%\n",
      "Epoch: 2 \tTraining Accuracy: 89.41%\n",
      "Validation Accuracy: 89.18%\n",
      "Epoch: 3 \tTraining Accuracy: 90.87%\n",
      "Validation Accuracy: 90.03%\n",
      "Epoch: 0 \tTraining Accuracy: 73.92%\n",
      "Validation Accuracy: 75.03%\n",
      "Epoch: 1 \tTraining Accuracy: 78.91%\n",
      "Validation Accuracy: 79.76%\n",
      "Epoch: 2 \tTraining Accuracy: 81.00%\n",
      "Validation Accuracy: 80.51%\n",
      "Epoch: 3 \tTraining Accuracy: 82.15%\n",
      "Validation Accuracy: 81.46%\n",
      "Epoch: 0 \tTraining Accuracy: 66.91%\n",
      "Validation Accuracy: 67.72%\n",
      "Epoch: 1 \tTraining Accuracy: 72.08%\n",
      "Validation Accuracy: 72.59%\n",
      "Epoch: 2 \tTraining Accuracy: 74.26%\n",
      "Validation Accuracy: 74.73%\n",
      "Epoch: 3 \tTraining Accuracy: 76.00%\n",
      "Validation Accuracy: 76.09%\n",
      "Epoch: 0 \tTraining Accuracy: 61.50%\n",
      "Validation Accuracy: 62.01%\n",
      "Epoch: 1 \tTraining Accuracy: 65.00%\n",
      "Validation Accuracy: 65.37%\n",
      "Epoch: 2 \tTraining Accuracy: 66.72%\n",
      "Validation Accuracy: 67.93%\n",
      "Epoch: 3 \tTraining Accuracy: 68.18%\n",
      "Validation Accuracy: 69.22%\n",
      "Epoch: 0 \tTraining Accuracy: 33.40%\n",
      "Validation Accuracy: 32.72%\n",
      "Epoch: 1 \tTraining Accuracy: 46.63%\n",
      "Validation Accuracy: 46.53%\n",
      "Epoch: 2 \tTraining Accuracy: 55.62%\n",
      "Validation Accuracy: 56.26%\n",
      "Epoch: 3 \tTraining Accuracy: 58.74%\n",
      "Validation Accuracy: 60.07%\n"
     ]
    }
   ],
   "source": [
    "dataset_wrapped.update_phase('finetune')\n",
    "cut_models = []\n",
    "\n",
    "for cut in range(depth):\n",
    "    temp = {}\n",
    "    temp['cut_model'] = cut_model(pre_trained_model, sw = 1.5, sb = 1, cut_point = cut)\n",
    "    finetuned_train_acc, finetuned_test_acc, finetuned_model = compute_training_acc_epochs(temp['cut_model'], dataset_wrapped, params, debug=True)\n",
    "    temp['finetuned_train_acc'] = finetuned_train_acc\n",
    "    temp['finetuned_test_acc'] = finetuned_test_acc\n",
    "    temp['finetuned_model'] = finetuned_model\n",
    "    cut_models.append(temp)   "
   ]
  },
  {
   "cell_type": "code",
   "execution_count": 11,
   "metadata": {},
   "outputs": [
    {
     "data": {
      "image/png": "[encoded data removed]",
      "text/plain": [
       "<Figure size 640x480 with 1 Axes>"
      ]
     },
     "metadata": {},
     "output_type": "display_data"
    }
   ],
   "source": [
    "import matplotlib.pyplot as plt\n",
    "\n",
    "finetuned_accs = [model['finetuned_train_acc'] for model in cut_models]\n",
    "cuts = range(len(finetuned_accs))\n",
    "plt.plot(cuts, finetuned_accs)\n",
    "plt.xlabel('Cut')\n",
    "plt.ylabel('Finetuned Training Accuracy')\n",
    "plt.title('Finetuned Training Accuracy vs Cut')\n",
    "plt.show()"
   ]
  },
  {
   "cell_type": "markdown",
   "metadata": {},
   "source": [
    "-----"
   ]
  },
  {
   "cell_type": "markdown",
   "metadata": {},
   "source": [
    "## Fashion Mnist"
   ]
  },
  {
   "cell_type": "markdown",
   "metadata": {},
   "source": [
    "### Baseline, end to end trained model"
   ]
  },
  {
   "cell_type": "code",
   "execution_count": 4,
   "metadata": {},
   "outputs": [
    {
     "name": "stdout",
     "output_type": "stream",
     "text": [
      "Sequential(\n",
      "  (0): Linear(in_features=784, out_features=50, bias=True)\n",
      "  (1): Tanh()\n",
      "  (2): Linear(in_features=50, out_features=50, bias=True)\n",
      "  (3): Tanh()\n",
      "  (4): Linear(in_features=50, out_features=50, bias=True)\n",
      "  (5): Tanh()\n",
      "  (6): Linear(in_features=50, out_features=50, bias=True)\n",
      "  (7): Tanh()\n",
      "  (8): Linear(in_features=50, out_features=10, bias=True)\n",
      "  (9): LogSoftmax(dim=1)\n",
      ") SGD (\n",
      "Parameter Group 0\n",
      "    dampening: 0\n",
      "    differentiable: False\n",
      "    foreach: None\n",
      "    lr: 0.01\n",
      "    maximize: False\n",
      "    momentum: 0\n",
      "    nesterov: False\n",
      "    weight_decay: 0\n",
      ")\n",
      "\n",
      "Train set: Average loss: 0.8191, Accuracy: 42975.0/60000 (72%)\n",
      "\n",
      "Epoch: 0 \tTraining Accuracy: 71.62%\n",
      "\n",
      "Train set: Average loss: 0.6768, Accuracy: 45237.0/60000 (75%)\n",
      "\n",
      "Epoch: 1 \tTraining Accuracy: 75.39%\n",
      "\n",
      "Train set: Average loss: 0.6093, Accuracy: 46827.0/60000 (78%)\n",
      "\n",
      "Epoch: 2 \tTraining Accuracy: 78.05%\n",
      "\n",
      "Train set: Average loss: 0.5691, Accuracy: 47610.0/60000 (79%)\n",
      "\n",
      "Epoch: 3 \tTraining Accuracy: 79.35%\n",
      "\n",
      "Train set: Average loss: 0.5691, Accuracy: 47610.0/60000 (79%)\n",
      "\n"
     ]
    }
   ],
   "source": [
    "batch_size = 128\n",
    "#device = torch.device(\"cuda\" if torch.cuda.is_available() else \"cpu\")\n",
    "device = 'mps'\n",
    "depth = 5\n",
    "\n",
    "fashion_dataset = FashionMNISTtrainer(batch_size)\n",
    "params = dict(device=device,\n",
    "                width=50, lr=0.01, num_train=4,\n",
    "                sb=1, depth= depth, sw=1.5)\n",
    "\n",
    "fashion_model = generate_fc_dnn(dataset.input_dim, dataset.output_dim,\n",
    "                params['depth'], params['width']).to(device)\n",
    "\n",
    "pretrain_acc, pre_trained_model = compute_training_acc_epochs(fashion_model, fashion_dataset, params, debug=True)"
   ]
  },
  {
   "cell_type": "markdown",
   "metadata": {},
   "source": [
    "### finetuned staring from regular mnist "
   ]
  },
  {
   "cell_type": "code",
   "execution_count": 6,
   "metadata": {},
   "outputs": [],
   "source": [
    "#luckily, the number of classes is the same, so we don't need to change the last layer.\n",
    "\n",
    "cut_models = []\n",
    "\n",
    "for cut in range(depth):\n",
    "    temp = {}\n",
    "    temp['cut_model'] = cut_model(model, sw = 1.5, sb = 1, cut_point = cut)\n",
    "    finetuned_acc, finetuned_model = compute_training_acc_epochs(temp['cut_model'], fashion_dataset, params, debug=False)\n",
    "    temp['finetuned_acc'] = finetuned_acc\n",
    "    temp['finetuned_model'] = finetuned_model\n",
    "    cut_models.append(temp)   "
   ]
  },
  {
   "cell_type": "code",
   "execution_count": 9,
   "metadata": {},
   "outputs": [
    {
     "name": "stdout",
     "output_type": "stream",
     "text": [
      "Cut 0:\n",
      "0.7911\n",
      "Cut 1:\n",
      "0.7381833333333333\n",
      "Cut 2:\n",
      "0.6858333333333333\n",
      "Cut 3:\n",
      "0.6187833333333334\n",
      "Cut 4:\n",
      "0.27591666666666664\n"
     ]
    }
   ],
   "source": [
    "from pprint import pprint\n",
    "\n",
    "for i, mod in enumerate(cut_models):\n",
    "    print(f\"Cut {i}:\")\n",
    "    pprint(mod['finetuned_acc'])"
   ]
  },
  {
   "cell_type": "code",
   "execution_count": 7,
   "metadata": {},
   "outputs": [
    {
     "data": {
      "image/png": "[encoded data removed]",
      "text/plain": [
       "<Figure size 640x480 with 1 Axes>"
      ]
     },
     "metadata": {},
     "output_type": "display_data"
    }
   ],
   "source": [
    "import matplotlib.pyplot as plt\n",
    "\n",
    "finetuned_accs = [model['finetuned_acc'] for model in cut_models]\n",
    "cuts = range(len(finetuned_accs))\n",
    "plt.plot(cuts, finetuned_accs)\n",
    "plt.xlabel('Cut')\n",
    "plt.ylabel('Finetuned Accuracy')\n",
    "plt.title('Finetuned Accuracy vs Cut')\n",
    "plt.show()"
   ]
  },
  {
   "cell_type": "code",
   "execution_count": null,
   "metadata": {},
   "outputs": [],
   "source": []
  },
  {
   "cell_type": "markdown",
   "metadata": {},
   "source": [
    "----"
   ]
  }
 ],
 "metadata": {
  "kernelspec": {
   "display_name": "pytorch",
   "language": "python",
   "name": "python3"
  },
  "language_info": {
   "codemirror_mode": {
    "name": "ipython",
    "version": 3
   },
   "file_extension": ".py",
   "mimetype": "text/x-python",
   "name": "python",
   "nbconvert_exporter": "python",
   "pygments_lexer": "ipython3",
   "version": "3.11.0"
  },
  "orig_nbformat": 4
 },
 "nbformat": 4,
 "nbformat_minor": 2
}

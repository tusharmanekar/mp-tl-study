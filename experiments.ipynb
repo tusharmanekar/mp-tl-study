{
 "cells": [
  {
   "cell_type": "code",
   "execution_count": null,
   "metadata": {},
   "outputs": [],
   "source": [
    "from utils import *\n"
   ]
  },
  {
   "cell_type": "code",
   "execution_count": null,
   "metadata": {},
   "outputs": [],
   "source": [
    "dataset = MNISTtrainer(args.batch_size)\n",
    "params = dict(device='cpu' if args.no_cuda else 'cuda',\n",
    "                width=args.width, lr=args.lr, num_train=args.num_train,\n",
    "                sb=0.05,\n",
    "    )\n",
    "if args.debug: print(params)\n",
    "\n",
    "# run experiment in grid coordinate.\n",
    "sws = np.linspace(1., 4., args.num_sw)\n",
    "\n",
    "# test a lot less depths\n",
    "depths = np.linspace(10, 100, args.num_depth, dtype=int)\n",
    "\n",
    "pretrain_accs = list()\n",
    "all_cut_accuracies = list()\n",
    "\n",
    "for i, depth in enumerate(depths):\n",
    "    for j, sw in enumerate(sws):\n",
    "        params['depth'], params['sw'] = depth, sw\n",
    "        \n",
    "        # build and initialize the DNN model and optimizer\n",
    "        model = generate_fc_dnn(dataset.input_dim, dataset.output_dim,\n",
    "                        params['depth'], params['width']).to(device)\n",
    "        \n",
    "        pretrain_acc, pre_trained_model = compute_training_acc(model, dataset, params, debug=False)\n",
    "        cut_accuracies = calculate_cut_accuracies(model, sw, sb, dataset, params)\n",
    "        all_cut_accuracies.append(cut_accuracies)\n",
    "        \n",
    "        acc = compute_training_acc(dataset, params, debug=args.debug_train_acc)\n",
    "        pretrain_accs.append(pretrain_acc)\n",
    "        \n",
    "        if args.debug: print('({},{})->[d={},sw={}]: \\t Train Acc: {:.6f}'.format(i,j,depth,sw,acc))\n",
    "\n",
    "# acc = np.array(accs).reshape((len(depths), len(sws)))\n",
    "# np.savez('train_acc', xgrid=sws,ygrid=depths,train_acc=acc)"
   ]
  }
 ],
 "metadata": {
  "language_info": {
   "name": "python"
  },
  "orig_nbformat": 4
 },
 "nbformat": 4,
 "nbformat_minor": 2
}

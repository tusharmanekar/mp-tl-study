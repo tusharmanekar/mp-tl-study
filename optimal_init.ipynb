{
 "cells": [
  {
   "cell_type": "code",
   "execution_count": 4,
   "metadata": {},
   "outputs": [
    {
     "name": "stderr",
     "output_type": "stream",
     "text": [
      "usage: ipykernel_launcher.py [-h] [--depth-scale-file DEPTH_SCALE_FILE]\n",
      "                             [--train-acc-file TRAIN_ACC_FILE] [--no-cuda]\n",
      "                             [--num-sw NUM_SW] [--num-depth NUM_DEPTH]\n",
      "                             [--batch-size BATCH_SIZE] [--num-train NUM_TRAIN]\n",
      "                             [--width WIDTH] [--lr LR] [--debug]\n",
      "                             [--debug-train-acc]\n",
      "ipykernel_launcher.py: error: unrecognized arguments: --ip=127.0.0.1 --stdin=9013 --control=9011 --hb=9010 --Session.signature_scheme=\"hmac-sha256\" --Session.key=b\"c0ec9b33-8f93-4bd9-9567-4c30332d0de4\" --shell=9012 --transport=\"tcp\" --iopub=9014 --f=/root/.local/share/jupyter/runtime/kernel-v2-1401vRGXOj31M75.json\n"
     ]
    },
    {
     "ename": "SystemExit",
     "evalue": "2",
     "output_type": "error",
     "traceback": [
      "An exception has occurred, use %tb to see the full traceback.\n",
      "\u001b[0;31mSystemExit\u001b[0m\u001b[0;31m:\u001b[0m 2\n"
     ]
    },
    {
     "name": "stderr",
     "output_type": "stream",
     "text": [
      "/root/anaconda3/envs/mpenv/lib/python3.11/site-packages/IPython/core/interactiveshell.py:3516: UserWarning: To exit: use 'exit', 'quit', or Ctrl-D.\n",
      "  warn(\"To exit: use 'exit', 'quit', or Ctrl-D.\", stacklevel=1)\n"
     ]
    }
   ],
   "source": [
    "import numpy as np\n",
    "import matplotlib.pyplot as plt\n",
    "from matplotlib import rc, cm\n",
    "\n",
    "import argparse\n",
    "\n",
    "from theory import MeanField\n",
    "from data_utils import MNISTtrainer\n",
    "# from utils import compute_training_acc\n",
    "\n",
    "\n",
    "def d_tanh(x):\n",
    "    \"\"\"Derivative of tanh.\"\"\"\n",
    "    return 1. / np.cosh(x)**2\n",
    "\n",
    "\n",
    "def simple_plot(x, y):\n",
    "    plt.plot(x, y)\n",
    "\n",
    "    plt.xlim(1.0, 4.0)\n",
    "    plt.ylim(10, 100)\n",
    "    plt.xlabel('$\\sigma_\\omega^2$', fontsize=16)\n",
    "    plt.ylabel('depth scale', fontsize=16)\n",
    "    plt.show()\n",
    "\n",
    "\n",
    "def plot(x, y, train_acc_contour=None):\n",
    "    fontsize = 20\n",
    "    plt.rc('text', usetex=True)\n",
    "    plt.rc('font', family='serif')\n",
    "    plt.rc('xtick', labelsize=int(fontsize / 1.5))\n",
    "    plt.rc('ytick', labelsize=int(fontsize / 1.5))\n",
    "\n",
    "    # plot contour\n",
    "    if train_acc_contour:\n",
    "        # parse\n",
    "        xgrid = train_acc_contour['xgrid']\n",
    "        ygrid = train_acc_contour['ygrid']\n",
    "        train_acc = train_acc_contour['train_acc']\n",
    "\n",
    "        # plot contourf\n",
    "        XGrid, YGrid = np.meshgrid(xgrid, ygrid)\n",
    "        trian_acc_range = np.linspace(0., 1.0, 11, endpoint=True)\n",
    "\n",
    "        plt.contourf(XGrid, YGrid, train_acc, trian_acc_range, cmap=cm.PuBu_r)\n",
    "        plt.colorbar()\n",
    "\n",
    "    # plot theoretical prediction with different multipliers\n",
    "    plt.plot(x, y, linewidth=2, linestyle='dashed', color='#8e0000')\n",
    "    plt.plot(x, y * 2, linewidth=2, linestyle='dashed', color='#c60000')\n",
    "    plt.plot(x, y * 4.5, linewidth=3, linestyle='dashed', color='red')\n",
    "\n",
    "    # add text\n",
    "    plt.text(2.5, 12, r'$\\xi_{c^*}$', fontsize=fontsize, color='#8e0000')\n",
    "    plt.text(2.8, 22, r'2$\\xi_{c^*}$', fontsize=fontsize, color='#c60000')\n",
    "    plt.text(3.0, 30, r'4.5$\\xi_{c^*}$', fontsize=fontsize, color='red')\n",
    "\n",
    "    # setting\n",
    "    plt.xlim(1.0, 4.0)\n",
    "    plt.ylim(10, 100)\n",
    "    plt.xlabel(r'$\\sigma_w^2$', fontsize=fontsize)\n",
    "    plt.ylabel(r'\\textit{depth}', fontsize=fontsize)\n",
    "\n",
    "    # show plot\n",
    "    plt.tight_layout()\n",
    "    plt.show()\n",
    "\n",
    "\n",
    "def exp_depth_scale(filename=None):\n",
    "    if filename:\n",
    "        print('Load existing result for depth scale experiment.')\n",
    "        f = np.load(filename)\n",
    "        return [f['sws'], f['xi_cs']]\n",
    "\n",
    "    print('Start depth scale experiment.')\n",
    "\n",
    "    # Run mean field experiment\n",
    "    mf = MeanField(np.tanh, d_tanh)\n",
    "\n",
    "    # set initial condition\n",
    "    qa0, qb0, c0 = 0.8, 0.8, 0.6\n",
    "\n",
    "    # set variance of bias and weight\n",
    "    sb, sws = 0.05, np.linspace(1, 4, 50)\n",
    "\n",
    "    # set max literation and convergence threshold\n",
    "    maxL, tol = 300, 1e-6\n",
    "\n",
    "    # run mean field experiment\n",
    "    xi_cs = [mf.xi_c(sw, sb, qa0, qb0, c0, maxL, tol) for sw in sws]\n",
    "    # np.savez('depth_scale', sws=sws,xi_cs=xi_cs)\n",
    "\n",
    "    return (sws, xi_cs)\n",
    "\n",
    "def exp_trainability(args, filename=None):\n",
    "    if filename:\n",
    "        print('Load existing result for train accuracy.')\n",
    "        f = np.load(filename)\n",
    "        return dict(xgrid=f['xgrid'],\n",
    "                    ygrid=f['ygrid'],\n",
    "                    train_acc=f['train_acc'])\n",
    "\n",
    "    print('Start trainability experiment.')\n",
    "\n",
    "    # setup dataset and hyper-params\n",
    "    dataset = MNISTtrainer(args.batch_size)\n",
    "    params = dict(device='cpu' if args.no_cuda else 'cuda',\n",
    "                  width=args.width, lr=args.lr, num_train=args.num_train,\n",
    "                  sb=0.05,\n",
    "     )\n",
    "    if args.debug: print(params)\n",
    "\n",
    "    # run experiment in grid coordinate.\n",
    "    sws = np.linspace(1., 4., args.num_sw)\n",
    "    depths = np.linspace(10, 100, args.num_depth, dtype=int)\n",
    "    accs = list()\n",
    "    for i, depth in enumerate(depths):\n",
    "        for j, sw in enumerate(sws):\n",
    "            params['depth'], params['sw'] = depth, sw\n",
    "            acc = compute_training_acc(dataset, params, debug=args.debug_train_acc)\n",
    "            accs.append(acc)\n",
    "            if args.debug: print('({},{})->[d={},sw={}]: \\t Train Acc: {:.6f}'.format(i,j,depth,sw,acc))\n",
    "\n",
    "    acc = np.array(accs).reshape((len(depths), len(sws)))\n",
    "    # np.savez('train_acc', xgrid=sws,ygrid=depths,train_acc=acc)\n",
    "\n",
    "    return dict(xgrid=sws,ygrid=depths,train_acc=acc)\n",
    "\n",
    "\"\"\"\n",
    "if __name__ == \"__main__\":\n",
    "\n",
    "    parser = argparse.ArgumentParser()\n",
    "    parser.add_argument('--depth-scale-file', default=None, type=str,\n",
    "                        help='file name of depth scale data')\n",
    "    parser.add_argument('--train-acc-file', default=None, type=str,\n",
    "                        help='file name of train accuracy data')\n",
    "\n",
    "    # the following arguments are only for trainability experiment.\n",
    "    parser.add_argument('--no-cuda', action='store_true', default=False,\n",
    "                        help='disables CUDA training')\n",
    "    parser.add_argument('--num-sw', default=90, type=int,\n",
    "                        help='number of weight variance between [1,4]')\n",
    "    parser.add_argument('--num-depth', default=91, type=int,\n",
    "                        help='number of depth between [10,100]')\n",
    "    parser.add_argument('--batch-size', default=256, type=int,\n",
    "                        help='batch size for SGD')\n",
    "    parser.add_argument('--num-train', default=200, type=int,\n",
    "                        help='number of training steps')\n",
    "    parser.add_argument('--width', default=300, type=int,\n",
    "                        help='width of fully-connected layer')\n",
    "    parser.add_argument('--lr', default=1e-3, type=float,\n",
    "                        help='learning rate for SGD')\n",
    "    parser.add_argument('--debug', action='store_true', default=False,\n",
    "                        help='debug the main experiment')\n",
    "    parser.add_argument('--debug-train-acc', action='store_true', default=False,\n",
    "                        help='debug the compute_train_acc func')\n",
    "\n",
    "    args = parser.parse_args()\n",
    "\n",
    "    # Run experiment.\n",
    "    sws, xi_cs = exp_depth_scale(args.depth_scale_file)\n",
    "    # train_acc = exp_trainability(args, args.train_acc_file)\n",
    "\n",
    "    # for simplified figure\n",
    "    simple_plot(sws, xi_cs)\n",
    "\n",
    "    # for creating the actual figure in the paper.\n",
    "    # plot(sws, xi_cs, train_acc)\n",
    "    \"\"\""
   ]
  },
  {
   "cell_type": "code",
   "execution_count": 9,
   "metadata": {},
   "outputs": [
    {
     "name": "stdout",
     "output_type": "stream",
     "text": [
      "Load existing result for depth scale experiment.\n"
     ]
    }
   ],
   "source": [
    "depth_scale_file = \"depth_scale.npz\"\n",
    "sws, xi_cs = exp_depth_scale(depth_scale_file)"
   ]
  },
  {
   "cell_type": "code",
   "execution_count": 10,
   "metadata": {},
   "outputs": [
    {
     "data": {
      "text/plain": [
       "array([1.        , 1.06122449, 1.12244898, 1.18367347, 1.24489796,\n",
       "       1.30612245, 1.36734694, 1.42857143, 1.48979592, 1.55102041,\n",
       "       1.6122449 , 1.67346939, 1.73469388, 1.79591837, 1.85714286,\n",
       "       1.91836735, 1.97959184, 2.04081633, 2.10204082, 2.16326531,\n",
       "       2.2244898 , 2.28571429, 2.34693878, 2.40816327, 2.46938776,\n",
       "       2.53061224, 2.59183673, 2.65306122, 2.71428571, 2.7755102 ,\n",
       "       2.83673469, 2.89795918, 2.95918367, 3.02040816, 3.08163265,\n",
       "       3.14285714, 3.20408163, 3.26530612, 3.32653061, 3.3877551 ,\n",
       "       3.44897959, 3.51020408, 3.57142857, 3.63265306, 3.69387755,\n",
       "       3.75510204, 3.81632653, 3.87755102, 3.93877551, 4.        ])"
      ]
     },
     "execution_count": 10,
     "metadata": {},
     "output_type": "execute_result"
    }
   ],
   "source": [
    "sws"
   ]
  },
  {
   "cell_type": "code",
   "execution_count": 13,
   "metadata": {},
   "outputs": [
    {
     "data": {
      "text/plain": [
       "12"
      ]
     },
     "execution_count": 13,
     "metadata": {},
     "output_type": "execute_result"
    }
   ],
   "source": [
    "np.argmax(xi_cs)"
   ]
  },
  {
   "cell_type": "code",
   "execution_count": 15,
   "metadata": {},
   "outputs": [
    {
     "data": {
      "text/plain": [
       "1.7346938775510203"
      ]
     },
     "execution_count": 15,
     "metadata": {},
     "output_type": "execute_result"
    }
   ],
   "source": [
    "sws[12]"
   ]
  },
  {
   "cell_type": "code",
   "execution_count": 16,
   "metadata": {},
   "outputs": [
    {
     "ename": "KeyboardInterrupt",
     "evalue": "",
     "output_type": "error",
     "traceback": [
      "\u001b[0;31m---------------------------------------------------------------------------\u001b[0m",
      "\u001b[0;31mKeyboardInterrupt\u001b[0m                         Traceback (most recent call last)",
      "Cell \u001b[0;32mIn[16], line 10\u001b[0m\n\u001b[1;32m      8\u001b[0m \u001b[39m# set max literation and convergence threshold\u001b[39;00m\n\u001b[1;32m      9\u001b[0m maxL, tol \u001b[39m=\u001b[39m \u001b[39m300\u001b[39m, \u001b[39m1e-6\u001b[39m\n\u001b[0;32m---> 10\u001b[0m mf\u001b[39m.\u001b[39;49mxi_c(sw, sb, qa0, qb0, c0, maxL, tol)\n",
      "File \u001b[0;32m/mnt/c/Users/Arnisa/Desktop/MP/reproduce/mp-tl-study/theory.py:168\u001b[0m, in \u001b[0;36mMeanField.xi_c\u001b[0;34m(self, sw, sb, qa0, qb0, c0, maxL, tol)\u001b[0m\n\u001b[1;32m    166\u001b[0m \u001b[39mdef\u001b[39;00m \u001b[39mxi_c\u001b[39m(\u001b[39mself\u001b[39m, sw, sb, qa0, qb0, c0, maxL\u001b[39m=\u001b[39m\u001b[39m300\u001b[39m, tol\u001b[39m=\u001b[39m\u001b[39mNone\u001b[39;00m):\n\u001b[1;32m    167\u001b[0m     q_star, _ \u001b[39m=\u001b[39m \u001b[39mself\u001b[39m\u001b[39m.\u001b[39mq_star(sw, sb, qa0)\n\u001b[0;32m--> 168\u001b[0m     c_star, _ \u001b[39m=\u001b[39m \u001b[39mself\u001b[39;49m\u001b[39m.\u001b[39;49mc_star(sw, sb, qa0, qb0, c0, maxL, tol)\n\u001b[1;32m    170\u001b[0m     chi_c \u001b[39m=\u001b[39m sw \u001b[39m*\u001b[39m dblquad(\u001b[39mself\u001b[39m\u001b[39m.\u001b[39m_chi_c_density,\n\u001b[1;32m    171\u001b[0m                        \u001b[39m-\u001b[39mnp\u001b[39m.\u001b[39minf,\n\u001b[1;32m    172\u001b[0m                        np\u001b[39m.\u001b[39minf,\n\u001b[1;32m    173\u001b[0m                        \u001b[39mlambda\u001b[39;00m x: \u001b[39m-\u001b[39mnp\u001b[39m.\u001b[39minf,\n\u001b[1;32m    174\u001b[0m                        \u001b[39mlambda\u001b[39;00m x: np\u001b[39m.\u001b[39minf,\n\u001b[1;32m    175\u001b[0m                        args\u001b[39m=\u001b[39m(q_star, c_star))[\u001b[39m0\u001b[39m]\n\u001b[1;32m    176\u001b[0m     \u001b[39mreturn\u001b[39;00m \u001b[39m1.\u001b[39m \u001b[39m/\u001b[39m (\u001b[39m-\u001b[39mnp\u001b[39m.\u001b[39mlog(chi_c))\n",
      "File \u001b[0;32m/mnt/c/Users/Arnisa/Desktop/MP/reproduce/mp-tl-study/theory.py:144\u001b[0m, in \u001b[0;36mMeanField.c_star\u001b[0;34m(self, sw, sb, qa0, qb0, c0, maxL, tol)\u001b[0m\n\u001b[1;32m    142\u001b[0m cs \u001b[39m=\u001b[39m [c0]\n\u001b[1;32m    143\u001b[0m \u001b[39mfor\u001b[39;00m l \u001b[39min\u001b[39;00m \u001b[39mrange\u001b[39m(maxL \u001b[39m-\u001b[39m \u001b[39m1\u001b[39m):\n\u001b[0;32m--> 144\u001b[0m     c, qa, qb \u001b[39m=\u001b[39m \u001b[39mself\u001b[39;49m\u001b[39m.\u001b[39;49mcmap(sw, sb, qa, qb, c)\n\u001b[1;32m    145\u001b[0m     cs\u001b[39m.\u001b[39mappend(c)\n\u001b[1;32m    147\u001b[0m     dc \u001b[39m=\u001b[39m np\u001b[39m.\u001b[39mabs(cs[\u001b[39m-\u001b[39m\u001b[39m1\u001b[39m] \u001b[39m-\u001b[39m cs[\u001b[39m-\u001b[39m\u001b[39m2\u001b[39m])\n",
      "File \u001b[0;32m/mnt/c/Users/Arnisa/Desktop/MP/reproduce/mp-tl-study/theory.py:98\u001b[0m, in \u001b[0;36mMeanField.cmap\u001b[0;34m(self, sw, sb, qa, qb, c)\u001b[0m\n\u001b[1;32m     96\u001b[0m qa_nxt \u001b[39m=\u001b[39m \u001b[39mself\u001b[39m\u001b[39m.\u001b[39mqmap(sw, sb, qa)\n\u001b[1;32m     97\u001b[0m qb_nxt \u001b[39m=\u001b[39m \u001b[39mself\u001b[39m\u001b[39m.\u001b[39mqmap(sw, sb, qb)\n\u001b[0;32m---> 98\u001b[0m qab_nxt \u001b[39m=\u001b[39m \u001b[39mself\u001b[39;49m\u001b[39m.\u001b[39;49mqab_map(sw, sb, qa, qb, c)\n\u001b[1;32m    100\u001b[0m \u001b[39mreturn\u001b[39;00m (qab_nxt \u001b[39m/\u001b[39m np\u001b[39m.\u001b[39msqrt(qa_nxt \u001b[39m*\u001b[39m qb_nxt), qa_nxt, qb_nxt)\n",
      "File \u001b[0;32m/mnt/c/Users/Arnisa/Desktop/MP/reproduce/mp-tl-study/theory.py:84\u001b[0m, in \u001b[0;36mMeanField.qab_map\u001b[0;34m(self, sw, sb, qa, qb, c)\u001b[0m\n\u001b[1;32m     79\u001b[0m \u001b[39mdef\u001b[39;00m \u001b[39mqab_map\u001b[39m(\u001b[39mself\u001b[39m, sw, sb, qa, qb, c):\n\u001b[1;32m     80\u001b[0m \u001b[39m    \u001b[39m\u001b[39m\"\"\"\u001b[39;00m\n\u001b[1;32m     81\u001b[0m \u001b[39m    Compute the pair-sample variance q^{(a,b)}_{t+1} by propagating\u001b[39;00m\n\u001b[1;32m     82\u001b[0m \u001b[39m    q^{(a,b)}_t to the next layer.\u001b[39;00m\n\u001b[1;32m     83\u001b[0m \u001b[39m    \"\"\"\u001b[39;00m\n\u001b[0;32m---> 84\u001b[0m     \u001b[39mreturn\u001b[39;00m sb \u001b[39m+\u001b[39m sw \u001b[39m*\u001b[39m dblquad(\u001b[39mself\u001b[39;49m\u001b[39m.\u001b[39;49m_qab_map_density,\n\u001b[1;32m     85\u001b[0m                              \u001b[39m-\u001b[39;49mnp\u001b[39m.\u001b[39;49minf,\n\u001b[1;32m     86\u001b[0m                              np\u001b[39m.\u001b[39;49minf,\n\u001b[1;32m     87\u001b[0m                              \u001b[39mlambda\u001b[39;49;00m x: \u001b[39m-\u001b[39;49mnp\u001b[39m.\u001b[39;49minf,\n\u001b[1;32m     88\u001b[0m                              \u001b[39mlambda\u001b[39;49;00m x: np\u001b[39m.\u001b[39;49minf,\n\u001b[1;32m     89\u001b[0m                              args\u001b[39m=\u001b[39;49m(qa, qb, c))[\u001b[39m0\u001b[39m]\n",
      "File \u001b[0;32m~/anaconda3/envs/mpenv/lib/python3.11/site-packages/scipy/integrate/_quadpack_py.py:775\u001b[0m, in \u001b[0;36mdblquad\u001b[0;34m(func, a, b, gfun, hfun, args, epsabs, epsrel)\u001b[0m\n\u001b[1;32m    771\u001b[0m \u001b[39mdef\u001b[39;00m \u001b[39mtemp_ranges\u001b[39m(\u001b[39m*\u001b[39margs):\n\u001b[1;32m    772\u001b[0m     \u001b[39mreturn\u001b[39;00m [gfun(args[\u001b[39m0\u001b[39m]) \u001b[39mif\u001b[39;00m \u001b[39mcallable\u001b[39m(gfun) \u001b[39melse\u001b[39;00m gfun,\n\u001b[1;32m    773\u001b[0m             hfun(args[\u001b[39m0\u001b[39m]) \u001b[39mif\u001b[39;00m \u001b[39mcallable\u001b[39m(hfun) \u001b[39melse\u001b[39;00m hfun]\n\u001b[0;32m--> 775\u001b[0m \u001b[39mreturn\u001b[39;00m nquad(func, [temp_ranges, [a, b]], args\u001b[39m=\u001b[39;49margs,\n\u001b[1;32m    776\u001b[0m         opts\u001b[39m=\u001b[39;49m{\u001b[39m\"\u001b[39;49m\u001b[39mepsabs\u001b[39;49m\u001b[39m\"\u001b[39;49m: epsabs, \u001b[39m\"\u001b[39;49m\u001b[39mepsrel\u001b[39;49m\u001b[39m\"\u001b[39;49m: epsrel})\n",
      "File \u001b[0;32m~/anaconda3/envs/mpenv/lib/python3.11/site-packages/scipy/integrate/_quadpack_py.py:1179\u001b[0m, in \u001b[0;36mnquad\u001b[0;34m(func, ranges, args, opts, full_output)\u001b[0m\n\u001b[1;32m   1177\u001b[0m \u001b[39melse\u001b[39;00m:\n\u001b[1;32m   1178\u001b[0m     opts \u001b[39m=\u001b[39m [opt \u001b[39mif\u001b[39;00m \u001b[39mcallable\u001b[39m(opt) \u001b[39melse\u001b[39;00m _OptFunc(opt) \u001b[39mfor\u001b[39;00m opt \u001b[39min\u001b[39;00m opts]\n\u001b[0;32m-> 1179\u001b[0m \u001b[39mreturn\u001b[39;00m _NQuad(func, ranges, opts, full_output)\u001b[39m.\u001b[39;49mintegrate(\u001b[39m*\u001b[39;49margs)\n",
      "File \u001b[0;32m~/anaconda3/envs/mpenv/lib/python3.11/site-packages/scipy/integrate/_quadpack_py.py:1233\u001b[0m, in \u001b[0;36m_NQuad.integrate\u001b[0;34m(self, *args, **kwargs)\u001b[0m\n\u001b[1;32m   1231\u001b[0m \u001b[39melse\u001b[39;00m:\n\u001b[1;32m   1232\u001b[0m     f \u001b[39m=\u001b[39m partial(\u001b[39mself\u001b[39m\u001b[39m.\u001b[39mintegrate, depth\u001b[39m=\u001b[39mdepth\u001b[39m+\u001b[39m\u001b[39m1\u001b[39m)\n\u001b[0;32m-> 1233\u001b[0m quad_r \u001b[39m=\u001b[39m quad(f, low, high, args\u001b[39m=\u001b[39;49margs, full_output\u001b[39m=\u001b[39;49m\u001b[39mself\u001b[39;49m\u001b[39m.\u001b[39;49mfull_output,\n\u001b[1;32m   1234\u001b[0m               \u001b[39m*\u001b[39;49m\u001b[39m*\u001b[39;49mopt)\n\u001b[1;32m   1235\u001b[0m value \u001b[39m=\u001b[39m quad_r[\u001b[39m0\u001b[39m]\n\u001b[1;32m   1236\u001b[0m abserr \u001b[39m=\u001b[39m quad_r[\u001b[39m1\u001b[39m]\n",
      "File \u001b[0;32m~/anaconda3/envs/mpenv/lib/python3.11/site-packages/scipy/integrate/_quadpack_py.py:465\u001b[0m, in \u001b[0;36mquad\u001b[0;34m(func, a, b, args, full_output, epsabs, epsrel, limit, points, weight, wvar, wopts, maxp1, limlst, complex_func)\u001b[0m\n\u001b[1;32m    462\u001b[0m     \u001b[39mreturn\u001b[39;00m retval\n\u001b[1;32m    464\u001b[0m \u001b[39mif\u001b[39;00m weight \u001b[39mis\u001b[39;00m \u001b[39mNone\u001b[39;00m:\n\u001b[0;32m--> 465\u001b[0m     retval \u001b[39m=\u001b[39m _quad(func, a, b, args, full_output, epsabs, epsrel, limit,\n\u001b[1;32m    466\u001b[0m                    points)\n\u001b[1;32m    467\u001b[0m \u001b[39melse\u001b[39;00m:\n\u001b[1;32m    468\u001b[0m     \u001b[39mif\u001b[39;00m points \u001b[39mis\u001b[39;00m \u001b[39mnot\u001b[39;00m \u001b[39mNone\u001b[39;00m:\n",
      "File \u001b[0;32m~/anaconda3/envs/mpenv/lib/python3.11/site-packages/scipy/integrate/_quadpack_py.py:579\u001b[0m, in \u001b[0;36m_quad\u001b[0;34m(func, a, b, args, full_output, epsabs, epsrel, limit, points)\u001b[0m\n\u001b[1;32m    577\u001b[0m         \u001b[39mreturn\u001b[39;00m _quadpack\u001b[39m.\u001b[39m_qagse(func,a,b,args,full_output,epsabs,epsrel,limit)\n\u001b[1;32m    578\u001b[0m     \u001b[39melse\u001b[39;00m:\n\u001b[0;32m--> 579\u001b[0m         \u001b[39mreturn\u001b[39;00m _quadpack\u001b[39m.\u001b[39;49m_qagie(func,bound,infbounds,args,full_output,epsabs,epsrel,limit)\n\u001b[1;32m    580\u001b[0m \u001b[39melse\u001b[39;00m:\n\u001b[1;32m    581\u001b[0m     \u001b[39mif\u001b[39;00m infbounds \u001b[39m!=\u001b[39m \u001b[39m0\u001b[39m:\n",
      "File \u001b[0;32m~/anaconda3/envs/mpenv/lib/python3.11/site-packages/scipy/integrate/_quadpack_py.py:1233\u001b[0m, in \u001b[0;36m_NQuad.integrate\u001b[0;34m(self, *args, **kwargs)\u001b[0m\n\u001b[1;32m   1231\u001b[0m \u001b[39melse\u001b[39;00m:\n\u001b[1;32m   1232\u001b[0m     f \u001b[39m=\u001b[39m partial(\u001b[39mself\u001b[39m\u001b[39m.\u001b[39mintegrate, depth\u001b[39m=\u001b[39mdepth\u001b[39m+\u001b[39m\u001b[39m1\u001b[39m)\n\u001b[0;32m-> 1233\u001b[0m quad_r \u001b[39m=\u001b[39m quad(f, low, high, args\u001b[39m=\u001b[39;49margs, full_output\u001b[39m=\u001b[39;49m\u001b[39mself\u001b[39;49m\u001b[39m.\u001b[39;49mfull_output,\n\u001b[1;32m   1234\u001b[0m               \u001b[39m*\u001b[39;49m\u001b[39m*\u001b[39;49mopt)\n\u001b[1;32m   1235\u001b[0m value \u001b[39m=\u001b[39m quad_r[\u001b[39m0\u001b[39m]\n\u001b[1;32m   1236\u001b[0m abserr \u001b[39m=\u001b[39m quad_r[\u001b[39m1\u001b[39m]\n",
      "File \u001b[0;32m~/anaconda3/envs/mpenv/lib/python3.11/site-packages/scipy/integrate/_quadpack_py.py:465\u001b[0m, in \u001b[0;36mquad\u001b[0;34m(func, a, b, args, full_output, epsabs, epsrel, limit, points, weight, wvar, wopts, maxp1, limlst, complex_func)\u001b[0m\n\u001b[1;32m    462\u001b[0m     \u001b[39mreturn\u001b[39;00m retval\n\u001b[1;32m    464\u001b[0m \u001b[39mif\u001b[39;00m weight \u001b[39mis\u001b[39;00m \u001b[39mNone\u001b[39;00m:\n\u001b[0;32m--> 465\u001b[0m     retval \u001b[39m=\u001b[39m _quad(func, a, b, args, full_output, epsabs, epsrel, limit,\n\u001b[1;32m    466\u001b[0m                    points)\n\u001b[1;32m    467\u001b[0m \u001b[39melse\u001b[39;00m:\n\u001b[1;32m    468\u001b[0m     \u001b[39mif\u001b[39;00m points \u001b[39mis\u001b[39;00m \u001b[39mnot\u001b[39;00m \u001b[39mNone\u001b[39;00m:\n",
      "File \u001b[0;32m~/anaconda3/envs/mpenv/lib/python3.11/site-packages/scipy/integrate/_quadpack_py.py:579\u001b[0m, in \u001b[0;36m_quad\u001b[0;34m(func, a, b, args, full_output, epsabs, epsrel, limit, points)\u001b[0m\n\u001b[1;32m    577\u001b[0m         \u001b[39mreturn\u001b[39;00m _quadpack\u001b[39m.\u001b[39m_qagse(func,a,b,args,full_output,epsabs,epsrel,limit)\n\u001b[1;32m    578\u001b[0m     \u001b[39melse\u001b[39;00m:\n\u001b[0;32m--> 579\u001b[0m         \u001b[39mreturn\u001b[39;00m _quadpack\u001b[39m.\u001b[39;49m_qagie(func,bound,infbounds,args,full_output,epsabs,epsrel,limit)\n\u001b[1;32m    580\u001b[0m \u001b[39melse\u001b[39;00m:\n\u001b[1;32m    581\u001b[0m     \u001b[39mif\u001b[39;00m infbounds \u001b[39m!=\u001b[39m \u001b[39m0\u001b[39m:\n",
      "File \u001b[0;32m/mnt/c/Users/Arnisa/Desktop/MP/reproduce/mp-tl-study/theory.py:47\u001b[0m, in \u001b[0;36mMeanField._qab_map_density\u001b[0;34m(self, y, x, qaa, qbb, c)\u001b[0m\n\u001b[1;32m     44\u001b[0m ha \u001b[39m=\u001b[39m np\u001b[39m.\u001b[39msqrt(qaa) \u001b[39m*\u001b[39m x\n\u001b[1;32m     45\u001b[0m hb \u001b[39m=\u001b[39m np\u001b[39m.\u001b[39msqrt(qbb) \u001b[39m*\u001b[39m y_x\n\u001b[1;32m     46\u001b[0m \u001b[39mreturn\u001b[39;00m gauss_density(x, \u001b[39m0.\u001b[39m, \u001b[39m1.\u001b[39m) \u001b[39m*\u001b[39m \u001b[39mself\u001b[39m\u001b[39m.\u001b[39mf(ha) \u001b[39m*\u001b[39m \\\n\u001b[0;32m---> 47\u001b[0m         gauss_density(y, \u001b[39m0.\u001b[39;49m, \u001b[39m1.\u001b[39;49m) \u001b[39m*\u001b[39m \u001b[39mself\u001b[39m\u001b[39m.\u001b[39mf(hb)\n",
      "File \u001b[0;32m/mnt/c/Users/Arnisa/Desktop/MP/reproduce/mp-tl-study/theory.py:10\u001b[0m, in \u001b[0;36mgauss_density\u001b[0;34m(x, mu, sigma)\u001b[0m\n\u001b[1;32m      8\u001b[0m \u001b[39mdef\u001b[39;00m \u001b[39mgauss_density\u001b[39m(x, mu, sigma):\n\u001b[1;32m      9\u001b[0m \u001b[39m    \u001b[39m\u001b[39m\"\"\"Density of Gaussian N(mu,sigma).\"\"\"\u001b[39;00m\n\u001b[0;32m---> 10\u001b[0m     k \u001b[39m=\u001b[39m \u001b[39m1.\u001b[39m \u001b[39m/\u001b[39m (sigma \u001b[39m*\u001b[39m np\u001b[39m.\u001b[39;49msqrt(\u001b[39m2\u001b[39;49m \u001b[39m*\u001b[39;49m np\u001b[39m.\u001b[39;49mpi))\n\u001b[1;32m     11\u001b[0m     s \u001b[39m=\u001b[39m \u001b[39m-\u001b[39m\u001b[39m1.0\u001b[39m \u001b[39m/\u001b[39m (\u001b[39m2\u001b[39m \u001b[39m*\u001b[39m sigma \u001b[39m*\u001b[39m sigma)\n\u001b[1;32m     12\u001b[0m     \u001b[39mreturn\u001b[39;00m k \u001b[39m*\u001b[39m np\u001b[39m.\u001b[39mexp(s \u001b[39m*\u001b[39m (x \u001b[39m-\u001b[39m mu) \u001b[39m*\u001b[39m (x \u001b[39m-\u001b[39m mu))\n",
      "\u001b[0;31mKeyboardInterrupt\u001b[0m: "
     ]
    }
   ],
   "source": [
    "mf = MeanField(np.tanh, d_tanh)\n",
    "# set initial condition\n",
    "qa0, qb0, c0 = 0.8, 0.8, 0.6\n",
    "\n",
    "# set variance of bias and weight\n",
    "sb, sws = 0.05, np.linspace(1, 4, 50)\n",
    "sw = 1.7346938775510203\n",
    "# set max literation and convergence threshold\n",
    "maxL, tol = 300, 1e-6\n",
    "mf.xi_c(sw, sb, qa0, qb0, c0, maxL, tol)"
   ]
  },
  {
   "cell_type": "code",
   "execution_count": 7,
   "metadata": {},
   "outputs": [
    {
     "data": {
      "image/png": "[encoded data removed]",
      "text/plain": [
       "<Figure size 640x480 with 1 Axes>"
      ]
     },
     "metadata": {},
     "output_type": "display_data"
    }
   ],
   "source": [
    "simple_plot(sws, xi_cs)"
   ]
  }
 ],
 "metadata": {
  "kernelspec": {
   "display_name": "mpenv",
   "language": "python",
   "name": "python3"
  },
  "language_info": {
   "codemirror_mode": {
    "name": "ipython",
    "version": 3
   },
   "file_extension": ".py",
   "mimetype": "text/x-python",
   "name": "python",
   "nbconvert_exporter": "python",
   "pygments_lexer": "ipython3",
   "version": "3.11.4"
  },
  "orig_nbformat": 4
 },
 "nbformat": 4,
 "nbformat_minor": 2
}

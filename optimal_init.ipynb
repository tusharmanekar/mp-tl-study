{
 "cells": [
  {
   "cell_type": "code",
   "execution_count": 3,
   "metadata": {},
   "outputs": [
    {
     "data": {
      "text/plain": [
       "'\\nif __name__ == \"__main__\":\\n\\n    parser = argparse.ArgumentParser()\\n    parser.add_argument(\\'--depth-scale-file\\', default=None, type=str,\\n                        help=\\'file name of depth scale data\\')\\n    parser.add_argument(\\'--train-acc-file\\', default=None, type=str,\\n                        help=\\'file name of train accuracy data\\')\\n\\n    # the following arguments are only for trainability experiment.\\n    parser.add_argument(\\'--no-cuda\\', action=\\'store_true\\', default=False,\\n                        help=\\'disables CUDA training\\')\\n    parser.add_argument(\\'--num-sw\\', default=90, type=int,\\n                        help=\\'number of weight variance between [1,4]\\')\\n    parser.add_argument(\\'--num-depth\\', default=91, type=int,\\n                        help=\\'number of depth between [10,100]\\')\\n    parser.add_argument(\\'--batch-size\\', default=256, type=int,\\n                        help=\\'batch size for SGD\\')\\n    parser.add_argument(\\'--num-train\\', default=200, type=int,\\n                        help=\\'number of training steps\\')\\n    parser.add_argument(\\'--width\\', default=300, type=int,\\n                        help=\\'width of fully-connected layer\\')\\n    parser.add_argument(\\'--lr\\', default=1e-3, type=float,\\n                        help=\\'learning rate for SGD\\')\\n    parser.add_argument(\\'--debug\\', action=\\'store_true\\', default=False,\\n                        help=\\'debug the main experiment\\')\\n    parser.add_argument(\\'--debug-train-acc\\', action=\\'store_true\\', default=False,\\n                        help=\\'debug the compute_train_acc func\\')\\n\\n    args = parser.parse_args()\\n\\n    # Run experiment.\\n    sws, xi_cs = exp_depth_scale(args.depth_scale_file)\\n    # train_acc = exp_trainability(args, args.train_acc_file)\\n\\n    # for simplified figure\\n    simple_plot(sws, xi_cs)\\n\\n    # for creating the actual figure in the paper.\\n    # plot(sws, xi_cs, train_acc)\\n    '"
      ]
     },
     "execution_count": 3,
     "metadata": {},
     "output_type": "execute_result"
    }
   ],
   "source": [
    "import numpy as np\n",
    "import matplotlib.pyplot as plt\n",
    "from matplotlib import rc, cm\n",
    "\n",
    "import argparse\n",
    "\n",
    "from theory import MeanField\n",
    "from data_utils import MNISTtrainer\n",
    "# from utils import compute_training_acc\n",
    "\n",
    "\n",
    "def d_tanh(x):\n",
    "    \"\"\"Derivative of tanh.\"\"\"\n",
    "    return 1. / np.cosh(x)**2\n",
    "\n",
    "\n",
    "def simple_plot(x, y):\n",
    "    plt.plot(x, y)\n",
    "\n",
    "    plt.xlim(1.0, 4.0)\n",
    "    plt.ylim(10, 100)\n",
    "    plt.xlabel('$\\sigma_\\omega^2$', fontsize=16)\n",
    "    plt.ylabel('depth scale', fontsize=16)\n",
    "    plt.show()\n",
    "\n",
    "\n",
    "def plot(x, y, train_acc_contour=None):\n",
    "    fontsize = 20\n",
    "    plt.rc('text', usetex=True)\n",
    "    plt.rc('font', family='serif')\n",
    "    plt.rc('xtick', labelsize=int(fontsize / 1.5))\n",
    "    plt.rc('ytick', labelsize=int(fontsize / 1.5))\n",
    "\n",
    "    # plot contour\n",
    "    if train_acc_contour:\n",
    "        # parse\n",
    "        xgrid = train_acc_contour['xgrid']\n",
    "        ygrid = train_acc_contour['ygrid']\n",
    "        train_acc = train_acc_contour['train_acc']\n",
    "\n",
    "        # plot contourf\n",
    "        XGrid, YGrid = np.meshgrid(xgrid, ygrid)\n",
    "        trian_acc_range = np.linspace(0., 1.0, 11, endpoint=True)\n",
    "\n",
    "        plt.contourf(XGrid, YGrid, train_acc, trian_acc_range, cmap=cm.PuBu_r)\n",
    "        plt.colorbar()\n",
    "\n",
    "    # plot theoretical prediction with different multipliers\n",
    "    plt.plot(x, y, linewidth=2, linestyle='dashed', color='#8e0000')\n",
    "    plt.plot(x, y * 2, linewidth=2, linestyle='dashed', color='#c60000')\n",
    "    plt.plot(x, y * 4.5, linewidth=3, linestyle='dashed', color='red')\n",
    "\n",
    "    # add text\n",
    "    plt.text(2.5, 12, r'$\\xi_{c^*}$', fontsize=fontsize, color='#8e0000')\n",
    "    plt.text(2.8, 22, r'2$\\xi_{c^*}$', fontsize=fontsize, color='#c60000')\n",
    "    plt.text(3.0, 30, r'4.5$\\xi_{c^*}$', fontsize=fontsize, color='red')\n",
    "\n",
    "    # setting\n",
    "    plt.xlim(1.0, 4.0)\n",
    "    plt.ylim(10, 100)\n",
    "    plt.xlabel(r'$\\sigma_w^2$', fontsize=fontsize)\n",
    "    plt.ylabel(r'\\textit{depth}', fontsize=fontsize)\n",
    "\n",
    "    # show plot\n",
    "    plt.tight_layout()\n",
    "    plt.show()\n",
    "\n",
    "\n",
    "def exp_depth_scale(filename=None):\n",
    "    if filename:\n",
    "        print('Load existing result for depth scale experiment.')\n",
    "        f = np.load(filename)\n",
    "        return [f['sws'], f['xi_cs']]\n",
    "\n",
    "    print('Start depth scale experiment.')\n",
    "\n",
    "    # Run mean field experiment\n",
    "    mf = MeanField(np.tanh, d_tanh)\n",
    "\n",
    "    # set initial condition\n",
    "    qa0, qb0, c0 = 0.8, 0.8, 0.6\n",
    "\n",
    "    # set variance of bias and weight\n",
    "    sb, sws = 0.05, np.linspace(1, 4, 50)\n",
    "\n",
    "    # set max literation and convergence threshold\n",
    "    maxL, tol = 300, 1e-6\n",
    "\n",
    "    # run mean field experiment\n",
    "    xi_cs = [mf.xi_c(sw, sb, qa0, qb0, c0, maxL, tol) for sw in sws]\n",
    "    # np.savez('depth_scale', sws=sws,xi_cs=xi_cs)\n",
    "\n",
    "    return (sws, xi_cs)\n",
    "\n",
    "def exp_trainability(args, filename=None):\n",
    "    if filename:\n",
    "        print('Load existing result for train accuracy.')\n",
    "        f = np.load(filename)\n",
    "        return dict(xgrid=f['xgrid'],\n",
    "                    ygrid=f['ygrid'],\n",
    "                    train_acc=f['train_acc'])\n",
    "\n",
    "    print('Start trainability experiment.')\n",
    "\n",
    "    # setup dataset and hyper-params\n",
    "    dataset = MNISTtrainer(args.batch_size)\n",
    "    params = dict(device='cpu' if args.no_cuda else 'cuda',\n",
    "                  width=args.width, lr=args.lr, num_train=args.num_train,\n",
    "                  sb=0.05,\n",
    "     )\n",
    "    if args.debug: print(params)\n",
    "\n",
    "    # run experiment in grid coordinate.\n",
    "    sws = np.linspace(1., 4., args.num_sw)\n",
    "    depths = np.linspace(10, 100, args.num_depth, dtype=int)\n",
    "    accs = list()\n",
    "    for i, depth in enumerate(depths):\n",
    "        for j, sw in enumerate(sws):\n",
    "            params['depth'], params['sw'] = depth, sw\n",
    "            acc = compute_training_acc(dataset, params, debug=args.debug_train_acc)\n",
    "            accs.append(acc)\n",
    "            if args.debug: print('({},{})->[d={},sw={}]: \\t Train Acc: {:.6f}'.format(i,j,depth,sw,acc))\n",
    "\n",
    "    acc = np.array(accs).reshape((len(depths), len(sws)))\n",
    "    # np.savez('train_acc', xgrid=sws,ygrid=depths,train_acc=acc)\n",
    "\n",
    "    return dict(xgrid=sws,ygrid=depths,train_acc=acc)\n",
    "\n",
    "\"\"\"\n",
    "if __name__ == \"__main__\":\n",
    "\n",
    "    parser = argparse.ArgumentParser()\n",
    "    parser.add_argument('--depth-scale-file', default=None, type=str,\n",
    "                        help='file name of depth scale data')\n",
    "    parser.add_argument('--train-acc-file', default=None, type=str,\n",
    "                        help='file name of train accuracy data')\n",
    "\n",
    "    # the following arguments are only for trainability experiment.\n",
    "    parser.add_argument('--no-cuda', action='store_true', default=False,\n",
    "                        help='disables CUDA training')\n",
    "    parser.add_argument('--num-sw', default=90, type=int,\n",
    "                        help='number of weight variance between [1,4]')\n",
    "    parser.add_argument('--num-depth', default=91, type=int,\n",
    "                        help='number of depth between [10,100]')\n",
    "    parser.add_argument('--batch-size', default=256, type=int,\n",
    "                        help='batch size for SGD')\n",
    "    parser.add_argument('--num-train', default=200, type=int,\n",
    "                        help='number of training steps')\n",
    "    parser.add_argument('--width', default=300, type=int,\n",
    "                        help='width of fully-connected layer')\n",
    "    parser.add_argument('--lr', default=1e-3, type=float,\n",
    "                        help='learning rate for SGD')\n",
    "    parser.add_argument('--debug', action='store_true', default=False,\n",
    "                        help='debug the main experiment')\n",
    "    parser.add_argument('--debug-train-acc', action='store_true', default=False,\n",
    "                        help='debug the compute_train_acc func')\n",
    "\n",
    "    args = parser.parse_args()\n",
    "\n",
    "    # Run experiment.\n",
    "    sws, xi_cs = exp_depth_scale(args.depth_scale_file)\n",
    "    # train_acc = exp_trainability(args, args.train_acc_file)\n",
    "\n",
    "    # for simplified figure\n",
    "    simple_plot(sws, xi_cs)\n",
    "\n",
    "    # for creating the actual figure in the paper.\n",
    "    # plot(sws, xi_cs, train_acc)\n",
    "    \"\"\""
   ]
  },
  {
   "cell_type": "code",
   "execution_count": 9,
   "metadata": {},
   "outputs": [
    {
     "name": "stdout",
     "output_type": "stream",
     "text": [
      "Load existing result for depth scale experiment.\n"
     ]
    }
   ],
   "source": [
    "depth_scale_file = \"depth_scale.npz\"\n",
    "sws, xi_cs = exp_depth_scale(depth_scale_file)"
   ]
  },
  {
   "cell_type": "code",
   "execution_count": 10,
   "metadata": {},
   "outputs": [
    {
     "data": {
      "text/plain": [
       "array([1.        , 1.06122449, 1.12244898, 1.18367347, 1.24489796,\n",
       "       1.30612245, 1.36734694, 1.42857143, 1.48979592, 1.55102041,\n",
       "       1.6122449 , 1.67346939, 1.73469388, 1.79591837, 1.85714286,\n",
       "       1.91836735, 1.97959184, 2.04081633, 2.10204082, 2.16326531,\n",
       "       2.2244898 , 2.28571429, 2.34693878, 2.40816327, 2.46938776,\n",
       "       2.53061224, 2.59183673, 2.65306122, 2.71428571, 2.7755102 ,\n",
       "       2.83673469, 2.89795918, 2.95918367, 3.02040816, 3.08163265,\n",
       "       3.14285714, 3.20408163, 3.26530612, 3.32653061, 3.3877551 ,\n",
       "       3.44897959, 3.51020408, 3.57142857, 3.63265306, 3.69387755,\n",
       "       3.75510204, 3.81632653, 3.87755102, 3.93877551, 4.        ])"
      ]
     },
     "execution_count": 10,
     "metadata": {},
     "output_type": "execute_result"
    }
   ],
   "source": [
    "sws"
   ]
  },
  {
   "cell_type": "code",
   "execution_count": 1,
   "metadata": {},
   "outputs": [],
   "source": [
    "def relu_derivative(z):\n",
    "    return np.greater(z, 0)\n",
    "\n",
    "def relu(z):\n",
    "    return np.maximum(z, 0)"
   ]
  },
  {
   "cell_type": "code",
   "execution_count": 82,
   "metadata": {},
   "outputs": [
    {
     "name": "stderr",
     "output_type": "stream",
     "text": [
      " 38%|███▊      | 3/8 [01:22<02:28, 29.74s/it]/root/anaconda3/envs/mpenv/lib/python3.11/site-packages/scipy/integrate/_quadpack_py.py:1233: IntegrationWarning: The occurrence of roundoff error is detected, which prevents \n",
      "  the requested tolerance from being achieved.  The error may be \n",
      "  underestimated.\n",
      "  quad_r = quad(f, low, high, args=args, full_output=self.full_output,\n",
      " 75%|███████▌  | 6/8 [05:32<02:23, 71.82s/it]/mnt/c/Users/Arnisa/Desktop/MP/reproduce/mp-tl-study/theory.py:77: IntegrationWarning: The algorithm does not converge.  Roundoff error is detected\n",
      "  in the extrapolation table.  It is assumed that the requested tolerance\n",
      "  cannot be achieved, and that the returned result (if full_output = 1) is \n",
      "  the best which can be obtained.\n",
      "  return sb + sw * quad(self._qmap_density, -np.inf, np.inf, args=(q))[0]\n",
      "/mnt/c/Users/Arnisa/Desktop/MP/reproduce/mp-tl-study/theory.py:43: RuntimeWarning: invalid value encountered in sqrt\n",
      "  y_x = (c * x + np.sqrt(1. - c * c) * y)  # Conditional of y on x.\n",
      "/mnt/c/Users/Arnisa/Desktop/MP/reproduce/mp-tl-study/theory.py:77: IntegrationWarning: The integral is probably divergent, or slowly convergent.\n",
      "  return sb + sw * quad(self._qmap_density, -np.inf, np.inf, args=(q))[0]\n",
      "/mnt/c/Users/Arnisa/Desktop/MP/reproduce/mp-tl-study/theory.py:27: RuntimeWarning: invalid value encountered in sqrt\n",
      "  return gauss_density(h, 0., np.sqrt(q)) * (self.f(h)**2)\n",
      "/mnt/c/Users/Arnisa/Desktop/MP/reproduce/mp-tl-study/theory.py:77: IntegrationWarning: The occurrence of roundoff error is detected, which prevents \n",
      "  the requested tolerance from being achieved.  The error may be \n",
      "  underestimated.\n",
      "  return sb + sw * quad(self._qmap_density, -np.inf, np.inf, args=(q))[0]\n",
      "/mnt/c/Users/Arnisa/Desktop/MP/reproduce/mp-tl-study/theory.py:44: RuntimeWarning: invalid value encountered in sqrt\n",
      "  ha = np.sqrt(qaa) * x\n",
      "/mnt/c/Users/Arnisa/Desktop/MP/reproduce/mp-tl-study/theory.py:45: RuntimeWarning: invalid value encountered in sqrt\n",
      "  hb = np.sqrt(qbb) * y_x\n",
      " 75%|███████▌  | 6/8 [08:41<02:53, 86.92s/it]\n"
     ]
    },
    {
     "ename": "KeyboardInterrupt",
     "evalue": "",
     "output_type": "error",
     "traceback": [
      "\u001b[0;31m---------------------------------------------------------------------------\u001b[0m",
      "\u001b[0;31mKeyboardInterrupt\u001b[0m                         Traceback (most recent call last)",
      "Cell \u001b[0;32mIn[82], line 19\u001b[0m\n\u001b[1;32m     17\u001b[0m xi_cs \u001b[39m=\u001b[39m []\n\u001b[1;32m     18\u001b[0m \u001b[39mfor\u001b[39;00m sw \u001b[39min\u001b[39;00m tqdm(sws): \n\u001b[0;32m---> 19\u001b[0m     xi_cs\u001b[39m.\u001b[39mappend(mf\u001b[39m.\u001b[39;49mxi_c(sw, sb, qa0, qb0, c0, maxL, tol))\n",
      "File \u001b[0;32m/mnt/c/Users/Arnisa/Desktop/MP/reproduce/mp-tl-study/theory.py:168\u001b[0m, in \u001b[0;36mMeanField.xi_c\u001b[0;34m(self, sw, sb, qa0, qb0, c0, maxL, tol)\u001b[0m\n\u001b[1;32m    166\u001b[0m \u001b[39mdef\u001b[39;00m \u001b[39mxi_c\u001b[39m(\u001b[39mself\u001b[39m, sw, sb, qa0, qb0, c0, maxL\u001b[39m=\u001b[39m\u001b[39m300\u001b[39m, tol\u001b[39m=\u001b[39m\u001b[39mNone\u001b[39;00m):\n\u001b[1;32m    167\u001b[0m     q_star, _ \u001b[39m=\u001b[39m \u001b[39mself\u001b[39m\u001b[39m.\u001b[39mq_star(sw, sb, qa0)\n\u001b[0;32m--> 168\u001b[0m     c_star, _ \u001b[39m=\u001b[39m \u001b[39mself\u001b[39;49m\u001b[39m.\u001b[39;49mc_star(sw, sb, qa0, qb0, c0, maxL, tol)\n\u001b[1;32m    170\u001b[0m     chi_c \u001b[39m=\u001b[39m sw \u001b[39m*\u001b[39m dblquad(\u001b[39mself\u001b[39m\u001b[39m.\u001b[39m_chi_c_density,\n\u001b[1;32m    171\u001b[0m                        \u001b[39m-\u001b[39mnp\u001b[39m.\u001b[39minf,\n\u001b[1;32m    172\u001b[0m                        np\u001b[39m.\u001b[39minf,\n\u001b[1;32m    173\u001b[0m                        \u001b[39mlambda\u001b[39;00m x: \u001b[39m-\u001b[39mnp\u001b[39m.\u001b[39minf,\n\u001b[1;32m    174\u001b[0m                        \u001b[39mlambda\u001b[39;00m x: np\u001b[39m.\u001b[39minf,\n\u001b[1;32m    175\u001b[0m                        args\u001b[39m=\u001b[39m(q_star, c_star))[\u001b[39m0\u001b[39m]\n\u001b[1;32m    176\u001b[0m     \u001b[39mreturn\u001b[39;00m \u001b[39m1.\u001b[39m \u001b[39m/\u001b[39m (\u001b[39m-\u001b[39mnp\u001b[39m.\u001b[39mlog(chi_c))\n",
      "File \u001b[0;32m/mnt/c/Users/Arnisa/Desktop/MP/reproduce/mp-tl-study/theory.py:144\u001b[0m, in \u001b[0;36mMeanField.c_star\u001b[0;34m(self, sw, sb, qa0, qb0, c0, maxL, tol)\u001b[0m\n\u001b[1;32m    142\u001b[0m cs \u001b[39m=\u001b[39m [c0]\n\u001b[1;32m    143\u001b[0m \u001b[39mfor\u001b[39;00m l \u001b[39min\u001b[39;00m \u001b[39mrange\u001b[39m(maxL \u001b[39m-\u001b[39m \u001b[39m1\u001b[39m):\n\u001b[0;32m--> 144\u001b[0m     c, qa, qb \u001b[39m=\u001b[39m \u001b[39mself\u001b[39;49m\u001b[39m.\u001b[39;49mcmap(sw, sb, qa, qb, c)\n\u001b[1;32m    145\u001b[0m     cs\u001b[39m.\u001b[39mappend(c)\n\u001b[1;32m    147\u001b[0m     dc \u001b[39m=\u001b[39m np\u001b[39m.\u001b[39mabs(cs[\u001b[39m-\u001b[39m\u001b[39m1\u001b[39m] \u001b[39m-\u001b[39m cs[\u001b[39m-\u001b[39m\u001b[39m2\u001b[39m])\n",
      "File \u001b[0;32m/mnt/c/Users/Arnisa/Desktop/MP/reproduce/mp-tl-study/theory.py:98\u001b[0m, in \u001b[0;36mMeanField.cmap\u001b[0;34m(self, sw, sb, qa, qb, c)\u001b[0m\n\u001b[1;32m     96\u001b[0m qa_nxt \u001b[39m=\u001b[39m \u001b[39mself\u001b[39m\u001b[39m.\u001b[39mqmap(sw, sb, qa)\n\u001b[1;32m     97\u001b[0m qb_nxt \u001b[39m=\u001b[39m \u001b[39mself\u001b[39m\u001b[39m.\u001b[39mqmap(sw, sb, qb)\n\u001b[0;32m---> 98\u001b[0m qab_nxt \u001b[39m=\u001b[39m \u001b[39mself\u001b[39;49m\u001b[39m.\u001b[39;49mqab_map(sw, sb, qa, qb, c)\n\u001b[1;32m    100\u001b[0m \u001b[39mreturn\u001b[39;00m (qab_nxt \u001b[39m/\u001b[39m np\u001b[39m.\u001b[39msqrt(qa_nxt \u001b[39m*\u001b[39m qb_nxt), qa_nxt, qb_nxt)\n",
      "File \u001b[0;32m/mnt/c/Users/Arnisa/Desktop/MP/reproduce/mp-tl-study/theory.py:84\u001b[0m, in \u001b[0;36mMeanField.qab_map\u001b[0;34m(self, sw, sb, qa, qb, c)\u001b[0m\n\u001b[1;32m     79\u001b[0m \u001b[39mdef\u001b[39;00m \u001b[39mqab_map\u001b[39m(\u001b[39mself\u001b[39m, sw, sb, qa, qb, c):\n\u001b[1;32m     80\u001b[0m \u001b[39m    \u001b[39m\u001b[39m\"\"\"\u001b[39;00m\n\u001b[1;32m     81\u001b[0m \u001b[39m    Compute the pair-sample variance q^{(a,b)}_{t+1} by propagating\u001b[39;00m\n\u001b[1;32m     82\u001b[0m \u001b[39m    q^{(a,b)}_t to the next layer.\u001b[39;00m\n\u001b[1;32m     83\u001b[0m \u001b[39m    \"\"\"\u001b[39;00m\n\u001b[0;32m---> 84\u001b[0m     \u001b[39mreturn\u001b[39;00m sb \u001b[39m+\u001b[39m sw \u001b[39m*\u001b[39m dblquad(\u001b[39mself\u001b[39;49m\u001b[39m.\u001b[39;49m_qab_map_density,\n\u001b[1;32m     85\u001b[0m                              \u001b[39m-\u001b[39;49mnp\u001b[39m.\u001b[39;49minf,\n\u001b[1;32m     86\u001b[0m                              np\u001b[39m.\u001b[39;49minf,\n\u001b[1;32m     87\u001b[0m                              \u001b[39mlambda\u001b[39;49;00m x: \u001b[39m-\u001b[39;49mnp\u001b[39m.\u001b[39;49minf,\n\u001b[1;32m     88\u001b[0m                              \u001b[39mlambda\u001b[39;49;00m x: np\u001b[39m.\u001b[39;49minf,\n\u001b[1;32m     89\u001b[0m                              args\u001b[39m=\u001b[39;49m(qa, qb, c))[\u001b[39m0\u001b[39m]\n",
      "File \u001b[0;32m~/anaconda3/envs/mpenv/lib/python3.11/site-packages/scipy/integrate/_quadpack_py.py:775\u001b[0m, in \u001b[0;36mdblquad\u001b[0;34m(func, a, b, gfun, hfun, args, epsabs, epsrel)\u001b[0m\n\u001b[1;32m    771\u001b[0m \u001b[39mdef\u001b[39;00m \u001b[39mtemp_ranges\u001b[39m(\u001b[39m*\u001b[39margs):\n\u001b[1;32m    772\u001b[0m     \u001b[39mreturn\u001b[39;00m [gfun(args[\u001b[39m0\u001b[39m]) \u001b[39mif\u001b[39;00m \u001b[39mcallable\u001b[39m(gfun) \u001b[39melse\u001b[39;00m gfun,\n\u001b[1;32m    773\u001b[0m             hfun(args[\u001b[39m0\u001b[39m]) \u001b[39mif\u001b[39;00m \u001b[39mcallable\u001b[39m(hfun) \u001b[39melse\u001b[39;00m hfun]\n\u001b[0;32m--> 775\u001b[0m \u001b[39mreturn\u001b[39;00m nquad(func, [temp_ranges, [a, b]], args\u001b[39m=\u001b[39;49margs,\n\u001b[1;32m    776\u001b[0m         opts\u001b[39m=\u001b[39;49m{\u001b[39m\"\u001b[39;49m\u001b[39mepsabs\u001b[39;49m\u001b[39m\"\u001b[39;49m: epsabs, \u001b[39m\"\u001b[39;49m\u001b[39mepsrel\u001b[39;49m\u001b[39m\"\u001b[39;49m: epsrel})\n",
      "File \u001b[0;32m~/anaconda3/envs/mpenv/lib/python3.11/site-packages/scipy/integrate/_quadpack_py.py:1179\u001b[0m, in \u001b[0;36mnquad\u001b[0;34m(func, ranges, args, opts, full_output)\u001b[0m\n\u001b[1;32m   1177\u001b[0m \u001b[39melse\u001b[39;00m:\n\u001b[1;32m   1178\u001b[0m     opts \u001b[39m=\u001b[39m [opt \u001b[39mif\u001b[39;00m \u001b[39mcallable\u001b[39m(opt) \u001b[39melse\u001b[39;00m _OptFunc(opt) \u001b[39mfor\u001b[39;00m opt \u001b[39min\u001b[39;00m opts]\n\u001b[0;32m-> 1179\u001b[0m \u001b[39mreturn\u001b[39;00m _NQuad(func, ranges, opts, full_output)\u001b[39m.\u001b[39;49mintegrate(\u001b[39m*\u001b[39;49margs)\n",
      "File \u001b[0;32m~/anaconda3/envs/mpenv/lib/python3.11/site-packages/scipy/integrate/_quadpack_py.py:1233\u001b[0m, in \u001b[0;36m_NQuad.integrate\u001b[0;34m(self, *args, **kwargs)\u001b[0m\n\u001b[1;32m   1231\u001b[0m \u001b[39melse\u001b[39;00m:\n\u001b[1;32m   1232\u001b[0m     f \u001b[39m=\u001b[39m partial(\u001b[39mself\u001b[39m\u001b[39m.\u001b[39mintegrate, depth\u001b[39m=\u001b[39mdepth\u001b[39m+\u001b[39m\u001b[39m1\u001b[39m)\n\u001b[0;32m-> 1233\u001b[0m quad_r \u001b[39m=\u001b[39m quad(f, low, high, args\u001b[39m=\u001b[39;49margs, full_output\u001b[39m=\u001b[39;49m\u001b[39mself\u001b[39;49m\u001b[39m.\u001b[39;49mfull_output,\n\u001b[1;32m   1234\u001b[0m               \u001b[39m*\u001b[39;49m\u001b[39m*\u001b[39;49mopt)\n\u001b[1;32m   1235\u001b[0m value \u001b[39m=\u001b[39m quad_r[\u001b[39m0\u001b[39m]\n\u001b[1;32m   1236\u001b[0m abserr \u001b[39m=\u001b[39m quad_r[\u001b[39m1\u001b[39m]\n",
      "File \u001b[0;32m~/anaconda3/envs/mpenv/lib/python3.11/site-packages/scipy/integrate/_quadpack_py.py:465\u001b[0m, in \u001b[0;36mquad\u001b[0;34m(func, a, b, args, full_output, epsabs, epsrel, limit, points, weight, wvar, wopts, maxp1, limlst, complex_func)\u001b[0m\n\u001b[1;32m    462\u001b[0m     \u001b[39mreturn\u001b[39;00m retval\n\u001b[1;32m    464\u001b[0m \u001b[39mif\u001b[39;00m weight \u001b[39mis\u001b[39;00m \u001b[39mNone\u001b[39;00m:\n\u001b[0;32m--> 465\u001b[0m     retval \u001b[39m=\u001b[39m _quad(func, a, b, args, full_output, epsabs, epsrel, limit,\n\u001b[1;32m    466\u001b[0m                    points)\n\u001b[1;32m    467\u001b[0m \u001b[39melse\u001b[39;00m:\n\u001b[1;32m    468\u001b[0m     \u001b[39mif\u001b[39;00m points \u001b[39mis\u001b[39;00m \u001b[39mnot\u001b[39;00m \u001b[39mNone\u001b[39;00m:\n",
      "File \u001b[0;32m~/anaconda3/envs/mpenv/lib/python3.11/site-packages/scipy/integrate/_quadpack_py.py:579\u001b[0m, in \u001b[0;36m_quad\u001b[0;34m(func, a, b, args, full_output, epsabs, epsrel, limit, points)\u001b[0m\n\u001b[1;32m    577\u001b[0m         \u001b[39mreturn\u001b[39;00m _quadpack\u001b[39m.\u001b[39m_qagse(func,a,b,args,full_output,epsabs,epsrel,limit)\n\u001b[1;32m    578\u001b[0m     \u001b[39melse\u001b[39;00m:\n\u001b[0;32m--> 579\u001b[0m         \u001b[39mreturn\u001b[39;00m _quadpack\u001b[39m.\u001b[39;49m_qagie(func,bound,infbounds,args,full_output,epsabs,epsrel,limit)\n\u001b[1;32m    580\u001b[0m \u001b[39melse\u001b[39;00m:\n\u001b[1;32m    581\u001b[0m     \u001b[39mif\u001b[39;00m infbounds \u001b[39m!=\u001b[39m \u001b[39m0\u001b[39m:\n",
      "File \u001b[0;32m~/anaconda3/envs/mpenv/lib/python3.11/site-packages/scipy/integrate/_quadpack_py.py:1233\u001b[0m, in \u001b[0;36m_NQuad.integrate\u001b[0;34m(self, *args, **kwargs)\u001b[0m\n\u001b[1;32m   1231\u001b[0m \u001b[39melse\u001b[39;00m:\n\u001b[1;32m   1232\u001b[0m     f \u001b[39m=\u001b[39m partial(\u001b[39mself\u001b[39m\u001b[39m.\u001b[39mintegrate, depth\u001b[39m=\u001b[39mdepth\u001b[39m+\u001b[39m\u001b[39m1\u001b[39m)\n\u001b[0;32m-> 1233\u001b[0m quad_r \u001b[39m=\u001b[39m quad(f, low, high, args\u001b[39m=\u001b[39;49margs, full_output\u001b[39m=\u001b[39;49m\u001b[39mself\u001b[39;49m\u001b[39m.\u001b[39;49mfull_output,\n\u001b[1;32m   1234\u001b[0m               \u001b[39m*\u001b[39;49m\u001b[39m*\u001b[39;49mopt)\n\u001b[1;32m   1235\u001b[0m value \u001b[39m=\u001b[39m quad_r[\u001b[39m0\u001b[39m]\n\u001b[1;32m   1236\u001b[0m abserr \u001b[39m=\u001b[39m quad_r[\u001b[39m1\u001b[39m]\n",
      "File \u001b[0;32m~/anaconda3/envs/mpenv/lib/python3.11/site-packages/scipy/integrate/_quadpack_py.py:465\u001b[0m, in \u001b[0;36mquad\u001b[0;34m(func, a, b, args, full_output, epsabs, epsrel, limit, points, weight, wvar, wopts, maxp1, limlst, complex_func)\u001b[0m\n\u001b[1;32m    462\u001b[0m     \u001b[39mreturn\u001b[39;00m retval\n\u001b[1;32m    464\u001b[0m \u001b[39mif\u001b[39;00m weight \u001b[39mis\u001b[39;00m \u001b[39mNone\u001b[39;00m:\n\u001b[0;32m--> 465\u001b[0m     retval \u001b[39m=\u001b[39m _quad(func, a, b, args, full_output, epsabs, epsrel, limit,\n\u001b[1;32m    466\u001b[0m                    points)\n\u001b[1;32m    467\u001b[0m \u001b[39melse\u001b[39;00m:\n\u001b[1;32m    468\u001b[0m     \u001b[39mif\u001b[39;00m points \u001b[39mis\u001b[39;00m \u001b[39mnot\u001b[39;00m \u001b[39mNone\u001b[39;00m:\n",
      "File \u001b[0;32m~/anaconda3/envs/mpenv/lib/python3.11/site-packages/scipy/integrate/_quadpack_py.py:579\u001b[0m, in \u001b[0;36m_quad\u001b[0;34m(func, a, b, args, full_output, epsabs, epsrel, limit, points)\u001b[0m\n\u001b[1;32m    577\u001b[0m         \u001b[39mreturn\u001b[39;00m _quadpack\u001b[39m.\u001b[39m_qagse(func,a,b,args,full_output,epsabs,epsrel,limit)\n\u001b[1;32m    578\u001b[0m     \u001b[39melse\u001b[39;00m:\n\u001b[0;32m--> 579\u001b[0m         \u001b[39mreturn\u001b[39;00m _quadpack\u001b[39m.\u001b[39;49m_qagie(func,bound,infbounds,args,full_output,epsabs,epsrel,limit)\n\u001b[1;32m    580\u001b[0m \u001b[39melse\u001b[39;00m:\n\u001b[1;32m    581\u001b[0m     \u001b[39mif\u001b[39;00m infbounds \u001b[39m!=\u001b[39m \u001b[39m0\u001b[39m:\n",
      "File \u001b[0;32m/mnt/c/Users/Arnisa/Desktop/MP/reproduce/mp-tl-study/theory.py:46\u001b[0m, in \u001b[0;36mMeanField._qab_map_density\u001b[0;34m(self, y, x, qaa, qbb, c)\u001b[0m\n\u001b[1;32m     44\u001b[0m ha \u001b[39m=\u001b[39m np\u001b[39m.\u001b[39msqrt(qaa) \u001b[39m*\u001b[39m x\n\u001b[1;32m     45\u001b[0m hb \u001b[39m=\u001b[39m np\u001b[39m.\u001b[39msqrt(qbb) \u001b[39m*\u001b[39m y_x\n\u001b[0;32m---> 46\u001b[0m \u001b[39mreturn\u001b[39;00m gauss_density(x, \u001b[39m0.\u001b[39m, \u001b[39m1.\u001b[39m) \u001b[39m*\u001b[39m \u001b[39mself\u001b[39;49m\u001b[39m.\u001b[39;49mf(ha) \u001b[39m*\u001b[39m \\\n\u001b[1;32m     47\u001b[0m         gauss_density(y, \u001b[39m0.\u001b[39m, \u001b[39m1.\u001b[39m) \u001b[39m*\u001b[39m \u001b[39mself\u001b[39m\u001b[39m.\u001b[39mf(hb)\n",
      "Cell \u001b[0;32mIn[1], line 5\u001b[0m, in \u001b[0;36mrelu\u001b[0;34m(z)\u001b[0m\n\u001b[1;32m      4\u001b[0m \u001b[39mdef\u001b[39;00m \u001b[39mrelu\u001b[39m(z):\n\u001b[0;32m----> 5\u001b[0m     \u001b[39mreturn\u001b[39;00m np\u001b[39m.\u001b[39;49mmaximum(z, \u001b[39m0\u001b[39;49m)\n",
      "\u001b[0;31mKeyboardInterrupt\u001b[0m: "
     ]
    }
   ],
   "source": [
    "from tqdm import tqdm\n",
    "\n",
    "# mf = MeanField(np.tanh, d_tanh)\n",
    "mf = MeanField(relu, relu_derivative)\n",
    "\n",
    "# set initial condition\n",
    "qa0, qb0, c0 = 0.8, 0.8, 0.6\n",
    "\n",
    "# set variance of bias and weight\n",
    "# sb, sws = 0.05, np.linspace(1, 4, 50)\n",
    "sb, sws = 0.05, np.linspace(1.8, 2.2, 8)\n",
    "\n",
    "# set max literation and convergence threshold\n",
    "maxL, tol = 300, 1e-6\n",
    "\n",
    "# run mean field experiment\n",
    "xi_cs = []\n",
    "for sw in tqdm(sws): \n",
    "    xi_cs.append(mf.xi_c(sw, sb, qa0, qb0, c0, maxL, tol))"
   ]
  },
  {
   "cell_type": "code",
   "execution_count": 50,
   "metadata": {},
   "outputs": [
    {
     "data": {
      "text/plain": [
       "(0.999870288501636,\n",
       " [0.6,\n",
       "  0.8015677353139874,\n",
       "  0.8760428229385807,\n",
       "  0.9133049207425276,\n",
       "  0.9351065259441687,\n",
       "  0.949162067587336,\n",
       "  0.9588462783102571,\n",
       "  0.9658503091501326,\n",
       "  0.9711070907867099,\n",
       "  0.9751696052028205,\n",
       "  0.9783844879360304,\n",
       "  0.9809789875792432,\n",
       "  0.9831076707809199,\n",
       "  0.9848789532988972,\n",
       "  0.9863708930703369,\n",
       "  0.9876409665979947,\n",
       "  0.988732332528039,\n",
       "  0.9896779573498878,\n",
       "  0.9905034070870045,\n",
       "  0.991228782340547,\n",
       "  0.991870074123751,\n",
       "  0.9924401473128796,\n",
       "  0.9929494552177486,\n",
       "  0.9934065681166766,\n",
       "  0.9938185709957061,\n",
       "  0.9941913693555048,\n",
       "  0.9945299075779737,\n",
       "  0.994838369613779,\n",
       "  0.9951203065040178,\n",
       "  0.9953787516997059,\n",
       "  0.9956163099065405,\n",
       "  0.9958352287036424,\n",
       "  0.9960374563762561,\n",
       "  0.9962246895292168,\n",
       "  0.9963984098957216,\n",
       "  0.9965599192509578,\n",
       "  0.996710362252699,\n",
       "  0.9968507515953673,\n",
       "  0.9969819845417067,\n",
       "  0.9971048588935352,\n",
       "  0.9972200861193419,\n",
       "  0.9973283023870239,\n",
       "  0.997430078079443,\n",
       "  0.9975259258672293,\n",
       "  0.9976163076048659,\n",
       "  0.9977016404189377,\n",
       "  0.997782301807966,\n",
       "  0.9978586340382624,\n",
       "  0.997930948199368,\n",
       "  0.9979995275401464,\n",
       "  0.9980646304036199,\n",
       "  0.9981264928644501,\n",
       "  0.9981853309837014,\n",
       "  0.9982413428968939,\n",
       "  0.9982947104919684,\n",
       "  0.9983456011801869,\n",
       "  0.9983941689789746,\n",
       "  0.9984405560549074,\n",
       "  0.998484893683299,\n",
       "  0.998527303989768,\n",
       "  0.9985678978744694,\n",
       "  0.9986067805207066,\n",
       "  0.9986440485924937,\n",
       "  0.9986797920202629,\n",
       "  0.9987140944842107,\n",
       "  0.9987470339215198,\n",
       "  0.9987786830026257,\n",
       "  0.9988091095259206,\n",
       "  0.9988383768859396,\n",
       "  0.9988665443168789,\n",
       "  0.9988936673790209,\n",
       "  0.998919798000659,\n",
       "  0.9989449849215885,\n",
       "  0.9989692743874179,\n",
       "  0.9989927083873055,\n",
       "  0.999015327791542,\n",
       "  0.9990371706329627,\n",
       "  0.9990582727154935,\n",
       "  0.9990786677558522,\n",
       "  0.9990983875649768,\n",
       "  0.9991174621953449,\n",
       "  0.9991359199383991,\n",
       "  0.9991537875952385,\n",
       "  0.9991710905303457,\n",
       "  0.9991878526798863,\n",
       "  0.9992040967602254,\n",
       "  0.9992198442721515,\n",
       "  0.9992351156101913,\n",
       "  0.99924993010239,\n",
       "  0.9992643061128144,\n",
       "  0.9992782610708435,\n",
       "  0.9992918115487186,\n",
       "  0.9993049732809263,\n",
       "  0.9993177612521453,\n",
       "  0.9993301897229527,\n",
       "  0.9993422722703816,\n",
       "  0.9993540218292465,\n",
       "  0.9993654507235142,\n",
       "  0.9993765707146093,\n",
       "  0.9993873930326936,\n",
       "  0.9993979283521729,\n",
       "  0.9994081869120871,\n",
       "  0.9994181784787299,\n",
       "  0.999427912393337,\n",
       "  0.9994373975881966,\n",
       "  0.9994466425866643,\n",
       "  0.9994556555681569,\n",
       "  0.9994644443561291,\n",
       "  0.9994730164422071,\n",
       "  0.9994813790087776,\n",
       "  0.9994895389249951,\n",
       "  0.9994975028057375,\n",
       "  0.9995052769740821,\n",
       "  0.9995128674981619,\n",
       "  0.9995202805697255,\n",
       "  0.9995275210615671,\n",
       "  0.9995345947096911,\n",
       "  0.9995415066838301,\n",
       "  0.9995482619496966,\n",
       "  0.9995548652805583,\n",
       "  0.99956132130437,\n",
       "  0.9995676343647361,\n",
       "  0.9995738087537652,\n",
       "  0.9995798485616086,\n",
       "  0.9995857577295464,\n",
       "  0.9995915400556181,\n",
       "  0.999597199203141,\n",
       "  0.999602738688918,\n",
       "  0.9996081619185204,\n",
       "  0.9996134721692542,\n",
       "  0.9996186726115949,\n",
       "  0.9996237662827958,\n",
       "  0.9996287561352257,\n",
       "  0.9996336450104033,\n",
       "  0.9996384356575779,\n",
       "  0.9996431312495802,\n",
       "  0.9996477338505686,\n",
       "  0.9996522459334242,\n",
       "  0.9996566698882259,\n",
       "  0.9996610073947199,\n",
       "  0.9996652613067222,\n",
       "  0.9996694337911869,\n",
       "  0.9996735269411152,\n",
       "  0.9996775427857052,\n",
       "  0.9996814832864589,\n",
       "  0.9996853503426143,\n",
       "  0.9996891457986925,\n",
       "  0.9996928714257873,\n",
       "  0.9996965289546607,\n",
       "  0.9997001200590222,\n",
       "  0.9997036463549175,\n",
       "  0.9997071097282443,\n",
       "  0.999710511083548,\n",
       "  0.9997138522070008,\n",
       "  0.999717134533473,\n",
       "  0.9997203594521736,\n",
       "  0.9997235283125738,\n",
       "  0.9997266424813172,\n",
       "  0.9997297031109188,\n",
       "  0.9997327115058809,\n",
       "  0.9997356688480242,\n",
       "  0.9997385763095371,\n",
       "  0.9997414350179192,\n",
       "  0.99974424608985,\n",
       "  0.999747010562409,\n",
       "  0.9997497294854554,\n",
       "  0.9997524038690081,\n",
       "  0.9997550346924293,\n",
       "  0.9997576229115132,\n",
       "  0.9997601694502519,\n",
       "  0.9997626752124101,\n",
       "  0.9997651410929649,\n",
       "  0.9997675679055545,\n",
       "  0.9997699565057176,\n",
       "  0.9997723076993735,\n",
       "  0.9997746222733589,\n",
       "  0.9997769009938533,\n",
       "  0.9997791446069122,\n",
       "  0.9997813538530359,\n",
       "  0.9997835294250718,\n",
       "  0.9997856720028612,\n",
       "  0.9997877822714836,\n",
       "  0.9997898608809913,\n",
       "  0.9997919084723079,\n",
       "  0.9997939256669361,\n",
       "  0.9997959130734803,\n",
       "  0.9997978712829537,\n",
       "  0.9997998008653485,\n",
       "  0.9998017023888498,\n",
       "  0.9998035763974574,\n",
       "  0.9998054234298207,\n",
       "  0.9998072440065947,\n",
       "  0.9998090386361062,\n",
       "  0.9998108078165284,\n",
       "  0.9998125520315934,\n",
       "  0.999814271907619,\n",
       "  0.9998159676002055,\n",
       "  0.9998176397132783,\n",
       "  0.9998192886889111,\n",
       "  0.9998209149569525,\n",
       "  0.9998225189364023,\n",
       "  0.9998241010382448,\n",
       "  0.9998256616635965,\n",
       "  0.9998272012120112,\n",
       "  0.9998287200504589,\n",
       "  0.999830218560178,\n",
       "  0.99983169710749,\n",
       "  0.9998331560496729,\n",
       "  0.9998345957363558,\n",
       "  0.9998360165074339,\n",
       "  0.999837418698104,\n",
       "  0.9998388028311012,\n",
       "  0.9998401688293895,\n",
       "  0.9998415172053926,\n",
       "  0.9998428482631325,\n",
       "  0.9998441623026266,\n",
       "  0.9998454596145385,\n",
       "  0.9998467404862589,\n",
       "  0.9998480051968701,\n",
       "  0.9998492540192162,\n",
       "  0.9998504872269415,\n",
       "  0.9998517050766916,\n",
       "  0.9998529078275058,\n",
       "  0.9998540957302635,\n",
       "  0.999855269042567,\n",
       "  0.9998564279828943,\n",
       "  0.9998575727977187,\n",
       "  0.9998587037208044,\n",
       "  0.999859820977051,\n",
       "  0.9998609247886345,\n",
       "  0.9998620153720872,\n",
       "  0.9998630929409057,\n",
       "  0.9998641576889737,\n",
       "  0.9998652098466035,\n",
       "  0.999866249606809,\n",
       "  0.9998672771591179,\n",
       "  0.9998682927020524,\n",
       "  0.9998692964212309,\n",
       "  0.999870288501636])"
      ]
     },
     "execution_count": 50,
     "metadata": {},
     "output_type": "execute_result"
    }
   ],
   "source": [
    "# what is an example c star (fixed point)?\n",
    "sw = 2.0\n",
    "sb = 0.5\n",
    "mf.c_star(sw, sb, qa0, qb0, c0, maxL=maxL, tol=tol)"
   ]
  },
  {
   "cell_type": "code",
   "execution_count": 83,
   "metadata": {},
   "outputs": [
    {
     "data": {
      "text/plain": [
       "array([1.8       , 1.85714286, 1.91428571, 1.97142857, 2.02857143,\n",
       "       2.08571429, 2.14285714, 2.2       ])"
      ]
     },
     "execution_count": 83,
     "metadata": {},
     "output_type": "execute_result"
    }
   ],
   "source": [
    "sws"
   ]
  },
  {
   "cell_type": "code",
   "execution_count": 84,
   "metadata": {},
   "outputs": [
    {
     "data": {
      "text/plain": [
       "[9.37275410081525,\n",
       " 13.21282854150405,\n",
       " 21.797155828871492,\n",
       " 56.14273118330948,\n",
       " -162.4272802299052,\n",
       " -30.437620006012377]"
      ]
     },
     "execution_count": 84,
     "metadata": {},
     "output_type": "execute_result"
    }
   ],
   "source": [
    "xi_cs"
   ]
  },
  {
   "cell_type": "code",
   "execution_count": 70,
   "metadata": {},
   "outputs": [],
   "source": [
    "def simple_plot(x, y):\n",
    "    plt.plot(x, y)\n",
    "    plt.xlim(1.0, 4.0)\n",
    "    plt.ylim(0, 10)\n",
    "    plt.xlabel('$\\sigma_\\omega^2$', fontsize=16)\n",
    "    plt.ylabel('depth scale', fontsize=16)\n",
    "    plt.show()"
   ]
  },
  {
   "cell_type": "code",
   "execution_count": 75,
   "metadata": {},
   "outputs": [
    {
     "data": {
      "image/png": "[encoded data removed]",
      "text/plain": [
       "<Figure size 640x480 with 1 Axes>"
      ]
     },
     "metadata": {},
     "output_type": "display_data"
    }
   ],
   "source": [
    "simple_plot(sws, xi_cs)"
   ]
  },
  {
   "cell_type": "code",
   "execution_count": 57,
   "metadata": {},
   "outputs": [
    {
     "data": {
      "text/plain": [
       "(1.9999999999999996, 2.303929616531697e-19)"
      ]
     },
     "execution_count": 57,
     "metadata": {},
     "output_type": "execute_result"
    }
   ],
   "source": [
    "mf.sw_sb(, 1)"
   ]
  },
  {
   "cell_type": "code",
   "execution_count": 46,
   "metadata": {},
   "outputs": [
    {
     "data": {
      "image/png": "[encoded data removed]",
      "text/plain": [
       "<Figure size 640x480 with 1 Axes>"
      ]
     },
     "metadata": {},
     "output_type": "display_data"
    }
   ],
   "source": [
    "simple_plot(sws, xi_cs)"
   ]
  },
  {
   "cell_type": "code",
   "execution_count": 24,
   "metadata": {},
   "outputs": [
    {
     "data": {
      "image/png": "[encoded data removed]",
      "text/plain": [
       "<Figure size 500x500 with 1 Axes>"
      ]
     },
     "metadata": {},
     "output_type": "display_data"
    }
   ],
   "source": [
    "background = [255.0/255.0, 229/255.0, 204/255.0]\n",
    "fontsize=16\n",
    "\n",
    "mf = MeanField(np.tanh, d_tanh)\n",
    "n = 50\n",
    "qrange = np.linspace(1e-5, 2.25, n)\n",
    "\n",
    "sw = [mf.sw_sb(q, 1)[0] for q in qrange]\n",
    "sb = [mf.sw_sb(q, 1)[1] for q in qrange]\n",
    "\n",
    "\n",
    "plt.figure(figsize=(5, 5))\n",
    "plt.plot(sw, sb)\n",
    "plt.xlim(0.5, 3)\n",
    "plt.ylim(0, 0.25)\n",
    "plt.title('Phase diagram', fontsize=fontsize)\n",
    "plt.xlabel('$\\sigma_w^2$', fontsize=fontsize)\n",
    "plt.ylabel('$\\sigma_b^2$', fontsize=fontsize)\n",
    "\n",
    "plt.gca().set_facecolor(background)\n",
    "plt.gcf().set_size_inches(plt.gcf().get_size_inches()[1], plt.gcf().get_size_inches()[1])"
   ]
  },
  {
   "cell_type": "code",
   "execution_count": 37,
   "metadata": {},
   "outputs": [
    {
     "data": {
      "image/png": "[encoded data removed]",
      "text/plain": [
       "<Figure size 500x500 with 1 Axes>"
      ]
     },
     "metadata": {},
     "output_type": "display_data"
    }
   ],
   "source": [
    "background = [255.0/255.0, 229/255.0, 204/255.0]\n",
    "fontsize=16\n",
    "\n",
    "mf = MeanField(relu, relu_derivative)\n",
    "n = 50\n",
    "qrange = np.linspace(0, 5., n)\n",
    "\n",
    "sw = [mf.sw_sb(q, 1)[0] for q in qrange]\n",
    "sb = [mf.sw_sb(q, 1)[1] for q in qrange]\n",
    "\n",
    "\n",
    "plt.figure(figsize=(5, 5))\n",
    "plt.plot(sw, sb)\n",
    "plt.xlim(1.999, 2.001)\n",
    "# plt.ylim(0, 0.25)\n",
    "plt.title('Phase diagram', fontsize=fontsize)\n",
    "plt.xlabel('$\\sigma_w^2$', fontsize=fontsize)\n",
    "plt.ylabel('$\\sigma_b^2$', fontsize=fontsize)\n",
    "\n",
    "plt.gca().set_facecolor(background)\n",
    "plt.gcf().set_size_inches(plt.gcf().get_size_inches()[1], plt.gcf().get_size_inches()[1])"
   ]
  },
  {
   "cell_type": "code",
   "execution_count": 36,
   "metadata": {},
   "outputs": [
    {
     "data": {
      "text/plain": [
       "[nan,\n",
       " nan,\n",
       " nan,\n",
       " nan,\n",
       " nan,\n",
       " nan,\n",
       " nan,\n",
       " nan,\n",
       " nan,\n",
       " nan,\n",
       " nan,\n",
       " nan,\n",
       " nan,\n",
       " nan,\n",
       " nan,\n",
       " nan,\n",
       " nan,\n",
       " nan,\n",
       " nan,\n",
       " nan,\n",
       " nan,\n",
       " nan,\n",
       " nan,\n",
       " nan,\n",
       " nan,\n",
       " 1.9999999999999996,\n",
       " 2.0000000000000058,\n",
       " 2.0000000000000027,\n",
       " 1.9999999999999982,\n",
       " 2.0000000000000004,\n",
       " 2.0,\n",
       " 1.9999999999999996,\n",
       " 2.0000000000000004,\n",
       " 1.9999999999999982,\n",
       " 1.9999999999999991,\n",
       " 1.9999999999999996,\n",
       " 2.0000000000000004,\n",
       " 2.0,\n",
       " 2.0,\n",
       " 2.0,\n",
       " 1.9999999999999996,\n",
       " 2.0,\n",
       " 1.9999999999999996,\n",
       " 1.9999999999999996,\n",
       " 2.0,\n",
       " 2.0,\n",
       " 1.9999999999999996,\n",
       " 2.0,\n",
       " 1.9999999999999996,\n",
       " 1.9999999999999996]"
      ]
     },
     "execution_count": 36,
     "metadata": {},
     "output_type": "execute_result"
    }
   ],
   "source": [
    "sw"
   ]
  },
  {
   "cell_type": "code",
   "execution_count": 26,
   "metadata": {},
   "outputs": [
    {
     "data": {
      "text/plain": [
       "[1.3332586580984754e-15,\n",
       " 0.00010134032300423285,\n",
       " 0.0006655671557690146,\n",
       " 0.001898818749204001,\n",
       " 0.003883712394599087,\n",
       " 0.0066472155118615095,\n",
       " 0.01018877451679201,\n",
       " 0.014493658772711804,\n",
       " 0.019539842907867422,\n",
       " 0.025301754755265027,\n",
       " 0.03175238763066174,\n",
       " 0.03886451230121657,\n",
       " 0.04661137342686972,\n",
       " 0.054967082118692834,\n",
       " 0.06390682570701167,\n",
       " 0.07340696621261844,\n",
       " 0.0834450707966965,\n",
       " 0.09399990089938237,\n",
       " 0.10505137679384524,\n",
       " 0.11658052813393727,\n",
       " 0.12856943721731418,\n",
       " 0.1410011792318021,\n",
       " 0.15385976217283504,\n",
       " 0.16713006809398645,\n",
       " 0.18079779668310114,\n",
       " 0.19484941171884085,\n",
       " 0.20927209067703567,\n",
       " 0.22405367757164885,\n",
       " 0.23918263899760417,\n",
       " 0.25464802327001346,\n",
       " 0.2704394225114368,\n",
       " 0.28654693751585336,\n",
       " 0.30296114520815354,\n",
       " 0.319673068516688,\n",
       " 0.33667414848052046,\n",
       " 0.3539562184206082,\n",
       " 0.3715114800134187,\n",
       " 0.3893324811160017,\n",
       " 0.40741209520209565,\n",
       " 0.42574350227953617,\n",
       " 0.4443201711694347,\n",
       " 0.4631358430373502,\n",
       " 0.4821845160757843,\n",
       " 0.5014604312458828,\n",
       " 0.5209580589940233,\n",
       " 0.5406720868662587,\n",
       " 0.5605974079501632,\n",
       " 0.5807291100797223,\n",
       " 0.6010624657444175,\n",
       " 0.6215929226486991]"
      ]
     },
     "execution_count": 26,
     "metadata": {},
     "output_type": "execute_result"
    }
   ],
   "source": [
    "sb"
   ]
  },
  {
   "cell_type": "code",
   "execution_count": 88,
   "metadata": {},
   "outputs": [],
   "source": [
    "import copy\n",
    "def change(a):\n",
    "    a = copy.deepcopy(a)\n",
    "    a.append(5)\n",
    "    print(a)"
   ]
  },
  {
   "cell_type": "code",
   "execution_count": 89,
   "metadata": {},
   "outputs": [
    {
     "name": "stdout",
     "output_type": "stream",
     "text": [
      "[1, 2, 3, 5]\n"
     ]
    }
   ],
   "source": [
    "a = [1,2,3]\n",
    "change(a)"
   ]
  },
  {
   "cell_type": "code",
   "execution_count": 90,
   "metadata": {},
   "outputs": [
    {
     "data": {
      "text/plain": [
       "[1, 2, 3]"
      ]
     },
     "execution_count": 90,
     "metadata": {},
     "output_type": "execute_result"
    }
   ],
   "source": [
    "a"
   ]
  }
 ],
 "metadata": {
  "kernelspec": {
   "display_name": "mpenv",
   "language": "python",
   "name": "python3"
  },
  "language_info": {
   "codemirror_mode": {
    "name": "ipython",
    "version": 3
   },
   "file_extension": ".py",
   "mimetype": "text/x-python",
   "name": "python",
   "nbconvert_exporter": "python",
   "pygments_lexer": "ipython3",
   "version": "3.11.4"
  },
  "orig_nbformat": 4
 },
 "nbformat": 4,
 "nbformat_minor": 2
}
